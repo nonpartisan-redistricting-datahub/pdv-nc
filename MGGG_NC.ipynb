{
 "cells": [
  {
   "cell_type": "code",
   "execution_count": 1,
   "metadata": {},
   "outputs": [],
   "source": [
    "import matplotlib.pyplot as plt # for plotting maps\n",
    "import maup # mggg's library for proration, see documentation here: https://github.com/mggg/maup\n",
    "import pandas as pd # standard python data library\n",
    "import geopandas as gp # the geo-version of pandas\n",
    "import numpy as np \n",
    "from statistics import mean, median\n",
    "from pandas import read_csv"
   ]
  },
  {
   "cell_type": "markdown",
   "metadata": {},
   "source": [
    "**Load datasets**"
   ]
  },
  {
   "cell_type": "code",
   "execution_count": 2,
   "metadata": {},
   "outputs": [],
   "source": [
    "#Load VTD shapefile\n",
    "#NOTE: This has all the relevant data from the MGGG file except for '12 Presidential & '16 Election results, demographic data\n",
    "\n",
    "vtds=gp.read_file(\"./raw-from-files/VTD _shapefile/R2016_Assignment_Layers.gdb\")\n",
    "\n",
    "#Load Block-VTD Key File to Aggregate Demographic Data to the VTD Level\n",
    "\n",
    "block_keys=pd.read_csv(\"./raw-from-files/block_keys/Block_Level_GeoKeys.tab\",sep=\"\\t\",engine='python')\n",
    "\n",
    "#2012 Election Data \n",
    "\n",
    "election_data_2012=pd.read_csv(\"./raw-from-files/election_data/2012 _election/results_pct_20121106.txt\",delimiter=\",\")\n",
    "\n",
    "#2016 Election Data \n",
    "\n",
    "election_data_2016=pd.read_csv(\"./raw-from-files/election_data/2016_election/results_pct_20161108!.txt\", sep=\"\\t\",engine='python')\n",
    "\n",
    "#MGGG Assigns districts from 2011, 2016, and new judge enacted plan \n",
    "#Taken from NCLEG Congressional Districts Shapefile\n",
    "\n",
    "newplan= gp.read_file('./raw-from-files/district_plan/newplan/shp (3)/2016_Contingent_Congressional_Plan_Corrected.shp')\n",
    "\n",
    "oldplan=gp.read_file('./raw-from-files/district_plan/oldplan/shp (3)/Rucho_Lewis_Congress_3.shp')\n",
    "\n",
    "judge=gp.read_file('./raw-from-files/district_plan/judge/HB1029 3rd Edition - Shapefile/C-Goodwin-A-1-TC.shp')\n",
    "\n",
    "#MGGG's File (Loading now to perform a quick check that the vtd shapefile is the correct one)\n",
    "\n",
    "final_mggg=gp.read_file('./raw-from-files/mggg_file/NC_VTD/NC_VTD.shp')\n"
   ]
  },
  {
   "cell_type": "code",
   "execution_count": null,
   "metadata": {},
   "outputs": [],
   "source": [
    "print(vtds.plot())"
   ]
  },
  {
   "cell_type": "code",
   "execution_count": null,
   "metadata": {},
   "outputs": [],
   "source": [
    "final_mggg.newplan.plot()"
   ]
  },
  {
   "cell_type": "code",
   "execution_count": null,
   "metadata": {},
   "outputs": [],
   "source": [
    "print(vtds.columns)"
   ]
  },
  {
   "cell_type": "markdown",
   "metadata": {},
   "source": [
    "**Check to Make Sure Shapefile is the Right One**"
   ]
  },
  {
   "cell_type": "code",
   "execution_count": null,
   "metadata": {},
   "outputs": [],
   "source": [
    "final_mggg[\"geometry\"]=final_mggg.buffer(0)\n",
    "vtds[\"geometry\"]=vtds.buffer(0)\n",
    "proj = vtds.crs\n",
    "final_mggg = final_mggg.to_crs(proj)\n",
    "file = vtds.difference(final_mggg)\n",
    "print(sum(file.area)/sum(vtds.area))\n",
    "print(final_mggg.geom_almost_equals(vtds,decimal=6))"
   ]
  },
  {
   "cell_type": "markdown",
   "metadata": {},
   "source": [
    "**Take a Look at VTD File as well as MGGG File to see what is present / missing**"
   ]
  },
  {
   "cell_type": "code",
   "execution_count": 3,
   "metadata": {},
   "outputs": [
    {
     "name": "stdout",
     "output_type": "stream",
     "text": [
      "Index(['ALAND10', 'AWATER10', 'VTD', 'County', 'VTD_Key', 'VTD_Name',\n",
      "       'PL10AA_TOT', 'PL10VA_TOT', 'EL08G_GV_D', 'EL08G_GV_R', 'EL08G_GV_L',\n",
      "       'EL08G_GV_T', 'EL08G_USS_', 'EL08G_US_1', 'EL08G_US_2', 'EL08G_US_3',\n",
      "       'EL08G_US_4', 'EL10G_USS_', 'EL10G_US_1', 'EL10G_US_2', 'EL10G_US_3',\n",
      "       'EL10G_US_4', 'EL12G_GV_D', 'EL12G_GV_R', 'EL12G_GV_L', 'EL12G_GV_W',\n",
      "       'EL12G_GV_1', 'EL12G_GV_T', 'EL14G_USS_', 'EL14G_US_1', 'EL14G_US_2',\n",
      "       'EL14G_US_3', 'EL14G_US_4', 'Shape_Leng', 'Shape_Area', 'EL12G_PR_D',\n",
      "       'EL12G_PR_R', 'EL12G_PR_L', 'EL12G_PR_W', 'EL12G_PR_1', 'EL12G_PR_T',\n",
      "       'EL16G_PR_R', 'EL16G_PR_D', 'EL16G_PR_L', 'EL16G_PR_W', 'EL16G_PR_T',\n",
      "       'EL16G_USS_', 'EL16G_US_1', 'EL16G_US_2', 'EL16G_US_3', 'EL16G_GV_D',\n",
      "       'EL16G_GV_R', 'EL16G_GV_L', 'EL16G_GV_T', 'BPOP', 'nBPOP', 'judge',\n",
      "       'newplan', 'oldplan', 'TOTPOP', 'NH_WHITE', 'NH_BLACK', 'NH_AMIN',\n",
      "       'NH_ASIAN', 'NH_NHPI', 'NH_OTHER', 'NH_2MORE', 'HISP', 'H_WHITE',\n",
      "       'H_BLACK', 'H_AMIN', 'H_ASIAN', 'H_NHPI', 'H_OTHER', 'H_2MORE', 'VAP',\n",
      "       'HVAP', 'WVAP', 'BVAP', 'AMINVAP', 'ASIANVAP', 'NHPIVAP', 'OTHERVAP',\n",
      "       '2MOREVAP', 'geometry'],\n",
      "      dtype='object')\n"
     ]
    }
   ],
   "source": [
    "#print(vtds.columns)\n",
    "print(final_mggg.columns)"
   ]
  },
  {
   "cell_type": "code",
   "execution_count": 4,
   "metadata": {},
   "outputs": [],
   "source": [
    "#pd.set_option('display.max_columns', None)\n",
    "#display(vtds)\n",
    "#display(final_mggg)"
   ]
  },
  {
   "cell_type": "markdown",
   "metadata": {},
   "source": [
    "**Rename and Clean Columns in VTD File**"
   ]
  },
  {
   "cell_type": "code",
   "execution_count": 5,
   "metadata": {},
   "outputs": [],
   "source": [
    "#Renaming the 2008 Election Data\n",
    "vtds = vtds.rename(columns={\"EL08G_GV_TOT\": \"EL08G_GV_T\",\"EL08G_USS_D\": \"EL08G_USS_\",\"EL08G_USS_R\": \"EL08G_US_1\",\"EL08G_USS_L\": \"EL08G_US_2\",\"EL08G_USS_W\": \"EL08G_US_3\",\"EL08G_USS_TOT\": \"EL08G_US_4\"})\n",
    "\n",
    "#Renaming the 2010 Election Data\n",
    "vtds = vtds.rename(columns={\"EL10G_USS_D\": \"EL10G_USS_\",\"EL10G_USS_R\": \"EL10G_US_1\",\"EL10G_USS_L\": \"EL10G_US_2\",\"EL10G_USS_W\": \"EL10G_US_3\",\"EL10G_USS_TOT\": \"EL10G_US_4\"})\n",
    "\n",
    "#Renaming the 2012 Election Data Columns to match MGGG-NC\n",
    "#(ASK ABOUT THIS) From merge_data: column EL12G_GV_W2 > MGGG-NC Column EL12G_GV_1 (Total number of votes for 2012 gubernatorial candidates)\n",
    "#(ASK ABOUT THIS) From merge_data: column EL12G_GV_W1 > MGGG-NC Column EL12G_GV_W (Total number of votes for Donald Kreamer as 2012 gubernatorial candidates)\n",
    "vtds = vtds.rename(columns={\"EL12G_GV_W1\": \"EL12G_GV_W\",\"EL12G_GV_W2\": \"EL12G_GV_1\",\"EL12G_GV_TOT\": \"EL12G_GV_T\"})\n",
    "\n",
    "#Renaming the 2014 Election Data\n",
    "vtds = vtds.rename(columns={\"EL14G_USS_R\": \"EL14G_USS_\",\"EL14G_USS_D\": \"EL14G_US_1\",\"EL14G_USS_L\": \"EL14G_US_2\",\"EL14G_USS_WI\": \"EL14G_US_3\",\"EL14G_USS_TOT\": \"EL14G_US_4\"})\n",
    "\n",
    "#Rename shapefile data\n",
    "vtds = vtds.rename(columns={\"Shape_Length\":\"Shape_Leng\"})"
   ]
  },
  {
   "cell_type": "code",
   "execution_count": 6,
   "metadata": {},
   "outputs": [
    {
     "name": "stdout",
     "output_type": "stream",
     "text": [
      "Index(['ALAND10', 'AWATER10', 'VTD', 'County', 'VTD_Key', 'VTD_Code',\n",
      "       'VTD_Name', 'PL10AA_TOT', 'PL10VA_TOT', 'EL08G_AG_D', 'EL08G_AG_R',\n",
      "       'EL08G_AG_TOT', 'EL08G_AD_D', 'EL08G_AD_R', 'EL08G_AD_TOT',\n",
      "       'EL08G_CA_D', 'EL08G_CA_R', 'EL08G_CA_TOT', 'EL08G_CI_D', 'EL08G_CI_R',\n",
      "       'EL08G_CI_L', 'EL08G_CI_W', 'EL08G_CI_TOT', 'EL08G_CL_D', 'EL08G_CL_R',\n",
      "       'EL08G_CL_TOT', 'EL08G_GV_D', 'EL08G_GV_R', 'EL08G_GV_L', 'EL08G_GV_T',\n",
      "       'EL08G_LG_D', 'EL08G_LG_R', 'EL08G_LG_L', 'EL08G_LG_TOT', 'EL08G_SPI_D',\n",
      "       'EL08G_SPI_R', 'EL08G_SPI_TOT', 'EL08G_USS_', 'EL08G_US_1',\n",
      "       'EL08G_US_2', 'EL08G_US_3', 'EL08G_US_4', 'EL10G_USS_', 'EL10G_US_1',\n",
      "       'EL10G_US_2', 'EL10G_US_3', 'EL10G_US_4', 'EL12G_GV_D', 'EL12G_GV_R',\n",
      "       'EL12G_GV_L', 'EL12G_GV_W', 'EL12G_GV_1', 'EL12G_GV_T', 'EL12G_LG_D',\n",
      "       'EL12G_LG_R', 'EL12G_LG_TOT', 'EL12G_AD_D', 'EL12G_AD_R',\n",
      "       'EL12G_AD_TOT', 'EL12G_CA_D', 'EL12G_CA_R', 'EL12G_CA_TOT',\n",
      "       'EL12G_CI_D', 'EL12G_CI_R', 'EL12G_CI_TOT', 'EL12G_CL_D', 'EL12G_CL_R',\n",
      "       'EL12G_CL_TOT', 'EL12G_SS_D', 'EL12G_SS_R', 'EL12G_SS_TOT',\n",
      "       'EL12G_SPI_D', 'EL12G_SPI_R', 'EL12G_SPI_TOT', 'EL12G_TR_D',\n",
      "       'EL12G_TR_R', 'EL12G_TR_TOT', 'EL14G_USS_', 'EL14G_US_1', 'EL14G_US_2',\n",
      "       'EL14G_US_3', 'EL14G_US_4', 'Shape_Leng', 'Shape_Area', 'geometry'],\n",
      "      dtype='object')\n"
     ]
    }
   ],
   "source": [
    "print(vtds.columns)"
   ]
  },
  {
   "cell_type": "code",
   "execution_count": 7,
   "metadata": {},
   "outputs": [],
   "source": [
    "vtds = vtds[['ALAND10', 'AWATER10', 'VTD', 'County', 'VTD_Key', 'VTD_Name',\n",
    "       'PL10AA_TOT', 'PL10VA_TOT', 'EL08G_GV_D', 'EL08G_GV_R', 'EL08G_GV_L',\n",
    "       'EL08G_GV_T', 'EL08G_USS_', 'EL08G_US_1', 'EL08G_US_2', 'EL08G_US_3',\n",
    "       'EL08G_US_4', 'EL10G_USS_', 'EL10G_US_1', 'EL10G_US_2', 'EL10G_US_3',\n",
    "       'EL10G_US_4', 'EL12G_GV_D', 'EL12G_GV_R', 'EL12G_GV_L', 'EL12G_GV_W',\n",
    "       'EL12G_GV_1', 'EL12G_GV_T', 'EL14G_USS_', 'EL14G_US_1', 'EL14G_US_2',\n",
    "       'EL14G_US_3', 'EL14G_US_4', 'Shape_Leng', 'Shape_Area','geometry']]"
   ]
  },
  {
   "cell_type": "markdown",
   "metadata": {},
   "source": [
    "Remaining work: Add in demographic data, district assignments from 3 plans and '12 presidential + '16 results."
   ]
  },
  {
   "cell_type": "markdown",
   "metadata": {},
   "source": [
    "**Load Census API**"
   ]
  },
  {
   "cell_type": "markdown",
   "metadata": {},
   "source": [
    "Retrieve demographic data from Census API\n",
    "\n",
    "To see the full list of census variables, look here: https://api.census.gov/data/2010/dec/sf1/variables.html"
   ]
  },
  {
   "cell_type": "code",
   "execution_count": null,
   "metadata": {},
   "outputs": [],
   "source": [
    "# Code chunk by Melisande Teng - VRDI 2019\n",
    "variables = [\n",
    "    # pop\n",
    "    \"P005001\",\n",
    "    \"P005003\",\n",
    "    \"P005004\",\n",
    "    \"P005005\",\n",
    "    \"P005006\",\n",
    "    \"P005007\",\n",
    "    \"P005008\",\n",
    "    \"P005009\",\n",
    "    \"P005010\",\n",
    "    \"P005011\",\n",
    "    \"P005012\",\n",
    "    \"P005013\",\n",
    "    \"P005014\",\n",
    "    \"P005015\",\n",
    "    \"P005016\",\n",
    "    \"P005017\",\n",
    "    # vap\n",
    "    \"P011001\",\n",
    "    \"P011002\",\n",
    "    \"P011005\",\n",
    "    \"P011006\",\n",
    "    \"P011007\",\n",
    "    \"P011008\",\n",
    "    \"P011009\",\n",
    "    \"P011010\",\n",
    "    \"P011011\",\n",
    "]\n",
    "\n",
    "keys = [\n",
    "    # pop\n",
    "    \"TOTPOP\",  # these follow from above, so TOTPOP = P005001\n",
    "    \"NH_WHITE\",\n",
    "    \"NH_BLACK\",\n",
    "    \"NH_AMIN\",\n",
    "    \"NH_ASIAN\",\n",
    "    \"NH_NHPI\",\n",
    "    \"NH_OTHER\",\n",
    "    \"NH_2MORE\",\n",
    "    \"HISP\",\n",
    "    \"H_WHITE\",\n",
    "    \"H_BLACK\",\n",
    "    \"H_AMIN\",\n",
    "    \"H_ASIAN\",\n",
    "    \"H_NHPI\",\n",
    "    \"H_OTHER\",\n",
    "    \"H_2MORE\",\n",
    "    # vap\n",
    "    \"VAP\",\n",
    "    \"HVAP\",\n",
    "    \"WVAP\",\n",
    "    \"BVAP\",\n",
    "    \"AMINVAP\",\n",
    "    \"ASIANVAP\",\n",
    "    \"NHPIVAP\",\n",
    "    \"OTHERVAP\",\n",
    "    \"2MOREVAP\",\n",
    "]\n",
    "\n",
    "import requests\n",
    "\n",
    "def counties(state_fips):\n",
    "    \"\"\"Inputs: state fips code\n",
    "    Process: Retrieves a list of counties in the given state from the Census API.  \n",
    "    Outputs: A list of county fips codes in the state. \"\"\"\n",
    "    resp = requests.get(\n",
    "        \"https://api.census.gov/data/2010/dec/sf1\"\n",
    "        \"?get=NAME&for=county:*&in=state:{}\".format(state_fips)\n",
    "    )\n",
    "    header, *rows = resp.json()\n",
    "    county_column_index = header.index(\"county\")\n",
    "    county_fips_codes = set(row[county_column_index] for row in rows)\n",
    "    return county_fips_codes\n",
    "\n",
    "\n",
    "def block_data_for_county(state_fips, county_fips, variables=variables, keys=keys):\n",
    "    \"\"\"Inputs: state fips code, county fips code, list of variables and corresponding keys. \n",
    "    Process: formats the query to call the Census API. \n",
    "    Outputs: data for the county in a pandas dataframe. \"\"\"\n",
    "    url = (\n",
    "        \"https://api.census.gov/data/2010/dec/sf1\"\n",
    "        + \"?get={},NAME&for=block:*\".format(\",\".join(variables))\n",
    "        + \"&in=state:{}&in=county:{}&in=tract:*\".format(state_fips, county_fips)\n",
    "    )\n",
    "    resp = requests.get(url)\n",
    "    header, *rows = resp.json()\n",
    "    variable_lookup = dict(zip(variables, keys))\n",
    "    columns = [variable_lookup.get(column_name, column_name) for column_name in header]\n",
    "    dtypes = {key: int for key in keys}\n",
    "    dtypes.update({key: str for key in [\"state\", \"county\", \"tract\", \"block\"]})\n",
    "    data = pd.DataFrame.from_records(rows, columns=columns).astype(dtypes)\n",
    "    data[\"geoid\"] = data[\"state\"] + data[\"county\"] + data[\"tract\"] + data[\"block\"]\n",
    "    return data\n",
    "\n",
    "\n",
    "def block_data_for_state(state_fips):\n",
    "    \"\"\"Input: state_fips\n",
    "    Process: Retrieve a list of county fips codes in the state. \n",
    "        The Census API only lets you query one county at a time, so you first need the full list. \n",
    "        Then call block_data_for_county() to retrieve the data at the county level. \n",
    "    Outputs: block-level data for the state fips for the list of variables defined above. \n",
    "    \"\"\"\n",
    "    from tqdm.auto import tqdm\n",
    "    county_fips_codes = counties(state_fips)\n",
    "    return pd.concat(\n",
    "        [\n",
    "            block_data_for_county(state_fips, county_fips)\n",
    "            for county_fips in tqdm(county_fips_codes)\n",
    "        ]\n",
    "    )"
   ]
  },
  {
   "cell_type": "code",
   "execution_count": null,
   "metadata": {},
   "outputs": [],
   "source": [
    "#if running script for the first time, use this chunk\n",
    "nc = block_data_for_state('37')\n",
    "nc = nc.rename(columns={\"geoid\": \"GEOID10\"})\n",
    "nc.to_csv('nc_census_2010_blocks2.csv')"
   ]
  },
  {
   "cell_type": "markdown",
   "metadata": {},
   "source": [
    "Example of how you would write the census data to a csv and then re-load it so you don't have to query it every time you re-run this script\n"
   ]
  },
  {
   "cell_type": "code",
   "execution_count": 8,
   "metadata": {},
   "outputs": [],
   "source": [
    "nc = pd.read_csv('./raw-from-files/census_data/nc_census_2010_blocks2.csv')\n",
    "nc = nc.astype({\"GEOID10\": str})"
   ]
  },
  {
   "cell_type": "markdown",
   "metadata": {},
   "source": [
    "Take a look at the census data\n",
    "\n",
    "Variables that aren't aren't added (BPOP and nBPOP) can be calculated from the data (Will see that this calculation is the same as the one the census performs)"
   ]
  },
  {
   "cell_type": "code",
   "execution_count": 9,
   "metadata": {},
   "outputs": [],
   "source": [
    "nc[\"BPOP\"]=nc[\"NH_BLACK\"]+nc[\"H_BLACK\"]\n",
    "nc[\"nBPOP\"]=nc[\"TOTPOP\"]-nc[\"NH_BLACK\"]-nc[\"H_BLACK\"]"
   ]
  },
  {
   "cell_type": "code",
   "execution_count": null,
   "metadata": {},
   "outputs": [],
   "source": [
    "nc.head(2)"
   ]
  },
  {
   "cell_type": "markdown",
   "metadata": {},
   "source": [
    "**Prorate Demographic and Voting Population Data from the Block Level to VTD using Block_Keys**"
   ]
  },
  {
   "cell_type": "markdown",
   "metadata": {},
   "source": [
    "Using Block Keys because that was the method MGGG specified. "
   ]
  },
  {
   "cell_type": "code",
   "execution_count": 10,
   "metadata": {},
   "outputs": [
    {
     "name": "stdout",
     "output_type": "stream",
     "text": [
      "(288987, 17)\n",
      "(288987, 34)\n"
     ]
    },
    {
     "data": {
      "text/html": [
       "<div>\n",
       "<style scoped>\n",
       "    .dataframe tbody tr th:only-of-type {\n",
       "        vertical-align: middle;\n",
       "    }\n",
       "\n",
       "    .dataframe tbody tr th {\n",
       "        vertical-align: top;\n",
       "    }\n",
       "\n",
       "    .dataframe thead th {\n",
       "        text-align: right;\n",
       "    }\n",
       "</style>\n",
       "<table border=\"1\" class=\"dataframe\">\n",
       "  <thead>\n",
       "    <tr style=\"text-align: right;\">\n",
       "      <th></th>\n",
       "      <th>Block_Key</th>\n",
       "      <th>Block_Code</th>\n",
       "      <th>BG_Key</th>\n",
       "      <th>BG_Code</th>\n",
       "      <th>Tract_Key</th>\n",
       "      <th>Tract_Code</th>\n",
       "      <th>Tract_Name</th>\n",
       "      <th>VTD_Key</th>\n",
       "      <th>VTD_Code</th>\n",
       "      <th>VTD_Name</th>\n",
       "      <th>Cnty_Key</th>\n",
       "      <th>Cnty_Code</th>\n",
       "      <th>Cnty_Name</th>\n",
       "      <th>Place_Key</th>\n",
       "      <th>Place_Code</th>\n",
       "      <th>Place_Name</th>\n",
       "      <th>ZCTA5</th>\n",
       "    </tr>\n",
       "  </thead>\n",
       "  <tbody>\n",
       "    <tr>\n",
       "      <th>0</th>\n",
       "      <td>370010201001000</td>\n",
       "      <td>1000</td>\n",
       "      <td>370010201001</td>\n",
       "      <td>1</td>\n",
       "      <td>37001020100</td>\n",
       "      <td>20100</td>\n",
       "      <td>201.0</td>\n",
       "      <td>3700112W</td>\n",
       "      <td>12W</td>\n",
       "      <td>12W</td>\n",
       "      <td>37001</td>\n",
       "      <td>1</td>\n",
       "      <td>Alamance</td>\n",
       "      <td>3709060.0</td>\n",
       "      <td>9060.0</td>\n",
       "      <td>Burlington</td>\n",
       "      <td>27215.0</td>\n",
       "    </tr>\n",
       "    <tr>\n",
       "      <th>1</th>\n",
       "      <td>370010201001001</td>\n",
       "      <td>1001</td>\n",
       "      <td>370010201001</td>\n",
       "      <td>1</td>\n",
       "      <td>37001020100</td>\n",
       "      <td>20100</td>\n",
       "      <td>201.0</td>\n",
       "      <td>3700112W</td>\n",
       "      <td>12W</td>\n",
       "      <td>12W</td>\n",
       "      <td>37001</td>\n",
       "      <td>1</td>\n",
       "      <td>Alamance</td>\n",
       "      <td>3709060.0</td>\n",
       "      <td>9060.0</td>\n",
       "      <td>Burlington</td>\n",
       "      <td>27215.0</td>\n",
       "    </tr>\n",
       "    <tr>\n",
       "      <th>2</th>\n",
       "      <td>370010201001002</td>\n",
       "      <td>1002</td>\n",
       "      <td>370010201001</td>\n",
       "      <td>1</td>\n",
       "      <td>37001020100</td>\n",
       "      <td>20100</td>\n",
       "      <td>201.0</td>\n",
       "      <td>3700112W</td>\n",
       "      <td>12W</td>\n",
       "      <td>12W</td>\n",
       "      <td>37001</td>\n",
       "      <td>1</td>\n",
       "      <td>Alamance</td>\n",
       "      <td>3709060.0</td>\n",
       "      <td>9060.0</td>\n",
       "      <td>Burlington</td>\n",
       "      <td>27215.0</td>\n",
       "    </tr>\n",
       "    <tr>\n",
       "      <th>3</th>\n",
       "      <td>370010201001003</td>\n",
       "      <td>1003</td>\n",
       "      <td>370010201001</td>\n",
       "      <td>1</td>\n",
       "      <td>37001020100</td>\n",
       "      <td>20100</td>\n",
       "      <td>201.0</td>\n",
       "      <td>3700112W</td>\n",
       "      <td>12W</td>\n",
       "      <td>12W</td>\n",
       "      <td>37001</td>\n",
       "      <td>1</td>\n",
       "      <td>Alamance</td>\n",
       "      <td>3709060.0</td>\n",
       "      <td>9060.0</td>\n",
       "      <td>Burlington</td>\n",
       "      <td>27217.0</td>\n",
       "    </tr>\n",
       "    <tr>\n",
       "      <th>4</th>\n",
       "      <td>370010201001004</td>\n",
       "      <td>1004</td>\n",
       "      <td>370010201001</td>\n",
       "      <td>1</td>\n",
       "      <td>37001020100</td>\n",
       "      <td>20100</td>\n",
       "      <td>201.0</td>\n",
       "      <td>3700112W</td>\n",
       "      <td>12W</td>\n",
       "      <td>12W</td>\n",
       "      <td>37001</td>\n",
       "      <td>1</td>\n",
       "      <td>Alamance</td>\n",
       "      <td>3709060.0</td>\n",
       "      <td>9060.0</td>\n",
       "      <td>Burlington</td>\n",
       "      <td>27215.0</td>\n",
       "    </tr>\n",
       "  </tbody>\n",
       "</table>\n",
       "</div>"
      ],
      "text/plain": [
       "         Block_Key  Block_Code        BG_Key  BG_Code    Tract_Key  \\\n",
       "0  370010201001000        1000  370010201001        1  37001020100   \n",
       "1  370010201001001        1001  370010201001        1  37001020100   \n",
       "2  370010201001002        1002  370010201001        1  37001020100   \n",
       "3  370010201001003        1003  370010201001        1  37001020100   \n",
       "4  370010201001004        1004  370010201001        1  37001020100   \n",
       "\n",
       "   Tract_Code  Tract_Name   VTD_Key VTD_Code VTD_Name  Cnty_Key  Cnty_Code  \\\n",
       "0       20100       201.0  3700112W      12W      12W     37001          1   \n",
       "1       20100       201.0  3700112W      12W      12W     37001          1   \n",
       "2       20100       201.0  3700112W      12W      12W     37001          1   \n",
       "3       20100       201.0  3700112W      12W      12W     37001          1   \n",
       "4       20100       201.0  3700112W      12W      12W     37001          1   \n",
       "\n",
       "  Cnty_Name  Place_Key  Place_Code  Place_Name    ZCTA5  \n",
       "0  Alamance  3709060.0      9060.0  Burlington  27215.0  \n",
       "1  Alamance  3709060.0      9060.0  Burlington  27215.0  \n",
       "2  Alamance  3709060.0      9060.0  Burlington  27215.0  \n",
       "3  Alamance  3709060.0      9060.0  Burlington  27217.0  \n",
       "4  Alamance  3709060.0      9060.0  Burlington  27215.0  "
      ]
     },
     "execution_count": 10,
     "metadata": {},
     "output_type": "execute_result"
    }
   ],
   "source": [
    "print(block_keys.shape)\n",
    "print(nc.shape)\n",
    "nc = nc.rename(columns={\"GEOID10\": \"Block_Key\"})\n",
    "nc.head(5)\n",
    "block_keys.head(5)"
   ]
  },
  {
   "cell_type": "markdown",
   "metadata": {},
   "source": [
    "Convert both \"Block_Key\" columns to integers so they can be joined"
   ]
  },
  {
   "cell_type": "code",
   "execution_count": 11,
   "metadata": {},
   "outputs": [],
   "source": [
    "nc[\"Block_Key\"]=nc[\"Block_Key\"].astype(int)\n",
    "block_keys[\"Block_Key\"]=block_keys[\"Block_Key\"].astype(int)"
   ]
  },
  {
   "cell_type": "code",
   "execution_count": 12,
   "metadata": {},
   "outputs": [],
   "source": [
    "block_joined=pd.merge(nc,block_keys,on='Block_Key',how='outer',indicator=True)"
   ]
  },
  {
   "cell_type": "code",
   "execution_count": 13,
   "metadata": {},
   "outputs": [
    {
     "name": "stdout",
     "output_type": "stream",
     "text": [
      "   Unnamed: 0  TOTPOP  NH_WHITE  NH_BLACK  NH_AMIN  NH_ASIAN  NH_NHPI  \\\n",
      "0           0      22         0        22        0         0        0   \n",
      "1           1      10         2         8        0         0        0   \n",
      "2           2       0         0         0        0         0        0   \n",
      "3           3       0         0         0        0         0        0   \n",
      "4           4       0         0         0        0         0        0   \n",
      "5           5       0         0         0        0         0        0   \n",
      "6           6       0         0         0        0         0        0   \n",
      "7           7      27        25         1        0         0        0   \n",
      "8           8      39        32         1        0         0        0   \n",
      "9           9      18         2        16        0         0        0   \n",
      "\n",
      "   NH_OTHER  NH_2MORE  HISP  ...  VTD_Code  VTD_Name  Cnty_Key  Cnty_Code  \\\n",
      "0         0         0     0  ...        C1        C1     37015         15   \n",
      "1         0         0     0  ...        C1        C1     37015         15   \n",
      "2         0         0     0  ...        C1        C1     37015         15   \n",
      "3         0         0     0  ...        C1        C1     37015         15   \n",
      "4         0         0     0  ...        C1        C1     37015         15   \n",
      "5         0         0     0  ...        C1        C1     37015         15   \n",
      "6         0         0     0  ...        C1        C1     37015         15   \n",
      "7         0         1     0  ...        C1        C1     37015         15   \n",
      "8         0         0     6  ...        C1        C1     37015         15   \n",
      "9         0         0     0  ...        C1        C1     37015         15   \n",
      "\n",
      "   Cnty_Name  Place_Key  Place_Code  Place_Name    ZCTA5  _merge  \n",
      "0     Bertie        NaN         NaN         NaN  27924.0    both  \n",
      "1     Bertie        NaN         NaN         NaN  27924.0    both  \n",
      "2     Bertie  3713560.0     13560.0    Colerain  27924.0    both  \n",
      "3     Bertie        NaN         NaN         NaN  27924.0    both  \n",
      "4     Bertie        NaN         NaN         NaN  27924.0    both  \n",
      "5     Bertie        NaN         NaN         NaN  27924.0    both  \n",
      "6     Bertie        NaN         NaN         NaN  27924.0    both  \n",
      "7     Bertie  3713560.0     13560.0    Colerain  27924.0    both  \n",
      "8     Bertie  3713560.0     13560.0    Colerain  27924.0    both  \n",
      "9     Bertie        NaN         NaN         NaN  27924.0    both  \n",
      "\n",
      "[10 rows x 51 columns]\n",
      "(288987, 51)\n"
     ]
    }
   ],
   "source": [
    "print(block_joined.head(10))\n",
    "print(block_joined.shape)"
   ]
  },
  {
   "cell_type": "code",
   "execution_count": 14,
   "metadata": {},
   "outputs": [
    {
     "data": {
      "text/plain": [
       "Index(['Unnamed: 0', 'TOTPOP', 'NH_WHITE', 'NH_BLACK', 'NH_AMIN', 'NH_ASIAN',\n",
       "       'NH_NHPI', 'NH_OTHER', 'NH_2MORE', 'HISP', 'H_WHITE', 'H_BLACK',\n",
       "       'H_AMIN', 'H_ASIAN', 'H_NHPI', 'H_OTHER', 'H_2MORE', 'VAP', 'HVAP',\n",
       "       'WVAP', 'BVAP', 'AMINVAP', 'ASIANVAP', 'NHPIVAP', 'OTHERVAP',\n",
       "       '2MOREVAP', 'NAME', 'state', 'county', 'tract', 'block', 'Block_Key',\n",
       "       'BPOP', 'nBPOP', 'Block_Code', 'BG_Key', 'BG_Code', 'Tract_Key',\n",
       "       'Tract_Code', 'Tract_Name', 'VTD_Key', 'VTD_Code', 'VTD_Name',\n",
       "       'Cnty_Key', 'Cnty_Code', 'Cnty_Name', 'Place_Key', 'Place_Code',\n",
       "       'Place_Name', 'ZCTA5', '_merge'],\n",
       "      dtype='object')"
      ]
     },
     "execution_count": 14,
     "metadata": {},
     "output_type": "execute_result"
    }
   ],
   "source": [
    "block_joined.columns"
   ]
  },
  {
   "cell_type": "markdown",
   "metadata": {},
   "source": [
    "Both dataframes originally had 288,987 rows so join looks good"
   ]
  },
  {
   "cell_type": "code",
   "execution_count": null,
   "metadata": {},
   "outputs": [],
   "source": [
    "#list(block_joined.columns)"
   ]
  },
  {
   "cell_type": "markdown",
   "metadata": {},
   "source": [
    "**Going to pivot this dataframe by the \"VTD_Key\" column"
   ]
  },
  {
   "cell_type": "markdown",
   "metadata": {},
   "source": [
    "**Pivot Block Level Census Data to VTD Level by VTD Key**"
   ]
  },
  {
   "cell_type": "code",
   "execution_count": 15,
   "metadata": {},
   "outputs": [],
   "source": [
    "census_vtd=pd.pivot_table(block_joined,index=\"VTD_Key\",aggfunc=sum)\n",
    "census_vtd.reset_index(inplace=True)"
   ]
  },
  {
   "cell_type": "markdown",
   "metadata": {},
   "source": [
    "**Check to make sure that VTD row number makes sense**"
   ]
  },
  {
   "cell_type": "code",
   "execution_count": 16,
   "metadata": {},
   "outputs": [
    {
     "name": "stdout",
     "output_type": "stream",
     "text": [
      "(2692, 45)\n",
      "(2692, 36)\n"
     ]
    }
   ],
   "source": [
    "print(census_vtd.shape)\n",
    "print(vtds.shape)"
   ]
  },
  {
   "cell_type": "markdown",
   "metadata": {},
   "source": [
    "**Filter Down to Relevant Census Info**"
   ]
  },
  {
   "cell_type": "code",
   "execution_count": 17,
   "metadata": {},
   "outputs": [
    {
     "data": {
      "text/plain": [
       "Index(['VTD_Key', '2MOREVAP', 'AMINVAP', 'ASIANVAP', 'BG_Code', 'BG_Key',\n",
       "       'BPOP', 'BVAP', 'Block_Code', 'Block_Key', 'Cnty_Code', 'Cnty_Key',\n",
       "       'HISP', 'HVAP', 'H_2MORE', 'H_AMIN', 'H_ASIAN', 'H_BLACK', 'H_NHPI',\n",
       "       'H_OTHER', 'H_WHITE', 'NHPIVAP', 'NH_2MORE', 'NH_AMIN', 'NH_ASIAN',\n",
       "       'NH_BLACK', 'NH_NHPI', 'NH_OTHER', 'NH_WHITE', 'OTHERVAP', 'Place_Code',\n",
       "       'Place_Key', 'TOTPOP', 'Tract_Code', 'Tract_Key', 'Tract_Name',\n",
       "       'Unnamed: 0', 'VAP', 'WVAP', 'ZCTA5', 'block', 'county', 'nBPOP',\n",
       "       'state', 'tract'],\n",
       "      dtype='object')"
      ]
     },
     "execution_count": 17,
     "metadata": {},
     "output_type": "execute_result"
    }
   ],
   "source": [
    "census_vtd.columns"
   ]
  },
  {
   "cell_type": "code",
   "execution_count": 18,
   "metadata": {},
   "outputs": [],
   "source": [
    "column_List = ['VTD_Key','BPOP','nBPOP','TOTPOP', 'NH_WHITE', 'NH_BLACK', 'NH_AMIN','NH_ASIAN', 'NH_NHPI', 'NH_OTHER', 'NH_2MORE', 'HISP', 'H_WHITE','H_BLACK', 'H_AMIN', 'H_ASIAN', 'H_NHPI', 'H_OTHER', 'H_2MORE', 'VAP','HVAP', 'WVAP', 'BVAP', 'AMINVAP', 'ASIANVAP', 'NHPIVAP', 'OTHERVAP','2MOREVAP']"
   ]
  },
  {
   "cell_type": "code",
   "execution_count": 20,
   "metadata": {},
   "outputs": [
    {
     "name": "stdout",
     "output_type": "stream",
     "text": [
      "    VTD_Key  2MOREVAP  AMINVAP  ASIANVAP  BG_Code          BG_Key  BPOP  BVAP  \\\n",
      "0   3700101        19        8         8      243  51431420305473   309   257   \n",
      "1   3700102        15       17         9      237  56981573564267   104    81   \n",
      "2  37001035        58       16        62      298  45511256123688   514   421   \n",
      "3  3700103C        16        1        57      155  33300918762265   207   148   \n",
      "4  3700103N        46        1        77      231  45141246366251   426   350   \n",
      "\n",
      "   Block_Code          Block_Key  ...  Tract_Name  Unnamed: 0   VAP  WVAP  \\\n",
      "0      246909  51431420305476880  ...    30305.23      530268  3686  3309   \n",
      "1      241978  56981573564271952  ...    33564.03      562893  3483  3321   \n",
      "2      300625  45511256123690592  ...    26123.39      280251  5660  4927   \n",
      "3      157056  33300918762267044  ...    18762.11      125764  2153  1884   \n",
      "4      232844  45141246366252808  ...    26366.02      373950  4955  4378   \n",
      "\n",
      "       ZCTA5   block  county  nBPOP  state    tract  \n",
      "0  3796582.0  246909     139   4560   5143  3030523  \n",
      "1  4194414.0  241978     154   4387   5698  3356403  \n",
      "2  3349817.0  300625     123   5932   4551  2612339  \n",
      "3  2449787.0  157056      90   2607   3330  1876211  \n",
      "4  3322898.0  232844     122   5286   4514  2636602  \n",
      "\n",
      "[5 rows x 45 columns]\n",
      "    VTD_Key  BPOP  nBPOP  TOTPOP  NH_WHITE  NH_BLACK  NH_AMIN  NH_ASIAN  \\\n",
      "0   3700101   309   4560    4869      4332       309       10        20   \n",
      "1   3700102   104   4387    4491      4250       103       19        12   \n",
      "2  37001035   514   5932    6446      5522       503       24        66   \n",
      "3  3700103C   207   2607    2814      2399       207        1        90   \n",
      "4  3700103N   426   5286    5712      4983       424        3       101   \n",
      "\n",
      "   NH_NHPI  NH_OTHER  ...  H_2MORE   VAP  HVAP  WVAP  BVAP  AMINVAP  ASIANVAP  \\\n",
      "0        1         5  ...        2  3686    79  3309   257        8         8   \n",
      "1        0         1  ...        2  3483    40  3321    81       17         9   \n",
      "2        0        11  ...        7  5660   166  4927   421       16        62   \n",
      "3        0         5  ...        6  2153    44  1884   148        1        57   \n",
      "4        3         5  ...        6  4955    96  4378   350        1        77   \n",
      "\n",
      "   NHPIVAP  OTHERVAP  2MOREVAP  \n",
      "0        1         5        19  \n",
      "1        0         0        15  \n",
      "2        0        10        58  \n",
      "3        0         3        16  \n",
      "4        3         4        46  \n",
      "\n",
      "[5 rows x 28 columns]\n"
     ]
    }
   ],
   "source": [
    "print(census_vtd.head())\n",
    "census_vtd=census_vtd[column_List]\n",
    "print(census_vtd.head())"
   ]
  },
  {
   "cell_type": "markdown",
   "metadata": {},
   "source": [
    "**Merge Census VTD Data with the VTD Shapefile by \"VTD Key\"**"
   ]
  },
  {
   "cell_type": "code",
   "execution_count": 21,
   "metadata": {},
   "outputs": [],
   "source": [
    "vtds_joined = pd.merge(census_vtd,vtds,on='VTD_Key',how='outer',indicator=True)"
   ]
  },
  {
   "cell_type": "markdown",
   "metadata": {},
   "source": [
    "**Check to make sure that joined VTD row number makes sense**"
   ]
  },
  {
   "cell_type": "code",
   "execution_count": 22,
   "metadata": {},
   "outputs": [
    {
     "name": "stdout",
     "output_type": "stream",
     "text": [
      "(2692, 64)\n"
     ]
    }
   ],
   "source": [
    "print(vtds_joined.shape)"
   ]
  },
  {
   "cell_type": "markdown",
   "metadata": {},
   "source": [
    "**Next Step: Tie VTDs to their District Assignment Across the 3 Plans**"
   ]
  },
  {
   "cell_type": "markdown",
   "metadata": {},
   "source": [
    "MGGG Assigns districts from 2011, 2016, and new judge enacted plan \n",
    "Taken from NCLEG Congressional Districts Shapefile\n",
    "\n",
    "\"newplan\" is the 2016 plan  \n",
    "\"oldplan\" is the 2011 plan  \n",
    "\"judge\" is the new judge plan  "
   ]
  },
  {
   "cell_type": "markdown",
   "metadata": {},
   "source": [
    "**Set Shapefile Projections**"
   ]
  },
  {
   "cell_type": "code",
   "execution_count": 23,
   "metadata": {},
   "outputs": [],
   "source": [
    "vtds_joined = gp.GeoDataFrame(vtds_joined, geometry='geometry')\n",
    "vtds_joined[\"geometry\"]=vtds_joined.buffer(0)\n",
    "proj=vtds_joined.crs"
   ]
  },
  {
   "cell_type": "markdown",
   "metadata": {},
   "source": [
    "***2016 plan - \"newplan\"***"
   ]
  },
  {
   "cell_type": "code",
   "execution_count": 24,
   "metadata": {},
   "outputs": [],
   "source": [
    "import warnings; warnings.filterwarnings('ignore', 'GeoSeries.isna', UserWarning)\n",
    "#print(newplan)\n",
    "newplan=newplan.to_crs(proj)\n",
    "newplan[\"geometry\"] = newplan.buffer(0)\n",
    "assignments=maup.assign(vtds_joined,newplan)\n",
    "assignments=assignments+1\n",
    "#There are 13 Congressional Districts in North Carolina, but there are no 0 districts, \n",
    "#We have to add 1.0 to each districts because Python indexing starts at 0.\n",
    "vtds_joined[\"newplan\"]=assignments"
   ]
  },
  {
   "cell_type": "markdown",
   "metadata": {},
   "source": [
    "**2011 plan - \"oldplan\"**"
   ]
  },
  {
   "cell_type": "code",
   "execution_count": 25,
   "metadata": {},
   "outputs": [],
   "source": [
    "import warnings; warnings.filterwarnings('ignore', 'GeoSeries.isna', UserWarning)\n",
    "#print(oldplan)\n",
    "oldplan=oldplan.to_crs(proj)\n",
    "oldplan[\"geometry\"] = oldplan.buffer(0)\n",
    "assignments=maup.assign(vtds_joined,oldplan)\n",
    "assignments=assignments+1\n",
    "#There are 13 Congressional Districts in North Carolina, but there are no 0 districts, \n",
    "#We have to add 1.0 to each districts because Python indexing starts at 0.\n",
    "vtds_joined[\"oldplan\"]=assignments"
   ]
  },
  {
   "cell_type": "markdown",
   "metadata": {},
   "source": [
    "**Judge plan -\"judge\"**"
   ]
  },
  {
   "cell_type": "code",
   "execution_count": 26,
   "metadata": {},
   "outputs": [],
   "source": [
    "import warnings; warnings.filterwarnings('ignore', 'GeoSeries.isna', UserWarning)\n",
    "#print(oldplan)\n",
    "judge=judge.to_crs(proj)\n",
    "judge[\"geometry\"] = judge.buffer(0)\n",
    "assignments=maup.assign(vtds_joined,judge)\n",
    "assignments=assignments+1\n",
    "#There are 13 Congressional Districts in North Carolina, but there are no 0 districts, \n",
    "#We have to add 1.0 to each districts because Python indexing starts at 0.\n",
    "vtds_joined[\"judge\"]=assignments"
   ]
  },
  {
   "cell_type": "markdown",
   "metadata": {},
   "source": [
    "**Next Step: Joining '12 Presidential and '16 Election Data**"
   ]
  },
  {
   "cell_type": "code",
   "execution_count": null,
   "metadata": {},
   "outputs": [],
   "source": [
    "election_data_2012.head(2)\n",
    "election_data_2016.head(2)"
   ]
  },
  {
   "cell_type": "code",
   "execution_count": null,
   "metadata": {},
   "outputs": [],
   "source": [
    "#filtering the 2012 data\n",
    "office_list_2012=[\"PRESIDENT AND VICE PRESIDENT OF THE UNITED STATES\"]\n",
    "party_list=[\"REP\",\"DEM\",\"LIB\",\"Write_In\"]\n",
    "election_data_2012=election_data_2012[election_data_2012['contest'].isin(office_list_2012)]\n",
    "election_data_2012=election_data_2012[election_data_2012['party'].isin(party_list)]\n",
    "\n",
    "#pivoting the 2012 data\n",
    "election_data_2012_p=pd.pivot_table(election_data_2012,index=\"VTD_Key\",columns=[\"party\"],values='total votes',aggfunc=sum)\n",
    "election_data_2012_p.columns=[\"EL12G_PR_D\",\"EL12G_PR_L\",\"EL12G_PR_R\"]\n",
    "election_data_2012_p.reset_index(inplace=True)\n",
    "\n",
    "#filtering the 2016 data\n",
    "office_list_2016=[\"US PRESIDENT\",\"US SENATE\",\"NC GOVERNOR\"]\n",
    "party_list=[\"REP\",\"DEM\",\"LIB\"]\n",
    "election_data_2016=election_data_2016[election_data_2016['Contest Name'].isin(office_list_2016)]\n",
    "election_data_2016=election_data_2016[election_data_2016['Choice Party'].isin(party_list)]\n",
    "#election_2016=election_2016_filter[election_2016_filter['Choice'].isin(write_in)]\n",
    "\n",
    "#pivoting the 2016 data\n",
    "election_data_2016_p=pd.pivot_table(election_data_2016,index=\"VTD_Key\",columns=[\"Contest Name\",\"Choice Party\"],values='Total Votes',aggfunc=sum)\n",
    "election_data_2016_p.columns=[\"EL16G_GV_D\",\"EL16G_GV_L\",\"EL16G_GV_R\",\"EL16G_PR_D\",\"EL16G_PR_L\",\"EL16G_PR_R\",\"EL16G_US_1\",\"EL16G_US_2\",\"EL16G_USS_\"]\n",
    "election_data_2016_p.reset_index(inplace=True)\n",
    "election_data_2016_p.head(2)\n"
   ]
  },
  {
   "cell_type": "code",
   "execution_count": null,
   "metadata": {},
   "outputs": [],
   "source": [
    "#create dictionary of state + county fips\n",
    "\n",
    "my_county= {\n",
    "    'ALAMANCE':'37001', 'ALEXANDER':'37003','ANSON':'37007','ASHE':'37009', 'AVERY':'37011', 'BEAUFORT':'37013', 'BERTIE':'37015', 'BLADEN':'37017',  'BRUNSWICK':'37019',\n",
    "    'BUNCOMBE':'37021','BURKE':'37023','CABARRUS':'37025','CALDWELL':'37027','CAMDEN':'37029','CARTERET':'37031','CASWELL':'37033','CATAWBA':'37035','CHATHAM':'37037','CHEROKEE':'37039','CHOWAN':'37041','CLAY':'37043','CLEVELAND':'37045',\n",
    "    'COLUMBUS':'37047','CRAVEN':'37049','CUMBERLAND':'37051','CURRITICK':'37053','DARE':'37055','DAVIDSON':'37057','DAVIE':'37059','DUPLIN':'37061','DURHAM':'37063','EDGECOMBE':'37065',\n",
    "    'FORSYTH':'37067','FRANKLIN':'37069','GASTON':'37071','GATES':'37073','GRAHAM':'37075','GRANVILLE':'37077',\n",
    "    'GREENE':'37079','GUILFORD':'37081','HALIFAX':'37083','HARNETT':'37085','HAYWOOD':'37087','HENDERSON':'37089','HERTFORD':'37091','HOKE':'37093','HYDE':'37095',\n",
    "    'IREDELL':'37097','JACKSON':'37099','JOHNSTON':'37101','JONES':'37103','LEE':'37105','LENOIR':'37107','LINCOLN':'37109','MCDOWELL':'37111','MACON':'37113','MADISON':'37115',\n",
    "    'MERTIN':'37117','MECKLENBURG':'37119','MITCHELL':'37121','MONTGOMERY':'37123','MOORE':'37125','NASH':'37127','NEW HANOVER':'37129','NORTHAMPTON':'37131','ONSLOW':'37133','ORANGE':'37135','PAMLICO':'37137','PASQUOTANK':'37139','PENDER':'37141','PERQUIMANS':'37143','PERSON':'37145','PITT':'37147','POLK':'37149','RANDOLPH':'37151',\n",
    "    'RICHMOND':'37153','ROCKINGHAM':'37157','ROWAN':'37159','RUTHERFORD':'37161','SAMPSON':'37163','SCOTLAND':'37165','STANLY':'37167','STOKES':'37169','SURRY':'37171','SWAIN':'37173','TRANSYLVANIA':'37175','TYRRELL':'37177','UNION':'37179','VANCE':'37181','WAKE':'37183','WARREN':'37185','WASHINGTON':'37187','WATAUGA':'37189','WAYNE':'37191','WILKES':'37193','WILSON':'37195','YADKIN':'37197',  'YANCEY':'37199'\n",
    "}"
   ]
  },
  {
   "cell_type": "markdown",
   "metadata": {},
   "source": [
    "*Election Data 2012*"
   ]
  },
  {
   "cell_type": "code",
   "execution_count": null,
   "metadata": {},
   "outputs": [],
   "source": [
    "election_data_2012['countyID']=election_data_2012['county'].map(my_county)\n",
    "election_data_2016['countyID']=election_data_2012['county'].map(my_county)\n",
    "\n",
    "#Preparation to string together VTD_Key\n",
    "election_data_2012['countyID']=election_data_2012['countyID'].astype(str)\n",
    "election_data_2012['precinct']=election_data_2012['precinct'].astype(str)\n",
    "election_data_2012['precinctID']=election_data_2012['precinct'].str.zfill(2)\n",
    "election_data_2012[\"precinctID\"]=election_data_2012[\"precinct\"].str.split(\"_\", n=1, expand=True) \n",
    "\n",
    "#Combining state id, county fips, and precinct id to make VTD_Key\n",
    "election_data_2012['VTD_Key']=election_data_2012['countyID']+election_data_2012['precinctID']\n",
    "\n",
    "#Preparation to string together VTD_Key\n",
    "election_data_2016['countyID']=election_data_2016['countyID'].astype(str)\n",
    "election_data_2016['Precinct']=election_data_2016['Precinct'].astype(str)\n",
    "election_data_2016['precinctID']=election_data_2016['Precinct'].str.zfill(2)\n",
    "\n",
    "#Combining state id, county fips, and precinct id to make VTD_Key\n",
    "election_data_2016['VTD_Key']=election_data_2016['countyID']+election_data_2016['precinctID']"
   ]
  },
  {
   "cell_type": "code",
   "execution_count": null,
   "metadata": {},
   "outputs": [],
   "source": [
    "#Removing rows that has 'ONE STOP', 'ABSENTEE BY MAIL','PROVISIONAL', 'TRANSFER','CURBSIDE', 'ACCUMULATED'\n",
    "#create a dataframe that has the above words\n",
    "\n",
    "searchfor=['ABSENTEE','PROVISIONAL','TRANSFER']\n",
    "#nan=['nan']\n",
    "#remove rows that contains words from searchfor dataframe\n",
    "\n",
    "election_data_2012=election_data_2012[~election_data_2012.precinct.str.contains('|'.join(searchfor))]\n",
    "#election_data_2012=election_data_2012[~election_data_2012.county.str.contains('|'.join(nan))]\n",
    "\n",
    "#Filling in empty columns in party column to write in \n",
    "#election_data_2012.loc[election_data_2012[\"party\"].isnull(),'party']=\"Write_In\""
   ]
  },
  {
   "cell_type": "code",
   "execution_count": null,
   "metadata": {},
   "outputs": [],
   "source": [
    "election_data_2012_p.shape"
   ]
  },
  {
   "cell_type": "code",
   "execution_count": null,
   "metadata": {},
   "outputs": [],
   "source": [
    "contain_values=election_data_2012[election_data_2012['VTD_Key'].str.contains('3715920')&election_data_2012['total votes']==None]\n",
    "print(contain_values)"
   ]
  },
  {
   "cell_type": "markdown",
   "metadata": {},
   "source": [
    "*Election Data 2016*"
   ]
  },
  {
   "cell_type": "code",
   "execution_count": null,
   "metadata": {},
   "outputs": [],
   "source": [
    "#Removing rows that has 'ONE STOP', 'ABSENTEE BY MAIL','PROVISIONAL', 'TRANSFER','CURBSIDE', 'ACCUMULATED'\n",
    "#create a dataframe that has the above words\n",
    "\n",
    "#searchfor=['ABSENTEE','PROVISIONAL','TRANSFER']\n",
    "#nan=['nan']\n",
    "#remove rows that contains words from searchfor dataframe\n",
    "\n",
    "#election_data_2016=election_data_2016[~election_data_2016.Precinct.str.contains('|'.join(searchfor))]\n",
    "#election_data_2016=election_data_2016[~election_data_2016.County.str.contains('|'.join(nan))]"
   ]
  },
  {
   "cell_type": "code",
   "execution_count": null,
   "metadata": {},
   "outputs": [],
   "source": [
    "contain_values=election_data_2012[election_data_2012['VTD_Key'].str.contains('3715920')]\n",
    "print(contain_values)\n"
   ]
  },
  {
   "cell_type": "code",
   "execution_count": null,
   "metadata": {},
   "outputs": [],
   "source": [
    "election_data=pd.merge(vtd_election_data,election_data_2012_p,on='VTD_Key',how='outer',indicator='EL12')\n",
    "election_data=pd.merge(election_data,election_data_2016_p,on='VTD_Key',how='outer',indicator='EL16')\n"
   ]
  },
  {
   "cell_type": "code",
   "execution_count": null,
   "metadata": {},
   "outputs": [],
   "source": [
    "election_data.shape"
   ]
  },
  {
   "cell_type": "code",
   "execution_count": null,
   "metadata": {},
   "outputs": [],
   "source": [
    "election_data.to_csv('election_data_joined.csv')"
   ]
  },
  {
   "cell_type": "markdown",
   "metadata": {},
   "source": [
    "**Look at MGGG FINAL FILE (loaded above)**"
   ]
  },
  {
   "cell_type": "code",
   "execution_count": 27,
   "metadata": {},
   "outputs": [
    {
     "data": {
      "text/html": [
       "<div>\n",
       "<style scoped>\n",
       "    .dataframe tbody tr th:only-of-type {\n",
       "        vertical-align: middle;\n",
       "    }\n",
       "\n",
       "    .dataframe tbody tr th {\n",
       "        vertical-align: top;\n",
       "    }\n",
       "\n",
       "    .dataframe thead th {\n",
       "        text-align: right;\n",
       "    }\n",
       "</style>\n",
       "<table border=\"1\" class=\"dataframe\">\n",
       "  <thead>\n",
       "    <tr style=\"text-align: right;\">\n",
       "      <th></th>\n",
       "      <th>ALAND10</th>\n",
       "      <th>AWATER10</th>\n",
       "      <th>VTD</th>\n",
       "      <th>County</th>\n",
       "      <th>VTD_Key</th>\n",
       "      <th>VTD_Name</th>\n",
       "      <th>PL10AA_TOT</th>\n",
       "      <th>PL10VA_TOT</th>\n",
       "      <th>EL08G_GV_D</th>\n",
       "      <th>EL08G_GV_R</th>\n",
       "      <th>...</th>\n",
       "      <th>VAP</th>\n",
       "      <th>HVAP</th>\n",
       "      <th>WVAP</th>\n",
       "      <th>BVAP</th>\n",
       "      <th>AMINVAP</th>\n",
       "      <th>ASIANVAP</th>\n",
       "      <th>NHPIVAP</th>\n",
       "      <th>OTHERVAP</th>\n",
       "      <th>2MOREVAP</th>\n",
       "      <th>geometry</th>\n",
       "    </tr>\n",
       "  </thead>\n",
       "  <tbody>\n",
       "    <tr>\n",
       "      <th>0</th>\n",
       "      <td>1951716.0</td>\n",
       "      <td>32157.0</td>\n",
       "      <td>3700106W</td>\n",
       "      <td>37001</td>\n",
       "      <td>3700106W</td>\n",
       "      <td>06W</td>\n",
       "      <td>1973</td>\n",
       "      <td>1505</td>\n",
       "      <td>330</td>\n",
       "      <td>301</td>\n",
       "      <td>...</td>\n",
       "      <td>1505</td>\n",
       "      <td>211</td>\n",
       "      <td>899</td>\n",
       "      <td>338</td>\n",
       "      <td>4</td>\n",
       "      <td>32</td>\n",
       "      <td>0</td>\n",
       "      <td>0</td>\n",
       "      <td>21</td>\n",
       "      <td>POLYGON ((572318.656 259054.912, 572364.420 25...</td>\n",
       "    </tr>\n",
       "    <tr>\n",
       "      <th>1</th>\n",
       "      <td>2887286.0</td>\n",
       "      <td>0.0</td>\n",
       "      <td>3700112E</td>\n",
       "      <td>37001</td>\n",
       "      <td>3700112E</td>\n",
       "      <td>12E</td>\n",
       "      <td>3391</td>\n",
       "      <td>2503</td>\n",
       "      <td>586</td>\n",
       "      <td>263</td>\n",
       "      <td>...</td>\n",
       "      <td>2503</td>\n",
       "      <td>622</td>\n",
       "      <td>1085</td>\n",
       "      <td>712</td>\n",
       "      <td>19</td>\n",
       "      <td>38</td>\n",
       "      <td>0</td>\n",
       "      <td>2</td>\n",
       "      <td>25</td>\n",
       "      <td>POLYGON ((572318.656 259054.912, 572310.834 25...</td>\n",
       "    </tr>\n",
       "  </tbody>\n",
       "</table>\n",
       "<p>2 rows × 85 columns</p>\n",
       "</div>"
      ],
      "text/plain": [
       "     ALAND10  AWATER10       VTD County   VTD_Key VTD_Name  PL10AA_TOT  \\\n",
       "0  1951716.0   32157.0  3700106W  37001  3700106W      06W        1973   \n",
       "1  2887286.0       0.0  3700112E  37001  3700112E      12E        3391   \n",
       "\n",
       "   PL10VA_TOT  EL08G_GV_D  EL08G_GV_R  ...   VAP  HVAP  WVAP  BVAP  AMINVAP  \\\n",
       "0        1505         330         301  ...  1505   211   899   338        4   \n",
       "1        2503         586         263  ...  2503   622  1085   712       19   \n",
       "\n",
       "   ASIANVAP  NHPIVAP  OTHERVAP  2MOREVAP  \\\n",
       "0        32        0         0        21   \n",
       "1        38        0         2        25   \n",
       "\n",
       "                                            geometry  \n",
       "0  POLYGON ((572318.656 259054.912, 572364.420 25...  \n",
       "1  POLYGON ((572318.656 259054.912, 572310.834 25...  \n",
       "\n",
       "[2 rows x 85 columns]"
      ]
     },
     "execution_count": 27,
     "metadata": {},
     "output_type": "execute_result"
    }
   ],
   "source": [
    "final_mggg.head(2)"
   ]
  },
  {
   "cell_type": "code",
   "execution_count": 28,
   "metadata": {},
   "outputs": [
    {
     "name": "stdout",
     "output_type": "stream",
     "text": [
      "['ALAND10', 'AWATER10', 'VTD', 'County', 'VTD_Key', 'VTD_Name', 'PL10AA_TOT', 'PL10VA_TOT', 'EL08G_GV_D', 'EL08G_GV_R', 'EL08G_GV_L', 'EL08G_GV_T', 'EL08G_USS_', 'EL08G_US_1', 'EL08G_US_2', 'EL08G_US_3', 'EL08G_US_4', 'EL10G_USS_', 'EL10G_US_1', 'EL10G_US_2', 'EL10G_US_3', 'EL10G_US_4', 'EL12G_GV_D', 'EL12G_GV_R', 'EL12G_GV_L', 'EL12G_GV_W', 'EL12G_GV_1', 'EL12G_GV_T', 'EL14G_USS_', 'EL14G_US_1', 'EL14G_US_2', 'EL14G_US_3', 'EL14G_US_4', 'Shape_Leng', 'Shape_Area', 'EL12G_PR_D', 'EL12G_PR_R', 'EL12G_PR_L', 'EL12G_PR_W', 'EL12G_PR_1', 'EL12G_PR_T', 'EL16G_PR_R', 'EL16G_PR_D', 'EL16G_PR_L', 'EL16G_PR_W', 'EL16G_PR_T', 'EL16G_USS_', 'EL16G_US_1', 'EL16G_US_2', 'EL16G_US_3', 'EL16G_GV_D', 'EL16G_GV_R', 'EL16G_GV_L', 'EL16G_GV_T', 'BPOP', 'nBPOP', 'judge', 'newplan', 'oldplan', 'TOTPOP', 'NH_WHITE', 'NH_BLACK', 'NH_AMIN', 'NH_ASIAN', 'NH_NHPI', 'NH_OTHER', 'NH_2MORE', 'HISP', 'H_WHITE', 'H_BLACK', 'H_AMIN', 'H_ASIAN', 'H_NHPI', 'H_OTHER', 'H_2MORE', 'VAP', 'HVAP', 'WVAP', 'BVAP', 'AMINVAP', 'ASIANVAP', 'NHPIVAP', 'OTHERVAP', '2MOREVAP', 'geometry']\n"
     ]
    }
   ],
   "source": [
    "final_mggg.shape\n",
    "print(final_mggg.columns.tolist())\n",
    "column_Order = final_mggg.columns.tolist()"
   ]
  },
  {
   "cell_type": "code",
   "execution_count": null,
   "metadata": {},
   "outputs": [],
   "source": [
    "#TO DO: Have the columns match order\n",
    "\n",
    "#vtds_joined.shape\n",
    "#print(vtds_joined.columns.tolist())"
   ]
  },
  {
   "cell_type": "markdown",
   "metadata": {},
   "source": [
    "**Validation**"
   ]
  },
  {
   "cell_type": "code",
   "execution_count": 29,
   "metadata": {},
   "outputs": [],
   "source": [
    "validate=pd.merge(vtds_joined,final_mggg, on=['VTD_Key'],how='inner')"
   ]
  },
  {
   "cell_type": "code",
   "execution_count": 30,
   "metadata": {},
   "outputs": [
    {
     "name": "stdout",
     "output_type": "stream",
     "text": [
      "(2692, 151)\n",
      "(2692, 85)\n"
     ]
    }
   ],
   "source": [
    "#rows before and after are the same\n",
    "print(validate.shape)\n",
    "print(final_mggg.shape)"
   ]
  },
  {
   "cell_type": "code",
   "execution_count": 32,
   "metadata": {},
   "outputs": [
    {
     "name": "stdout",
     "output_type": "stream",
     "text": [
      "For judge total difference is: 4001.0\n",
      "For newplan total difference is: 2785.0\n",
      "For oldplan total difference is: -788991.0\n"
     ]
    }
   ],
   "source": [
    "#Column List should just be a list of columns to be compared with quantitative values\n",
    "\n",
    "def validater(df,column_List):\n",
    "    for i in column_List:\n",
    "        left_Data = i + \"_x\"\n",
    "        right_Data = i + \"_y\"\n",
    "        if(sum(df[left_Data]-df[right_Data]) != 0):\n",
    "            print(\"For \" + i + \" total difference is: \" + str(sum(df[left_Data]-df[right_Data])))\n",
    "        \n",
    "validater(validate,['ALAND10', 'AWATER10', 'PL10AA_TOT', 'PL10VA_TOT', 'EL08G_GV_D', 'EL08G_GV_R', 'EL08G_GV_L', 'EL08G_GV_T', 'EL08G_USS_', 'EL08G_US_1', 'EL08G_US_2', 'EL08G_US_3', 'EL08G_US_4', 'EL10G_USS_', 'EL10G_US_1', 'EL10G_US_2', 'EL10G_US_3', 'EL10G_US_4', 'EL12G_GV_D', 'EL12G_GV_R', 'EL12G_GV_L', 'EL12G_GV_W', 'EL12G_GV_1', 'EL12G_GV_T', 'EL14G_USS_', 'EL14G_US_1', 'EL14G_US_2', 'EL14G_US_3', 'EL14G_US_4', 'Shape_Leng', 'Shape_Area','BPOP', 'nBPOP', 'judge', 'newplan', 'oldplan', 'TOTPOP', 'NH_WHITE', 'NH_BLACK', 'NH_AMIN', 'NH_ASIAN', 'NH_NHPI', 'NH_OTHER', 'NH_2MORE', 'HISP', 'H_WHITE', 'H_BLACK', 'H_AMIN', 'H_ASIAN', 'H_NHPI', 'H_OTHER', 'H_2MORE', 'VAP', 'HVAP', 'WVAP', 'BVAP', 'AMINVAP', 'ASIANVAP', 'NHPIVAP', 'OTHERVAP', '2MOREVAP'])       \n"
   ]
  },
  {
   "cell_type": "markdown",
   "metadata": {},
   "source": [
    "**Check population**"
   ]
  },
  {
   "cell_type": "code",
   "execution_count": null,
   "metadata": {},
   "outputs": [],
   "source": [
    "validate['pop_diff']=validate.TOTPOP_x-validate.TOTPOP_y\n",
    "validate[validate.pop_diff.abs()<10].shape[0]/validate.shape[0]"
   ]
  },
  {
   "cell_type": "markdown",
   "metadata": {},
   "source": [
    "**Check Voting age population**"
   ]
  },
  {
   "cell_type": "code",
   "execution_count": null,
   "metadata": {},
   "outputs": [],
   "source": [
    "validate['bvap_diff']=validate.BVAP_x-validate.BVAP_y\n",
    "validate[validate.bvap_diff.abs()<10].shape[0]/validate.shape[0]"
   ]
  },
  {
   "cell_type": "markdown",
   "metadata": {},
   "source": [
    "**Check 08 election data**"
   ]
  },
  {
   "cell_type": "code",
   "execution_count": null,
   "metadata": {},
   "outputs": [],
   "source": [
    "validate['election_08_diff']=validate.EL08G_GV_D_x-validate.EL08G_GV_D_y\n",
    "validate[validate.election_08_diff.abs()<10].shape[0]/validate.shape[0]"
   ]
  },
  {
   "cell_type": "markdown",
   "metadata": {},
   "source": [
    "**Validate Enacted Plans**"
   ]
  },
  {
   "cell_type": "code",
   "execution_count": 33,
   "metadata": {},
   "outputs": [
    {
     "name": "stdout",
     "output_type": "stream",
     "text": [
      "[11.  2.  9.  0.  7.  3.  4. 12.  5.  6.  1. 10.  8.]\n",
      "[ 6  5  9  3  1  7 10 11  8 13  4  2 12]\n",
      "0\n"
     ]
    }
   ],
   "source": [
    "validate['newplan']=validate.newplan_x-validate.newplan_y\n",
    "validate[validate.newplan.abs()<10].shape[0]/validate.shape[0]\n",
    "print(validate.newplan_y.unique())\n",
    "print(validate.newplan_x.unique())\n",
    "#validate['newplan_y_reindex']=validate['newplan_y']+1\n",
    "update_newplan= {11:6, 2:5,9:9,0:3,7:1,3:7, 4:10, 12:11,5:8,6:13,1:4,10:2,8:12}\n",
    "validate['newplan_y_reindex']=validate['newplan_y'].map(update_newplan)\n",
    "validate['newplan_diff_corrected']=validate.newplan_x-validate.newplan_y_reindex\n",
    "print(sum(validate['newplan_diff_corrected']))\n",
    "\n",
    "#print(validate[validate['newplan_diff_corrected'] != 0])"
   ]
  },
  {
   "cell_type": "code",
   "execution_count": 37,
   "metadata": {},
   "outputs": [
    {
     "name": "stdout",
     "output_type": "stream",
     "text": [
      "[ 5.  7.  3.  4.  6.  1. 10.  9. 11.  2. 12.  8.  0.]\n",
      "[10 11  8 13  3  4  7  6 12  5  9  1  2]\n",
      "901\n"
     ]
    }
   ],
   "source": [
    "validate['judge']=validate.judge_x-validate.judge_y\n",
    "validate[validate.judge.abs()<10].shape[0]/validate.shape[0]\n",
    "print(validate.judge_y.unique())\n",
    "print(validate.judge_x.unique())\n",
    "update_judge= {5:10, 7:11,3:8,4:13,6:3,1:4, 10:7, 9:6,11:12,2:5,12:9,8:1,0:2}\n",
    "validate['judge_y_reindex']=validate['judge_y'].map(update_judge)\n",
    "validate['judge_diff_corrected']=validate.judge_x-validate.judge_y_reindex\n",
    "print(sum(validate['judge_diff_corrected']))"
   ]
  },
  {
   "cell_type": "code",
   "execution_count": null,
   "metadata": {},
   "outputs": [],
   "source": [
    "validate['oldplan']=validate.oldplan_x-validate.oldplan_y\n",
    "validate[validate.oldplan.abs()<10].shape[0]/validate.shape[0]\n",
    "validate[['oldplan_x','oldplan_y']].head(10)\n",
    "validate.oldplan_y.unique()\n",
    "validate.oldplan_x.unique()\n",
    "update_oldplan= {296:6, 297:10,300:8,301:9, 305:12,303:3, 298:7, 294:1,295:11,299:2,306:4,302:5,304:13}\n",
    "validate['oldplan_y_reindex']=validate['oldplan_y'].map(update_oldplan)\n",
    "print(validate.oldplan_y_reindex.unique())\n",
    "validate['oldplan_diff_corrected']=validate.oldplan_x-validate.oldplan_y_reindex\n",
    "print(sum(validate['oldplan_diff_corrected']))"
   ]
  },
  {
   "cell_type": "markdown",
   "metadata": {},
   "source": [
    "MGGG's dataset was not reseted, there are 13 congressional districts here"
   ]
  },
  {
   "cell_type": "markdown",
   "metadata": {},
   "source": [
    "**Check 16 election data**"
   ]
  },
  {
   "cell_type": "code",
   "execution_count": null,
   "metadata": {},
   "outputs": [],
   "source": [
    "validate[['VTD','EL16G_PR_R_x','EL16G_PR_R_y']].head(10)"
   ]
  },
  {
   "cell_type": "code",
   "execution_count": null,
   "metadata": {},
   "outputs": [],
   "source": [
    "validate[['VTD','EL16G_US_2_x','EL16G_US_2_y']].head(10)"
   ]
  },
  {
   "cell_type": "markdown",
   "metadata": {},
   "source": [
    "Getting sum of election results by party from MGGG file"
   ]
  },
  {
   "cell_type": "code",
   "execution_count": null,
   "metadata": {},
   "outputs": [],
   "source": [
    "#total votes for presidential republican party based on MGGG file\n",
    "total_r=final_mggg['EL16G_PR_R'].sum()\n",
    "print(total_r)"
   ]
  },
  {
   "cell_type": "code",
   "execution_count": null,
   "metadata": {},
   "outputs": [],
   "source": [
    "total_d=final_mggg['EL16G_PR_D'].sum()\n",
    "print(total_d)"
   ]
  },
  {
   "cell_type": "code",
   "execution_count": null,
   "metadata": {},
   "outputs": [],
   "source": [
    "total_l=final_mggg['EL16G_PR_L'].sum()\n",
    "print(total_l)"
   ]
  },
  {
   "cell_type": "markdown",
   "metadata": {},
   "source": [
    "Getting sum of election results by party for election data as obtained from state board of elections"
   ]
  },
  {
   "cell_type": "code",
   "execution_count": null,
   "metadata": {},
   "outputs": [],
   "source": [
    "\n",
    "total_r_p=election_data['EL16G_PR_R'].sum()\n",
    "print(total_r_p)"
   ]
  },
  {
   "cell_type": "code",
   "execution_count": null,
   "metadata": {},
   "outputs": [],
   "source": [
    "\n",
    "total_d_p=election_data['EL16G_PR_D'].sum()\n",
    "print(total_d_p)"
   ]
  },
  {
   "cell_type": "code",
   "execution_count": null,
   "metadata": {},
   "outputs": [],
   "source": [
    "total_l_p=election_data['EL16G_PR_L'].sum()\n",
    "print(total_l_p)"
   ]
  },
  {
   "cell_type": "markdown",
   "metadata": {},
   "source": [
    "Total Election Votes from 2016 from MGGG file does not match up with the data available from the state board of elections (validated on the website and from the State Board of Election datafil)"
   ]
  },
  {
   "cell_type": "markdown",
   "metadata": {},
   "source": [
    "**Check 12 election data**"
   ]
  },
  {
   "cell_type": "code",
   "execution_count": null,
   "metadata": {},
   "outputs": [],
   "source": [
    "#validate['election_12_diff']=validate.EL12G_PR_D_x-validate.EL12G_PR_D_y\n",
    "#validate[validate.election_12_diff.abs()<10].shape[0]/validate.shape[0]"
   ]
  },
  {
   "cell_type": "code",
   "execution_count": null,
   "metadata": {},
   "outputs": [],
   "source": [
    "validate[['VTD_Key','EL12G_PR_D_x','EL12G_PR_D_y']].head(10)"
   ]
  },
  {
   "cell_type": "markdown",
   "metadata": {},
   "source": [
    "#Election Data Join Looks Good"
   ]
  }
 ],
 "metadata": {
  "kernelspec": {
   "display_name": "Python 3",
   "language": "python",
   "name": "python3"
  },
  "language_info": {
   "codemirror_mode": {
    "name": "ipython",
    "version": 3
   },
   "file_extension": ".py",
   "mimetype": "text/x-python",
   "name": "python",
   "nbconvert_exporter": "python",
   "pygments_lexer": "ipython3",
   "version": "3.8.3"
  }
 },
 "nbformat": 4,
 "nbformat_minor": 4
}
