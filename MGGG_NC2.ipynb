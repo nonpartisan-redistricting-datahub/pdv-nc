{
 "cells": [
  {
   "cell_type": "code",
   "execution_count": 200,
   "metadata": {},
   "outputs": [],
   "source": [
    "import matplotlib.pyplot as plt # for plotting maps\n",
    "import maup # mggg's library for proration, see documentation here: https://github.com/mggg/maup\n",
    "import pandas as pd # standard python data library\n",
    "import geopandas as gp # the geo-version of pandas\n",
    "import numpy as np \n",
    "from statistics import mean, median\n",
    "from pandas import read_csv"
   ]
  },
  {
   "cell_type": "markdown",
   "metadata": {},
   "source": [
    "**Load datasets**"
   ]
  },
  {
   "cell_type": "code",
   "execution_count": 201,
   "metadata": {},
   "outputs": [],
   "source": [
    "#Load VTD Shapefile\n",
    "\n",
    "precincts=gp.read_file(\"./raw-from-files/VTD _shapefile/tl_2012_37_vtd10 (2)/tl_2012_37_vtd10.shp\")\n",
    "\n",
    "#census block shapefile\n",
    "\n",
    "block_shp = gp.read_file(\"./raw-from-files/block_shapefile/tl_2019_37_tabblock10/tl_2019_37_tabblock10.shp\")\n",
    "\n",
    "\n",
    "#Election Data already aggregated to VTD (lacks 2012 presidential data and all 2016 election data)\n",
    "\n",
    "vtd_election_data=read_csv(\"./raw-from-files/election_data/R2016_VTD.tab\",delimiter='\\t')\n",
    "\n",
    "#2012 Election Data \n",
    "\n",
    "election_data_2012=pd.read_csv(\"./raw-from-files/election_data/2012 _election/results_pct_20121106.txt\",delimiter=\",\")\n",
    "\n",
    "#2016 Election Data \n",
    "\n",
    "election_data_2016=pd.read_csv(\"./raw-from-files/election_data/2016_election/results_pct_20161108!.txt\", sep=\"\\t\",engine='python')\n",
    "\n",
    "#MGGG Assigns districts from 2011, 2016, and new judge enacted plan \n",
    "#Taken from NCLEG Congressional Districts Shapefile\n",
    "\n",
    "newplan= gp.read_file('./raw-from-files/district_plan/newplan/shp (3)/2016_Contingent_Congressional_Plan_Corrected.shp')\n",
    "\n",
    "oldplan=gp.read_file('./raw-from-files/district_plan/oldplan/shp (3)/Rucho_Lewis_Congress_3.shp')\n",
    "\n",
    "judge=gp.read_file('./raw-from-files/district_plan/judge/HB1029 3rd Edition - Shapefile/C-Goodwin-A-1-TC.shp')\n",
    "\n",
    "\n"
   ]
  },
  {
   "cell_type": "code",
   "execution_count": 202,
   "metadata": {},
   "outputs": [],
   "source": [
    "block_keys=pd.read_csv(\"/Users/canuse/Downloads/Block_Level_GeoKeys.txt\",sep=\"\\t\",engine='python')"
   ]
  },
  {
   "cell_type": "code",
   "execution_count": 203,
   "metadata": {},
   "outputs": [
    {
     "name": "stdout",
     "output_type": "stream",
     "text": [
      "              Block_Key  Block_Code        BG_Key  BG_Code    Tract_Key  \\\n",
      "0       370010201001000        1000  370010201001        1  37001020100   \n",
      "1       370010201001001        1001  370010201001        1  37001020100   \n",
      "2       370010201001002        1002  370010201001        1  37001020100   \n",
      "3       370010201001003        1003  370010201001        1  37001020100   \n",
      "4       370010201001004        1004  370010201001        1  37001020100   \n",
      "...                 ...         ...           ...      ...          ...   \n",
      "288982  371999604003113        3113  371999604003        3  37199960400   \n",
      "288983  371999604003114        3114  371999604003        3  37199960400   \n",
      "288984  371999604003115        3115  371999604003        3  37199960400   \n",
      "288985  371999604003116        3116  371999604003        3  37199960400   \n",
      "288986  371999604003117        3117  371999604003        3  37199960400   \n",
      "\n",
      "        Tract_Code  Tract_Name      VTD_Key VTD_Code VTD_Name  Cnty_Key  \\\n",
      "0            20100       201.0     3700112W      12W      12W     37001   \n",
      "1            20100       201.0     3700112W      12W      12W     37001   \n",
      "2            20100       201.0     3700112W      12W      12W     37001   \n",
      "3            20100       201.0     3700112W      12W      12W     37001   \n",
      "4            20100       201.0     3700112W      12W      12W     37001   \n",
      "...            ...         ...          ...      ...      ...       ...   \n",
      "288982      960400      9604.0  3719911-PRI   11-PRI   11 PRI     37199   \n",
      "288983      960400      9604.0  3719911-PRI   11-PRI   11 PRI     37199   \n",
      "288984      960400      9604.0  3719911-PRI   11-PRI   11 PRI     37199   \n",
      "288985      960400      9604.0  3719902-CAN   02-CAN   02 CAN     37199   \n",
      "288986      960400      9604.0  3719902-CAN   02-CAN   02 CAN     37199   \n",
      "\n",
      "        Cnty_Code Cnty_Name  Place_Key  Place_Code  Place_Name    ZCTA5  \n",
      "0               1  Alamance  3709060.0      9060.0  Burlington  27215.0  \n",
      "1               1  Alamance  3709060.0      9060.0  Burlington  27215.0  \n",
      "2               1  Alamance  3709060.0      9060.0  Burlington  27215.0  \n",
      "3               1  Alamance  3709060.0      9060.0  Burlington  27217.0  \n",
      "4               1  Alamance  3709060.0      9060.0  Burlington  27215.0  \n",
      "...           ...       ...        ...         ...         ...      ...  \n",
      "288982        199    Yancey        NaN         NaN         NaN  28714.0  \n",
      "288983        199    Yancey        NaN         NaN         NaN  28714.0  \n",
      "288984        199    Yancey        NaN         NaN         NaN  28714.0  \n",
      "288985        199    Yancey        NaN         NaN         NaN  28714.0  \n",
      "288986        199    Yancey        NaN         NaN         NaN  28714.0  \n",
      "\n",
      "[288987 rows x 17 columns]\n"
     ]
    }
   ],
   "source": [
    "print(block_keys)"
   ]
  },
  {
   "cell_type": "markdown",
   "metadata": {},
   "source": [
    "**Load Census API**"
   ]
  },
  {
   "cell_type": "markdown",
   "metadata": {},
   "source": [
    "Retrieve demographic data from Census API\n",
    "\n",
    "To see the full list of census variables, look here: https://api.census.gov/data/2010/dec/sf1/variables.html"
   ]
  },
  {
   "cell_type": "code",
   "execution_count": 204,
   "metadata": {},
   "outputs": [],
   "source": [
    "# Code chunk by Melisande Teng - VRDI 2019\n",
    "variables = [\n",
    "    # pop\n",
    "    \"P005001\",\n",
    "    \"P005003\",\n",
    "    \"P005004\",\n",
    "    \"P005005\",\n",
    "    \"P005006\",\n",
    "    \"P005007\",\n",
    "    \"P005008\",\n",
    "    \"P005009\",\n",
    "    \"P005010\",\n",
    "    # vap\n",
    "    \"P011001\",\n",
    "    \"P011002\",\n",
    "    \"P011005\",\n",
    "    \"P011006\",\n",
    "    \"P011007\",\n",
    "    \"P011008\",\n",
    "    \"P011009\",\n",
    "    \"P011010\",\n",
    "    \"P011011\",\n",
    "]\n",
    "\n",
    "keys = [\n",
    "    # pop\n",
    "    \"TOTPOP\",  # these follow from above, so TOTPOP = P005001\n",
    "    \"NH_WHITE\",\n",
    "    \"NH_BLACK\",\n",
    "    \"NH_AMIN\",\n",
    "    \"NH_ASIAN\",\n",
    "    \"NH_NHPI\",\n",
    "    \"NH_OTHER\",\n",
    "    \"NH_2MORE\",\n",
    "    \"HISP\",\n",
    "    # vap\n",
    "    \"VAP\",\n",
    "    \"HVAP\",\n",
    "    \"WVAP\",\n",
    "    \"BVAP\",\n",
    "    \"AMINVAP\",\n",
    "    \"ASIANVAP\",\n",
    "    \"NHPIVAP\",\n",
    "    \"OTHERVAP\",\n",
    "    \"2MOREVAP\",\n",
    "]\n",
    "\n",
    "import requests\n",
    "\n",
    "def counties(state_fips):\n",
    "    \"\"\"Inputs: state fips code\n",
    "    Process: Retrieves a list of counties in the given state from the Census API.  \n",
    "    Outputs: A list of county fips codes in the state. \"\"\"\n",
    "    resp = requests.get(\n",
    "        \"https://api.census.gov/data/2010/dec/sf1\"\n",
    "        \"?get=NAME&for=county:*&in=state:{}\".format(state_fips)\n",
    "    )\n",
    "    header, *rows = resp.json()\n",
    "    county_column_index = header.index(\"county\")\n",
    "    county_fips_codes = set(row[county_column_index] for row in rows)\n",
    "    return county_fips_codes\n",
    "\n",
    "\n",
    "def block_data_for_county(state_fips, county_fips, variables=variables, keys=keys):\n",
    "    \"\"\"Inputs: state fips code, county fips code, list of variables and corresponding keys. \n",
    "    Process: formats the query to call the Census API. \n",
    "    Outputs: data for the county in a pandas dataframe. \"\"\"\n",
    "    url = (\n",
    "        \"https://api.census.gov/data/2010/dec/sf1\"\n",
    "        + \"?get={},NAME&for=block:*\".format(\",\".join(variables))\n",
    "        + \"&in=state:{}&in=county:{}&in=tract:*\".format(state_fips, county_fips)\n",
    "    )\n",
    "    resp = requests.get(url)\n",
    "    header, *rows = resp.json()\n",
    "    variable_lookup = dict(zip(variables, keys))\n",
    "    columns = [variable_lookup.get(column_name, column_name) for column_name in header]\n",
    "    dtypes = {key: int for key in keys}\n",
    "    dtypes.update({key: str for key in [\"state\", \"county\", \"tract\", \"block\"]})\n",
    "    data = pd.DataFrame.from_records(rows, columns=columns).astype(dtypes)\n",
    "    data[\"geoid\"] = data[\"state\"] + data[\"county\"] + data[\"tract\"] + data[\"block\"]\n",
    "    return data\n",
    "\n",
    "\n",
    "def block_data_for_state(state_fips):\n",
    "    \"\"\"Input: state_fips\n",
    "    Process: Retrieve a list of county fips codes in the state. \n",
    "        The Census API only lets you query one county at a time, so you first need the full list. \n",
    "        Then call block_data_for_county() to retrieve the data at the county level. \n",
    "    Outputs: block-level data for the state fips for the list of variables defined above. \n",
    "    \"\"\"\n",
    "    from tqdm.auto import tqdm\n",
    "    county_fips_codes = counties(state_fips)\n",
    "    return pd.concat(\n",
    "        [\n",
    "            block_data_for_county(state_fips, county_fips)\n",
    "            for county_fips in tqdm(county_fips_codes)\n",
    "        ]\n",
    "    )"
   ]
  },
  {
   "cell_type": "code",
   "execution_count": 205,
   "metadata": {},
   "outputs": [],
   "source": [
    "#if running script for the first time, use this chunk\n",
    "#nc = block_data_for_state('37')\n",
    "#nc = nc.rename(columns={\"geoid\": \"GEOID10\"})\n",
    "#nc.to_csv('nc_census_2010_blocks2.csv')"
   ]
  },
  {
   "cell_type": "markdown",
   "metadata": {},
   "source": [
    "Example of how you would write the census data to a csv and then re-load it so you don't have to query it every time you re-run this script\n"
   ]
  },
  {
   "cell_type": "code",
   "execution_count": 206,
   "metadata": {},
   "outputs": [
    {
     "data": {
      "text/html": [
       "<div>\n",
       "<style scoped>\n",
       "    .dataframe tbody tr th:only-of-type {\n",
       "        vertical-align: middle;\n",
       "    }\n",
       "\n",
       "    .dataframe tbody tr th {\n",
       "        vertical-align: top;\n",
       "    }\n",
       "\n",
       "    .dataframe thead th {\n",
       "        text-align: right;\n",
       "    }\n",
       "</style>\n",
       "<table border=\"1\" class=\"dataframe\">\n",
       "  <thead>\n",
       "    <tr style=\"text-align: right;\">\n",
       "      <th></th>\n",
       "      <th>Unnamed: 0</th>\n",
       "      <th>TOTPOP</th>\n",
       "      <th>NH_WHITE</th>\n",
       "      <th>NH_BLACK</th>\n",
       "      <th>NH_AMIN</th>\n",
       "      <th>NH_ASIAN</th>\n",
       "      <th>NH_NHPI</th>\n",
       "      <th>NH_OTHER</th>\n",
       "      <th>NH_2MORE</th>\n",
       "      <th>HISP</th>\n",
       "      <th>...</th>\n",
       "      <th>ASIANVAP</th>\n",
       "      <th>NHPIVAP</th>\n",
       "      <th>OTHERVAP</th>\n",
       "      <th>2MOREVAP</th>\n",
       "      <th>NAME</th>\n",
       "      <th>state</th>\n",
       "      <th>county</th>\n",
       "      <th>tract</th>\n",
       "      <th>block</th>\n",
       "      <th>GEOID10</th>\n",
       "    </tr>\n",
       "  </thead>\n",
       "  <tbody>\n",
       "    <tr>\n",
       "      <th>0</th>\n",
       "      <td>0</td>\n",
       "      <td>33</td>\n",
       "      <td>27</td>\n",
       "      <td>3</td>\n",
       "      <td>0</td>\n",
       "      <td>0</td>\n",
       "      <td>0</td>\n",
       "      <td>0</td>\n",
       "      <td>0</td>\n",
       "      <td>3</td>\n",
       "      <td>...</td>\n",
       "      <td>0</td>\n",
       "      <td>0</td>\n",
       "      <td>0</td>\n",
       "      <td>0</td>\n",
       "      <td>Block 1011, Block Group 1, Census Tract 9701, ...</td>\n",
       "      <td>37</td>\n",
       "      <td>117</td>\n",
       "      <td>970100</td>\n",
       "      <td>1011</td>\n",
       "      <td>371179701001011</td>\n",
       "    </tr>\n",
       "    <tr>\n",
       "      <th>1</th>\n",
       "      <td>1</td>\n",
       "      <td>24</td>\n",
       "      <td>24</td>\n",
       "      <td>0</td>\n",
       "      <td>0</td>\n",
       "      <td>0</td>\n",
       "      <td>0</td>\n",
       "      <td>0</td>\n",
       "      <td>0</td>\n",
       "      <td>0</td>\n",
       "      <td>...</td>\n",
       "      <td>0</td>\n",
       "      <td>0</td>\n",
       "      <td>0</td>\n",
       "      <td>0</td>\n",
       "      <td>Block 1012, Block Group 1, Census Tract 9701, ...</td>\n",
       "      <td>37</td>\n",
       "      <td>117</td>\n",
       "      <td>970100</td>\n",
       "      <td>1012</td>\n",
       "      <td>371179701001012</td>\n",
       "    </tr>\n",
       "  </tbody>\n",
       "</table>\n",
       "<p>2 rows × 25 columns</p>\n",
       "</div>"
      ],
      "text/plain": [
       "   Unnamed: 0  TOTPOP  NH_WHITE  NH_BLACK  NH_AMIN  NH_ASIAN  NH_NHPI  \\\n",
       "0           0      33        27         3        0         0        0   \n",
       "1           1      24        24         0        0         0        0   \n",
       "\n",
       "   NH_OTHER  NH_2MORE  HISP  ...  ASIANVAP  NHPIVAP  OTHERVAP  2MOREVAP  \\\n",
       "0         0         0     3  ...         0        0         0         0   \n",
       "1         0         0     0  ...         0        0         0         0   \n",
       "\n",
       "                                                NAME  state  county   tract  \\\n",
       "0  Block 1011, Block Group 1, Census Tract 9701, ...     37     117  970100   \n",
       "1  Block 1012, Block Group 1, Census Tract 9701, ...     37     117  970100   \n",
       "\n",
       "   block          GEOID10  \n",
       "0   1011  371179701001011  \n",
       "1   1012  371179701001012  \n",
       "\n",
       "[2 rows x 25 columns]"
      ]
     },
     "execution_count": 206,
     "metadata": {},
     "output_type": "execute_result"
    }
   ],
   "source": [
    " nc = pd.read_csv('./nc_census_2010_blocks2.csv')\n",
    " nc = nc.astype({\"GEOID10\": str})\n",
    " nc.head(2)"
   ]
  },
  {
   "cell_type": "markdown",
   "metadata": {},
   "source": [
    "**Loading datasets to see what it is**"
   ]
  },
  {
   "cell_type": "code",
   "execution_count": 207,
   "metadata": {},
   "outputs": [
    {
     "data": {
      "text/html": [
       "<div>\n",
       "<style scoped>\n",
       "    .dataframe tbody tr th:only-of-type {\n",
       "        vertical-align: middle;\n",
       "    }\n",
       "\n",
       "    .dataframe tbody tr th {\n",
       "        vertical-align: top;\n",
       "    }\n",
       "\n",
       "    .dataframe thead th {\n",
       "        text-align: right;\n",
       "    }\n",
       "</style>\n",
       "<table border=\"1\" class=\"dataframe\">\n",
       "  <thead>\n",
       "    <tr style=\"text-align: right;\">\n",
       "      <th></th>\n",
       "      <th>STATEFP10</th>\n",
       "      <th>COUNTYFP10</th>\n",
       "      <th>VTDST10</th>\n",
       "      <th>GEOID10</th>\n",
       "      <th>VTDI10</th>\n",
       "      <th>NAME10</th>\n",
       "      <th>NAMELSAD10</th>\n",
       "      <th>LSAD10</th>\n",
       "      <th>MTFCC10</th>\n",
       "      <th>FUNCSTAT10</th>\n",
       "      <th>ALAND10</th>\n",
       "      <th>AWATER10</th>\n",
       "      <th>INTPTLAT10</th>\n",
       "      <th>INTPTLON10</th>\n",
       "      <th>geometry</th>\n",
       "    </tr>\n",
       "  </thead>\n",
       "  <tbody>\n",
       "    <tr>\n",
       "      <th>0</th>\n",
       "      <td>37</td>\n",
       "      <td>149</td>\n",
       "      <td>WO06</td>\n",
       "      <td>37149WO06</td>\n",
       "      <td>P</td>\n",
       "      <td>WO06</td>\n",
       "      <td>Voting District WO06</td>\n",
       "      <td>V1</td>\n",
       "      <td>G5240</td>\n",
       "      <td>S</td>\n",
       "      <td>112373051</td>\n",
       "      <td>565151</td>\n",
       "      <td>+35.3132600</td>\n",
       "      <td>-082.1572357</td>\n",
       "      <td>POLYGON ((-82.27895 35.30135, -82.27878 35.301...</td>\n",
       "    </tr>\n",
       "    <tr>\n",
       "      <th>1</th>\n",
       "      <td>37</td>\n",
       "      <td>149</td>\n",
       "      <td>SA04</td>\n",
       "      <td>37149SA04</td>\n",
       "      <td>P</td>\n",
       "      <td>SA04</td>\n",
       "      <td>Voting District SA04</td>\n",
       "      <td>V1</td>\n",
       "      <td>G5240</td>\n",
       "      <td>S</td>\n",
       "      <td>85545403</td>\n",
       "      <td>38532</td>\n",
       "      <td>+35.2610918</td>\n",
       "      <td>-082.2979896</td>\n",
       "      <td>POLYGON ((-82.35609 35.24454, -82.35517 35.244...</td>\n",
       "    </tr>\n",
       "  </tbody>\n",
       "</table>\n",
       "</div>"
      ],
      "text/plain": [
       "  STATEFP10 COUNTYFP10 VTDST10    GEOID10 VTDI10 NAME10            NAMELSAD10  \\\n",
       "0        37        149    WO06  37149WO06      P   WO06  Voting District WO06   \n",
       "1        37        149    SA04  37149SA04      P   SA04  Voting District SA04   \n",
       "\n",
       "  LSAD10 MTFCC10 FUNCSTAT10    ALAND10  AWATER10   INTPTLAT10    INTPTLON10  \\\n",
       "0     V1   G5240          S  112373051    565151  +35.3132600  -082.1572357   \n",
       "1     V1   G5240          S   85545403     38532  +35.2610918  -082.2979896   \n",
       "\n",
       "                                            geometry  \n",
       "0  POLYGON ((-82.27895 35.30135, -82.27878 35.301...  \n",
       "1  POLYGON ((-82.35609 35.24454, -82.35517 35.244...  "
      ]
     },
     "execution_count": 207,
     "metadata": {},
     "output_type": "execute_result"
    }
   ],
   "source": [
    "precincts.head(2)"
   ]
  },
  {
   "cell_type": "code",
   "execution_count": 208,
   "metadata": {},
   "outputs": [
    {
     "data": {
      "text/html": [
       "<div>\n",
       "<style scoped>\n",
       "    .dataframe tbody tr th:only-of-type {\n",
       "        vertical-align: middle;\n",
       "    }\n",
       "\n",
       "    .dataframe tbody tr th {\n",
       "        vertical-align: top;\n",
       "    }\n",
       "\n",
       "    .dataframe thead th {\n",
       "        text-align: right;\n",
       "    }\n",
       "</style>\n",
       "<table border=\"1\" class=\"dataframe\">\n",
       "  <thead>\n",
       "    <tr style=\"text-align: right;\">\n",
       "      <th></th>\n",
       "      <th>STATEFP10</th>\n",
       "      <th>COUNTYFP10</th>\n",
       "      <th>TRACTCE10</th>\n",
       "      <th>BLOCKCE10</th>\n",
       "      <th>GEOID10</th>\n",
       "      <th>NAME10</th>\n",
       "      <th>MTFCC10</th>\n",
       "      <th>UR10</th>\n",
       "      <th>UACE10</th>\n",
       "      <th>UATYPE</th>\n",
       "      <th>FUNCSTAT10</th>\n",
       "      <th>ALAND10</th>\n",
       "      <th>AWATER10</th>\n",
       "      <th>INTPTLAT10</th>\n",
       "      <th>INTPTLON10</th>\n",
       "      <th>geometry</th>\n",
       "    </tr>\n",
       "  </thead>\n",
       "  <tbody>\n",
       "    <tr>\n",
       "      <th>0</th>\n",
       "      <td>37</td>\n",
       "      <td>031</td>\n",
       "      <td>970602</td>\n",
       "      <td>1022</td>\n",
       "      <td>370319706021022</td>\n",
       "      <td>Block 1022</td>\n",
       "      <td>G5040</td>\n",
       "      <td>R</td>\n",
       "      <td>None</td>\n",
       "      <td>None</td>\n",
       "      <td>S</td>\n",
       "      <td>0</td>\n",
       "      <td>783785</td>\n",
       "      <td>+34.7226385</td>\n",
       "      <td>-076.8957622</td>\n",
       "      <td>POLYGON ((-76.90105 34.72717, -76.90054 34.729...</td>\n",
       "    </tr>\n",
       "    <tr>\n",
       "      <th>1</th>\n",
       "      <td>37</td>\n",
       "      <td>031</td>\n",
       "      <td>970801</td>\n",
       "      <td>2031</td>\n",
       "      <td>370319708012031</td>\n",
       "      <td>Block 2031</td>\n",
       "      <td>G5040</td>\n",
       "      <td>R</td>\n",
       "      <td>None</td>\n",
       "      <td>None</td>\n",
       "      <td>S</td>\n",
       "      <td>130921</td>\n",
       "      <td>0</td>\n",
       "      <td>+34.7305293</td>\n",
       "      <td>-077.0809037</td>\n",
       "      <td>POLYGON ((-77.08269 34.73000, -77.08267 34.730...</td>\n",
       "    </tr>\n",
       "  </tbody>\n",
       "</table>\n",
       "</div>"
      ],
      "text/plain": [
       "  STATEFP10 COUNTYFP10 TRACTCE10 BLOCKCE10          GEOID10      NAME10  \\\n",
       "0        37        031    970602      1022  370319706021022  Block 1022   \n",
       "1        37        031    970801      2031  370319708012031  Block 2031   \n",
       "\n",
       "  MTFCC10 UR10 UACE10 UATYPE FUNCSTAT10  ALAND10  AWATER10   INTPTLAT10  \\\n",
       "0   G5040    R   None   None          S        0    783785  +34.7226385   \n",
       "1   G5040    R   None   None          S   130921         0  +34.7305293   \n",
       "\n",
       "     INTPTLON10                                           geometry  \n",
       "0  -076.8957622  POLYGON ((-76.90105 34.72717, -76.90054 34.729...  \n",
       "1  -077.0809037  POLYGON ((-77.08269 34.73000, -77.08267 34.730...  "
      ]
     },
     "execution_count": 208,
     "metadata": {},
     "output_type": "execute_result"
    }
   ],
   "source": [
    "block_shp.head(2)"
   ]
  },
  {
   "cell_type": "code",
   "execution_count": 209,
   "metadata": {},
   "outputs": [],
   "source": [
    "#block_shp = block_shp.rename(columns={\"GEOID\": \"GEOID10\"})"
   ]
  },
  {
   "cell_type": "code",
   "execution_count": 210,
   "metadata": {},
   "outputs": [
    {
     "data": {
      "text/html": [
       "<div>\n",
       "<style scoped>\n",
       "    .dataframe tbody tr th:only-of-type {\n",
       "        vertical-align: middle;\n",
       "    }\n",
       "\n",
       "    .dataframe tbody tr th {\n",
       "        vertical-align: top;\n",
       "    }\n",
       "\n",
       "    .dataframe thead th {\n",
       "        text-align: right;\n",
       "    }\n",
       "</style>\n",
       "<table border=\"1\" class=\"dataframe\">\n",
       "  <thead>\n",
       "    <tr style=\"text-align: right;\">\n",
       "      <th></th>\n",
       "      <th>VTD_Key</th>\n",
       "      <th>VTD_Code</th>\n",
       "      <th>VTD_Name</th>\n",
       "      <th>PL10AA_TOT</th>\n",
       "      <th>PL10VA_TOT</th>\n",
       "      <th>EL08G_AG_D</th>\n",
       "      <th>EL08G_AG_R</th>\n",
       "      <th>EL08G_AG_TOT</th>\n",
       "      <th>EL08G_AD_D</th>\n",
       "      <th>EL08G_AD_R</th>\n",
       "      <th>...</th>\n",
       "      <th>EL12G_SPI_R</th>\n",
       "      <th>EL12G_SPI_TOT</th>\n",
       "      <th>EL12G_TR_D</th>\n",
       "      <th>EL12G_TR_R</th>\n",
       "      <th>EL12G_TR_TOT</th>\n",
       "      <th>EL14G_USS_R</th>\n",
       "      <th>EL14G_USS_D</th>\n",
       "      <th>EL14G_USS_L</th>\n",
       "      <th>EL14G_USS_WI</th>\n",
       "      <th>EL14G_USS_TOT</th>\n",
       "    </tr>\n",
       "  </thead>\n",
       "  <tbody>\n",
       "    <tr>\n",
       "      <th>0</th>\n",
       "      <td>3700101</td>\n",
       "      <td>01</td>\n",
       "      <td>01</td>\n",
       "      <td>4869</td>\n",
       "      <td>3686</td>\n",
       "      <td>834</td>\n",
       "      <td>1134</td>\n",
       "      <td>1968</td>\n",
       "      <td>670</td>\n",
       "      <td>1234</td>\n",
       "      <td>...</td>\n",
       "      <td>1490</td>\n",
       "      <td>2082</td>\n",
       "      <td>653</td>\n",
       "      <td>1442</td>\n",
       "      <td>2095</td>\n",
       "      <td>1071</td>\n",
       "      <td>295</td>\n",
       "      <td>71</td>\n",
       "      <td>0</td>\n",
       "      <td>1437</td>\n",
       "    </tr>\n",
       "    <tr>\n",
       "      <th>1</th>\n",
       "      <td>3700102</td>\n",
       "      <td>02</td>\n",
       "      <td>02</td>\n",
       "      <td>4491</td>\n",
       "      <td>3483</td>\n",
       "      <td>936</td>\n",
       "      <td>1316</td>\n",
       "      <td>2252</td>\n",
       "      <td>627</td>\n",
       "      <td>1554</td>\n",
       "      <td>...</td>\n",
       "      <td>1725</td>\n",
       "      <td>2285</td>\n",
       "      <td>609</td>\n",
       "      <td>1694</td>\n",
       "      <td>2303</td>\n",
       "      <td>1246</td>\n",
       "      <td>313</td>\n",
       "      <td>62</td>\n",
       "      <td>2</td>\n",
       "      <td>1623</td>\n",
       "    </tr>\n",
       "  </tbody>\n",
       "</table>\n",
       "<p>2 rows × 78 columns</p>\n",
       "</div>"
      ],
      "text/plain": [
       "   VTD_Key VTD_Code VTD_Name  PL10AA_TOT  PL10VA_TOT  EL08G_AG_D  EL08G_AG_R  \\\n",
       "0  3700101       01       01        4869        3686         834        1134   \n",
       "1  3700102       02       02        4491        3483         936        1316   \n",
       "\n",
       "   EL08G_AG_TOT  EL08G_AD_D  EL08G_AD_R  ...  EL12G_SPI_R  EL12G_SPI_TOT  \\\n",
       "0          1968         670        1234  ...         1490           2082   \n",
       "1          2252         627        1554  ...         1725           2285   \n",
       "\n",
       "   EL12G_TR_D  EL12G_TR_R  EL12G_TR_TOT  EL14G_USS_R  EL14G_USS_D  \\\n",
       "0         653        1442          2095         1071          295   \n",
       "1         609        1694          2303         1246          313   \n",
       "\n",
       "   EL14G_USS_L  EL14G_USS_WI  EL14G_USS_TOT  \n",
       "0           71             0           1437  \n",
       "1           62             2           1623  \n",
       "\n",
       "[2 rows x 78 columns]"
      ]
     },
     "execution_count": 210,
     "metadata": {},
     "output_type": "execute_result"
    }
   ],
   "source": [
    "vtd_election_data.head(2)"
   ]
  },
  {
   "cell_type": "code",
   "execution_count": 211,
   "metadata": {},
   "outputs": [
    {
     "data": {
      "text/html": [
       "<div>\n",
       "<style scoped>\n",
       "    .dataframe tbody tr th:only-of-type {\n",
       "        vertical-align: middle;\n",
       "    }\n",
       "\n",
       "    .dataframe tbody tr th {\n",
       "        vertical-align: top;\n",
       "    }\n",
       "\n",
       "    .dataframe thead th {\n",
       "        text-align: right;\n",
       "    }\n",
       "</style>\n",
       "<table border=\"1\" class=\"dataframe\">\n",
       "  <thead>\n",
       "    <tr style=\"text-align: right;\">\n",
       "      <th></th>\n",
       "      <th>county</th>\n",
       "      <th>precinct</th>\n",
       "      <th>contest_type</th>\n",
       "      <th>runoff_status</th>\n",
       "      <th>recount_status</th>\n",
       "      <th>contest</th>\n",
       "      <th>choice</th>\n",
       "      <th>winner_status</th>\n",
       "      <th>party</th>\n",
       "      <th>Election Day</th>\n",
       "      <th>One Stop</th>\n",
       "      <th>Absentee by Mail</th>\n",
       "      <th>Provisional</th>\n",
       "      <th>total votes</th>\n",
       "      <th>district</th>\n",
       "    </tr>\n",
       "  </thead>\n",
       "  <tbody>\n",
       "    <tr>\n",
       "      <th>0</th>\n",
       "      <td>ALAMANCE</td>\n",
       "      <td>01_PATTERSON</td>\n",
       "      <td>S</td>\n",
       "      <td>0</td>\n",
       "      <td>0</td>\n",
       "      <td>PRESIDENT AND VICE PRESIDENT OF THE UNITED STATES</td>\n",
       "      <td>Obama/Biden</td>\n",
       "      <td>0</td>\n",
       "      <td>DEM</td>\n",
       "      <td>225</td>\n",
       "      <td>237</td>\n",
       "      <td>21</td>\n",
       "      <td>5</td>\n",
       "      <td>488</td>\n",
       "      <td>Not Found</td>\n",
       "    </tr>\n",
       "    <tr>\n",
       "      <th>1</th>\n",
       "      <td>ALAMANCE</td>\n",
       "      <td>02_COBLE</td>\n",
       "      <td>S</td>\n",
       "      <td>0</td>\n",
       "      <td>0</td>\n",
       "      <td>PRESIDENT AND VICE PRESIDENT OF THE UNITED STATES</td>\n",
       "      <td>Obama/Biden</td>\n",
       "      <td>0</td>\n",
       "      <td>DEM</td>\n",
       "      <td>219</td>\n",
       "      <td>184</td>\n",
       "      <td>26</td>\n",
       "      <td>0</td>\n",
       "      <td>429</td>\n",
       "      <td>Not Found</td>\n",
       "    </tr>\n",
       "  </tbody>\n",
       "</table>\n",
       "</div>"
      ],
      "text/plain": [
       "     county      precinct contest_type  runoff_status   recount_status  \\\n",
       "0  ALAMANCE  01_PATTERSON            S               0               0   \n",
       "1  ALAMANCE      02_COBLE            S               0               0   \n",
       "\n",
       "                                             contest       choice  \\\n",
       "0  PRESIDENT AND VICE PRESIDENT OF THE UNITED STATES  Obama/Biden   \n",
       "1  PRESIDENT AND VICE PRESIDENT OF THE UNITED STATES  Obama/Biden   \n",
       "\n",
       "   winner_status party  Election Day  One Stop  Absentee by Mail  Provisional  \\\n",
       "0              0   DEM           225       237                21            5   \n",
       "1              0   DEM           219       184                26            0   \n",
       "\n",
       "   total votes   district  \n",
       "0          488  Not Found  \n",
       "1          429  Not Found  "
      ]
     },
     "execution_count": 211,
     "metadata": {},
     "output_type": "execute_result"
    }
   ],
   "source": [
    "election_data_2012.head(2)"
   ]
  },
  {
   "cell_type": "code",
   "execution_count": 212,
   "metadata": {},
   "outputs": [
    {
     "data": {
      "text/html": [
       "<div>\n",
       "<style scoped>\n",
       "    .dataframe tbody tr th:only-of-type {\n",
       "        vertical-align: middle;\n",
       "    }\n",
       "\n",
       "    .dataframe tbody tr th {\n",
       "        vertical-align: top;\n",
       "    }\n",
       "\n",
       "    .dataframe thead th {\n",
       "        text-align: right;\n",
       "    }\n",
       "</style>\n",
       "<table border=\"1\" class=\"dataframe\">\n",
       "  <thead>\n",
       "    <tr style=\"text-align: right;\">\n",
       "      <th></th>\n",
       "      <th>County</th>\n",
       "      <th>Election Date</th>\n",
       "      <th>Precinct</th>\n",
       "      <th>Contest Group ID</th>\n",
       "      <th>Contest Type</th>\n",
       "      <th>Contest Name</th>\n",
       "      <th>Choice</th>\n",
       "      <th>Choice Party</th>\n",
       "      <th>Vote For</th>\n",
       "      <th>Election Day</th>\n",
       "      <th>One Stop</th>\n",
       "      <th>Absentee by Mail</th>\n",
       "      <th>Provisional</th>\n",
       "      <th>Total Votes</th>\n",
       "    </tr>\n",
       "  </thead>\n",
       "  <tbody>\n",
       "    <tr>\n",
       "      <th>0</th>\n",
       "      <td>ALAMANCE</td>\n",
       "      <td>11/8/16</td>\n",
       "      <td>5</td>\n",
       "      <td>1385</td>\n",
       "      <td>S</td>\n",
       "      <td>US HOUSE OF REPRESENTATIVES DISTRICT 6</td>\n",
       "      <td>B. Mark Walker</td>\n",
       "      <td>REP</td>\n",
       "      <td>1</td>\n",
       "      <td>705</td>\n",
       "      <td>685</td>\n",
       "      <td>65</td>\n",
       "      <td>9</td>\n",
       "      <td>1464</td>\n",
       "    </tr>\n",
       "    <tr>\n",
       "      <th>1</th>\n",
       "      <td>ALAMANCE</td>\n",
       "      <td>11/8/16</td>\n",
       "      <td>2</td>\n",
       "      <td>1385</td>\n",
       "      <td>S</td>\n",
       "      <td>US HOUSE OF REPRESENTATIVES DISTRICT 6</td>\n",
       "      <td>B. Mark Walker</td>\n",
       "      <td>REP</td>\n",
       "      <td>1</td>\n",
       "      <td>954</td>\n",
       "      <td>1004</td>\n",
       "      <td>63</td>\n",
       "      <td>5</td>\n",
       "      <td>2026</td>\n",
       "    </tr>\n",
       "  </tbody>\n",
       "</table>\n",
       "</div>"
      ],
      "text/plain": [
       "     County Election Date Precinct  Contest Group ID Contest Type  \\\n",
       "0  ALAMANCE       11/8/16        5              1385            S   \n",
       "1  ALAMANCE       11/8/16        2              1385            S   \n",
       "\n",
       "                             Contest Name          Choice Choice Party  \\\n",
       "0  US HOUSE OF REPRESENTATIVES DISTRICT 6  B. Mark Walker          REP   \n",
       "1  US HOUSE OF REPRESENTATIVES DISTRICT 6  B. Mark Walker          REP   \n",
       "\n",
       "   Vote For  Election Day  One Stop  Absentee by Mail  Provisional  \\\n",
       "0         1           705       685                65            9   \n",
       "1         1           954      1004                63            5   \n",
       "\n",
       "   Total Votes  \n",
       "0         1464  \n",
       "1         2026  "
      ]
     },
     "execution_count": 212,
     "metadata": {},
     "output_type": "execute_result"
    }
   ],
   "source": [
    "election_data_2016.head(2)"
   ]
  },
  {
   "cell_type": "markdown",
   "metadata": {},
   "source": [
    "**Clean up Election Datasets in Preparation to Merge with rest of the dataset**"
   ]
  },
  {
   "cell_type": "markdown",
   "metadata": {},
   "source": [
    "Merge them with VTD_Key. Clean Election Data 2012 and 2016."
   ]
  },
  {
   "cell_type": "code",
   "execution_count": 213,
   "metadata": {},
   "outputs": [],
   "source": [
    "#create dictionary of county fips\n",
    "\n",
    "my_county= {\n",
    "    'ALAMANCE':'37001',\n",
    "    'ALEXANDER':'37003',\n",
    "    'ANSON':'37007',\n",
    "    'ASHE':'37009',\n",
    "    'AVERY':'37011',\n",
    "    'BEAUFORT':'37013',\n",
    "    'BERTIE':'37015',\n",
    "    'BLADEN':'37017',\n",
    "    'BRUNSWICK':'37019',\n",
    "    'BUNCOMBE':'37021',\n",
    "    'BURKE':'37023',\n",
    "    'CABARRUS':'37025',\n",
    "    'CALDWELL':'37027',\n",
    "    'CAMDEN':'37029',\n",
    "    'CARTERET':'37031',\n",
    "    'CASWELL':'37033',\n",
    "    'CATAWBA':'37035',\n",
    "    'CHATHAM':'37037',\n",
    "    'CHEROKEE':'37039',\n",
    "    'CHOWAN':'37041',\n",
    "    'CLAY':'37043',\n",
    "    'CLEVELAND':'37045',\n",
    "    'COLUMBUS':'37047',\n",
    "    'CRAVEN':'37049',\n",
    "    'CUMBERLAND':'37051',\n",
    "    'CURRITICK':'37053',\n",
    "    'DARE':'37055',\n",
    "    'DAVIDSON':'37057',\n",
    "    'DAVIE':'37059',\n",
    "    'DUPLIN':'37061',\n",
    "    'DURHAM':'37063',\n",
    "    'EDGECOMBE':'37065',\n",
    "    'FORSYTH':'37067',\n",
    "    'FRANKLIN':'37069',\n",
    "    'GASTON':'37071',\n",
    "    'GATES':'37073',\n",
    "    'GRAHAM':'37075',\n",
    "    'GRANVILLE':'37077',\n",
    "    'GREENE':'37079',\n",
    "    'GUILFORD':'37081',\n",
    "    'HALIFAX':'37083',\n",
    "    'HARNETT':'37085',\n",
    "    'HAYWOOD':'37087',\n",
    "    'HENDERSON':'37089',\n",
    "    'HERTFORD':'37091',\n",
    "    'HOKE':'37093',\n",
    "    'HYDE':'37095',\n",
    "    'IREDELL':'37097',\n",
    "    'JACKSON':'37099',\n",
    "    'JOHNSTON':'37101',\n",
    "    'JONES':'37103',\n",
    "    'LEE':'37105',\n",
    "    'LENOIR':'37107',\n",
    "    'LINCOLN':'37109',\n",
    "    'MCDOWELL':'37111',\n",
    "    'MACON':'37113',\n",
    "    'MADISON':'37115',\n",
    "    'MERTIN':'37117',\n",
    "    'MECKLENBURG':'37119',\n",
    "    'MITCHELL':'37121',\n",
    "    'MONTGOMERY':'37123',\n",
    "    'MOORE':'37125',\n",
    "    'NASH':'37127',\n",
    "    'NEW HANOVER':'37129',\n",
    "    'NORTHAMPTON':'37131',\n",
    "    'ONSLOW':'37133',\n",
    "    'ORANGE':'37135',\n",
    "    'PAMLICO':'37137',\n",
    "    'PASQUOTANK':'37139',\n",
    "    'PENDER':'37141',\n",
    "    'PERQUIMANS':'37143',\n",
    "    'PERSON':'37145',\n",
    "    'PITT':'37147',\n",
    "    'POLK':'37149',\n",
    "    'RANDOLPH':'37151',\n",
    "    'RICHMOND':'37153',\n",
    "    'ROCKINGHAM':'37157',\n",
    "    'ROWAN':'37159',\n",
    "    'RUTHERFORD':'37161',\n",
    "    'SAMPSON':'37163',\n",
    "    'SCOTLAND':'37165',\n",
    "    'STANLY':'37167',\n",
    "    'STOKES':'37169',\n",
    "    'SURRY':'37171',\n",
    "    'SWAIN':'37173',\n",
    "    'TRANSYLVANIA':'37175',\n",
    "    'TYRRELL':'37177',\n",
    "    'UNION':'37179',\n",
    "    'VANCE':'37181',\n",
    "    'WAKE':'37183',\n",
    "    'WARREN':'37185',\n",
    "    'WASHINGTON':'37187',\n",
    "    'WATAUGA':'37189',\n",
    "    'WAYNE':'37191',\n",
    "    'WILKES':'37193',\n",
    "    'WILSON':'37195',\n",
    "    'YADKIN':'37197',\n",
    "    'YANCEY':'37199'\n",
    "}"
   ]
  },
  {
   "cell_type": "markdown",
   "metadata": {},
   "source": [
    "*Election Data 2012*"
   ]
  },
  {
   "cell_type": "code",
   "execution_count": 214,
   "metadata": {},
   "outputs": [],
   "source": [
    "election_data_2012['countyID']=election_data_2012['county'].map(my_county)"
   ]
  },
  {
   "cell_type": "code",
   "execution_count": 215,
   "metadata": {},
   "outputs": [],
   "source": [
    "#Preparation to string together VTD_Key\n",
    "election_data_2012['countyID']=election_data_2012['countyID'].astype(str)\n",
    "election_data_2012['precinct']=election_data_2012['precinct'].astype(str)\n",
    "election_data_2012['precinctID']=election_data_2012['precinct'].str.zfill(2)\n",
    "election_data_2012[\"precinctID\"]=election_data_2012[\"precinct\"].str.split(\"_\", n=1, expand=True) \n",
    "\n",
    "#Combining state id, county fips, and precinct id to make VTD_Key\n",
    "election_data_2012['VTD_Key']=election_data_2012['countyID']+election_data_2012['precinctID']"
   ]
  },
  {
   "cell_type": "code",
   "execution_count": 216,
   "metadata": {},
   "outputs": [],
   "source": [
    "#Removing rows that has 'ONE STOP', 'ABSENTEE BY MAIL','PROVISIONAL', 'TRANSFER','CURBSIDE', 'ACCUMULATED'\n",
    "#create a dataframe that has the above words\n",
    "\n",
    "searchfor=['ABSENTEE','PROVISIONAL','TRANSFER']\n",
    "#nan=['nan']\n",
    "#remove rows that contains words from searchfor dataframe\n",
    "\n",
    "election_data_2012=election_data_2012[~election_data_2012.precinct.str.contains('|'.join(searchfor))]\n",
    "#election_data_2012=election_data_2012[~election_data_2012.county.str.contains('|'.join(nan))]\n",
    "\n",
    "#Filling in empty columns in party column to write in \n",
    "#election_data_2012.loc[election_data_2012[\"party\"].isnull(),'party']=\"Write_In\""
   ]
  },
  {
   "cell_type": "code",
   "execution_count": 217,
   "metadata": {},
   "outputs": [
    {
     "data": {
      "text/html": [
       "<div>\n",
       "<style scoped>\n",
       "    .dataframe tbody tr th:only-of-type {\n",
       "        vertical-align: middle;\n",
       "    }\n",
       "\n",
       "    .dataframe tbody tr th {\n",
       "        vertical-align: top;\n",
       "    }\n",
       "\n",
       "    .dataframe thead th {\n",
       "        text-align: right;\n",
       "    }\n",
       "</style>\n",
       "<table border=\"1\" class=\"dataframe\">\n",
       "  <thead>\n",
       "    <tr style=\"text-align: right;\">\n",
       "      <th></th>\n",
       "      <th>county</th>\n",
       "      <th>precinct</th>\n",
       "      <th>contest_type</th>\n",
       "      <th>runoff_status</th>\n",
       "      <th>recount_status</th>\n",
       "      <th>contest</th>\n",
       "      <th>choice</th>\n",
       "      <th>winner_status</th>\n",
       "      <th>party</th>\n",
       "      <th>Election Day</th>\n",
       "      <th>One Stop</th>\n",
       "      <th>Absentee by Mail</th>\n",
       "      <th>Provisional</th>\n",
       "      <th>total votes</th>\n",
       "      <th>district</th>\n",
       "      <th>countyID</th>\n",
       "      <th>precinctID</th>\n",
       "      <th>VTD_Key</th>\n",
       "    </tr>\n",
       "  </thead>\n",
       "  <tbody>\n",
       "    <tr>\n",
       "      <th>0</th>\n",
       "      <td>ALAMANCE</td>\n",
       "      <td>01_PATTERSON</td>\n",
       "      <td>S</td>\n",
       "      <td>0</td>\n",
       "      <td>0</td>\n",
       "      <td>PRESIDENT AND VICE PRESIDENT OF THE UNITED STATES</td>\n",
       "      <td>Obama/Biden</td>\n",
       "      <td>0</td>\n",
       "      <td>DEM</td>\n",
       "      <td>225</td>\n",
       "      <td>237</td>\n",
       "      <td>21</td>\n",
       "      <td>5</td>\n",
       "      <td>488</td>\n",
       "      <td>Not Found</td>\n",
       "      <td>37001</td>\n",
       "      <td>01</td>\n",
       "      <td>3700101</td>\n",
       "    </tr>\n",
       "    <tr>\n",
       "      <th>1</th>\n",
       "      <td>ALAMANCE</td>\n",
       "      <td>02_COBLE</td>\n",
       "      <td>S</td>\n",
       "      <td>0</td>\n",
       "      <td>0</td>\n",
       "      <td>PRESIDENT AND VICE PRESIDENT OF THE UNITED STATES</td>\n",
       "      <td>Obama/Biden</td>\n",
       "      <td>0</td>\n",
       "      <td>DEM</td>\n",
       "      <td>219</td>\n",
       "      <td>184</td>\n",
       "      <td>26</td>\n",
       "      <td>0</td>\n",
       "      <td>429</td>\n",
       "      <td>Not Found</td>\n",
       "      <td>37001</td>\n",
       "      <td>02</td>\n",
       "      <td>3700102</td>\n",
       "    </tr>\n",
       "    <tr>\n",
       "      <th>2</th>\n",
       "      <td>ALAMANCE</td>\n",
       "      <td>035_BOONE 5</td>\n",
       "      <td>S</td>\n",
       "      <td>0</td>\n",
       "      <td>0</td>\n",
       "      <td>PRESIDENT AND VICE PRESIDENT OF THE UNITED STATES</td>\n",
       "      <td>Obama/Biden</td>\n",
       "      <td>0</td>\n",
       "      <td>DEM</td>\n",
       "      <td>409</td>\n",
       "      <td>362</td>\n",
       "      <td>52</td>\n",
       "      <td>9</td>\n",
       "      <td>832</td>\n",
       "      <td>Not Found</td>\n",
       "      <td>37001</td>\n",
       "      <td>035</td>\n",
       "      <td>37001035</td>\n",
       "    </tr>\n",
       "    <tr>\n",
       "      <th>3</th>\n",
       "      <td>ALAMANCE</td>\n",
       "      <td>03C_CENTRAL BOONE</td>\n",
       "      <td>S</td>\n",
       "      <td>0</td>\n",
       "      <td>0</td>\n",
       "      <td>PRESIDENT AND VICE PRESIDENT OF THE UNITED STATES</td>\n",
       "      <td>Obama/Biden</td>\n",
       "      <td>0</td>\n",
       "      <td>DEM</td>\n",
       "      <td>203</td>\n",
       "      <td>288</td>\n",
       "      <td>35</td>\n",
       "      <td>0</td>\n",
       "      <td>526</td>\n",
       "      <td>Not Found</td>\n",
       "      <td>37001</td>\n",
       "      <td>03C</td>\n",
       "      <td>3700103C</td>\n",
       "    </tr>\n",
       "    <tr>\n",
       "      <th>4</th>\n",
       "      <td>ALAMANCE</td>\n",
       "      <td>03N_NORTH BOONE</td>\n",
       "      <td>S</td>\n",
       "      <td>0</td>\n",
       "      <td>0</td>\n",
       "      <td>PRESIDENT AND VICE PRESIDENT OF THE UNITED STATES</td>\n",
       "      <td>Obama/Biden</td>\n",
       "      <td>0</td>\n",
       "      <td>DEM</td>\n",
       "      <td>380</td>\n",
       "      <td>429</td>\n",
       "      <td>70</td>\n",
       "      <td>2</td>\n",
       "      <td>881</td>\n",
       "      <td>Not Found</td>\n",
       "      <td>37001</td>\n",
       "      <td>03N</td>\n",
       "      <td>3700103N</td>\n",
       "    </tr>\n",
       "  </tbody>\n",
       "</table>\n",
       "</div>"
      ],
      "text/plain": [
       "     county           precinct contest_type  runoff_status   recount_status  \\\n",
       "0  ALAMANCE       01_PATTERSON            S               0               0   \n",
       "1  ALAMANCE           02_COBLE            S               0               0   \n",
       "2  ALAMANCE        035_BOONE 5            S               0               0   \n",
       "3  ALAMANCE  03C_CENTRAL BOONE            S               0               0   \n",
       "4  ALAMANCE    03N_NORTH BOONE            S               0               0   \n",
       "\n",
       "                                             contest       choice  \\\n",
       "0  PRESIDENT AND VICE PRESIDENT OF THE UNITED STATES  Obama/Biden   \n",
       "1  PRESIDENT AND VICE PRESIDENT OF THE UNITED STATES  Obama/Biden   \n",
       "2  PRESIDENT AND VICE PRESIDENT OF THE UNITED STATES  Obama/Biden   \n",
       "3  PRESIDENT AND VICE PRESIDENT OF THE UNITED STATES  Obama/Biden   \n",
       "4  PRESIDENT AND VICE PRESIDENT OF THE UNITED STATES  Obama/Biden   \n",
       "\n",
       "   winner_status party  Election Day  One Stop  Absentee by Mail  Provisional  \\\n",
       "0              0   DEM           225       237                21            5   \n",
       "1              0   DEM           219       184                26            0   \n",
       "2              0   DEM           409       362                52            9   \n",
       "3              0   DEM           203       288                35            0   \n",
       "4              0   DEM           380       429                70            2   \n",
       "\n",
       "   total votes   district countyID precinctID   VTD_Key  \n",
       "0          488  Not Found    37001         01   3700101  \n",
       "1          429  Not Found    37001         02   3700102  \n",
       "2          832  Not Found    37001        035  37001035  \n",
       "3          526  Not Found    37001        03C  3700103C  \n",
       "4          881  Not Found    37001        03N  3700103N  "
      ]
     },
     "execution_count": 217,
     "metadata": {},
     "output_type": "execute_result"
    }
   ],
   "source": [
    "election_data_2012.head()"
   ]
  },
  {
   "cell_type": "code",
   "execution_count": 218,
   "metadata": {},
   "outputs": [],
   "source": [
    "office_list_2012=[\"PRESIDENT AND VICE PRESIDENT OF THE UNITED STATES\"]\n",
    "party_list=[\"REP\",\"DEM\",\"LIB\",\"Write_In\"]\n",
    "election_data_2012=election_data_2012[election_data_2012['contest'].isin(office_list_2012)]\n",
    "election_data_2012=election_data_2012[election_data_2012['party'].isin(party_list)]"
   ]
  },
  {
   "cell_type": "code",
   "execution_count": 219,
   "metadata": {},
   "outputs": [],
   "source": [
    "#pivoting the election 2012 dataset\n",
    "election_data_2012_p=pd.pivot_table(election_data_2012,index=\"VTD_Key\",columns=[\"party\"],values='total votes',aggfunc=sum)\n",
    "election_data_2012_p.columns=[\"EL12G_PR_D\",\"EL12G_PR_L\",\"EL12G_PR_R\"]\n",
    "election_data_2012_p.reset_index(inplace=True)\n"
   ]
  },
  {
   "cell_type": "code",
   "execution_count": 220,
   "metadata": {},
   "outputs": [
    {
     "data": {
      "text/html": [
       "<div>\n",
       "<style scoped>\n",
       "    .dataframe tbody tr th:only-of-type {\n",
       "        vertical-align: middle;\n",
       "    }\n",
       "\n",
       "    .dataframe tbody tr th {\n",
       "        vertical-align: top;\n",
       "    }\n",
       "\n",
       "    .dataframe thead th {\n",
       "        text-align: right;\n",
       "    }\n",
       "</style>\n",
       "<table border=\"1\" class=\"dataframe\">\n",
       "  <thead>\n",
       "    <tr style=\"text-align: right;\">\n",
       "      <th></th>\n",
       "      <th>VTD_Key</th>\n",
       "      <th>EL12G_PR_D</th>\n",
       "      <th>EL12G_PR_L</th>\n",
       "      <th>EL12G_PR_R</th>\n",
       "    </tr>\n",
       "  </thead>\n",
       "  <tbody>\n",
       "    <tr>\n",
       "      <th>0</th>\n",
       "      <td>3700101</td>\n",
       "      <td>488</td>\n",
       "      <td>16</td>\n",
       "      <td>1661</td>\n",
       "    </tr>\n",
       "    <tr>\n",
       "      <th>1</th>\n",
       "      <td>3700102</td>\n",
       "      <td>429</td>\n",
       "      <td>32</td>\n",
       "      <td>1936</td>\n",
       "    </tr>\n",
       "  </tbody>\n",
       "</table>\n",
       "</div>"
      ],
      "text/plain": [
       "   VTD_Key  EL12G_PR_D  EL12G_PR_L  EL12G_PR_R\n",
       "0  3700101         488          16        1661\n",
       "1  3700102         429          32        1936"
      ]
     },
     "execution_count": 220,
     "metadata": {},
     "output_type": "execute_result"
    }
   ],
   "source": [
    "election_data_2012_p.head(2)"
   ]
  },
  {
   "cell_type": "code",
   "execution_count": 221,
   "metadata": {},
   "outputs": [
    {
     "data": {
      "text/plain": [
       "(2845, 4)"
      ]
     },
     "execution_count": 221,
     "metadata": {},
     "output_type": "execute_result"
    }
   ],
   "source": [
    "election_data_2012_p.shape"
   ]
  },
  {
   "cell_type": "code",
   "execution_count": 222,
   "metadata": {},
   "outputs": [
    {
     "name": "stdout",
     "output_type": "stream",
     "text": [
      "Empty DataFrame\n",
      "Columns: [county, precinct, contest_type, runoff_status , recount_status, contest, choice, winner_status, party, Election Day, One Stop, Absentee by Mail, Provisional, total votes, district, countyID, precinctID, VTD_Key]\n",
      "Index: []\n"
     ]
    }
   ],
   "source": [
    "contain_values=election_data_2012[election_data_2012['VTD_Key'].str.contains('3715920')&election_data_2012['total votes']==None]\n",
    "print(contain_values)"
   ]
  },
  {
   "cell_type": "markdown",
   "metadata": {},
   "source": [
    "*Election Data 2016*"
   ]
  },
  {
   "cell_type": "code",
   "execution_count": 223,
   "metadata": {},
   "outputs": [],
   "source": [
    "election_data_2016['countyID']=election_data_2016['County'].map(my_county)"
   ]
  },
  {
   "cell_type": "code",
   "execution_count": 224,
   "metadata": {},
   "outputs": [],
   "source": [
    "#Preparation to string together VTD_Key\n",
    "election_data_2016['countyID']=election_data_2016['countyID'].astype(str)\n",
    "election_data_2016['Precinct']=election_data_2016['Precinct'].astype(str)\n",
    "election_data_2016['precinctID']=election_data_2016['Precinct'].str.zfill(2)\n",
    "\n",
    "#Combining state id, county fips, and precinct id to make VTD_Key\n",
    "election_data_2016['VTD_Key']=election_data_2016['countyID']+election_data_2016['precinctID']"
   ]
  },
  {
   "cell_type": "code",
   "execution_count": 225,
   "metadata": {},
   "outputs": [],
   "source": [
    "#Removing rows that has 'ONE STOP', 'ABSENTEE BY MAIL','PROVISIONAL', 'TRANSFER','CURBSIDE', 'ACCUMULATED'\n",
    "#create a dataframe that has the above words\n",
    "\n",
    "#searchfor=['ABSENTEE','PROVISIONAL','TRANSFER']\n",
    "#nan=['nan']\n",
    "#remove rows that contains words from searchfor dataframe\n",
    "\n",
    "#election_data_2016=election_data_2016[~election_data_2016.Precinct.str.contains('|'.join(searchfor))]\n",
    "#election_data_2016=election_data_2016[~election_data_2016.County.str.contains('|'.join(nan))]"
   ]
  },
  {
   "cell_type": "code",
   "execution_count": 226,
   "metadata": {},
   "outputs": [],
   "source": [
    "#filtering the dataset\n",
    "\n",
    "office_list_2016=[\"US PRESIDENT\",\"US SENATE\",\"NC GOVERNOR\"]\n",
    "party_list=[\"REP\",\"DEM\",\"LIB\"]\n",
    "election_data_2016=election_data_2016[election_data_2016['Contest Name'].isin(office_list_2016)]\n",
    "election_data_2016=election_data_2016[election_data_2016['Choice Party'].isin(party_list)]\n",
    "#election_2016=election_2016_filter[election_2016_filter['Choice'].isin(write_in)]\n"
   ]
  },
  {
   "cell_type": "code",
   "execution_count": 227,
   "metadata": {},
   "outputs": [
    {
     "data": {
      "text/html": [
       "<div>\n",
       "<style scoped>\n",
       "    .dataframe tbody tr th:only-of-type {\n",
       "        vertical-align: middle;\n",
       "    }\n",
       "\n",
       "    .dataframe tbody tr th {\n",
       "        vertical-align: top;\n",
       "    }\n",
       "\n",
       "    .dataframe thead th {\n",
       "        text-align: right;\n",
       "    }\n",
       "</style>\n",
       "<table border=\"1\" class=\"dataframe\">\n",
       "  <thead>\n",
       "    <tr style=\"text-align: right;\">\n",
       "      <th></th>\n",
       "      <th>VTD_Key</th>\n",
       "      <th>EL16G_GV_D</th>\n",
       "      <th>EL16G_GV_L</th>\n",
       "      <th>EL16G_GV_R</th>\n",
       "      <th>EL16G_PR_D</th>\n",
       "      <th>EL16G_PR_L</th>\n",
       "      <th>EL16G_PR_R</th>\n",
       "      <th>EL16G_US_1</th>\n",
       "      <th>EL16G_US_2</th>\n",
       "      <th>EL16G_USS_</th>\n",
       "    </tr>\n",
       "  </thead>\n",
       "  <tbody>\n",
       "    <tr>\n",
       "      <th>0</th>\n",
       "      <td>3700101</td>\n",
       "      <td>499</td>\n",
       "      <td>45</td>\n",
       "      <td>1806</td>\n",
       "      <td>411</td>\n",
       "      <td>50</td>\n",
       "      <td>1865</td>\n",
       "      <td>418</td>\n",
       "      <td>89</td>\n",
       "      <td>1829</td>\n",
       "    </tr>\n",
       "    <tr>\n",
       "      <th>1</th>\n",
       "      <td>3700102</td>\n",
       "      <td>497</td>\n",
       "      <td>39</td>\n",
       "      <td>1927</td>\n",
       "      <td>403</td>\n",
       "      <td>40</td>\n",
       "      <td>2004</td>\n",
       "      <td>396</td>\n",
       "      <td>79</td>\n",
       "      <td>1973</td>\n",
       "    </tr>\n",
       "  </tbody>\n",
       "</table>\n",
       "</div>"
      ],
      "text/plain": [
       "   VTD_Key  EL16G_GV_D  EL16G_GV_L  EL16G_GV_R  EL16G_PR_D  EL16G_PR_L  \\\n",
       "0  3700101         499          45        1806         411          50   \n",
       "1  3700102         497          39        1927         403          40   \n",
       "\n",
       "   EL16G_PR_R  EL16G_US_1  EL16G_US_2  EL16G_USS_  \n",
       "0        1865         418          89        1829  \n",
       "1        2004         396          79        1973  "
      ]
     },
     "execution_count": 227,
     "metadata": {},
     "output_type": "execute_result"
    }
   ],
   "source": [
    "#pivoting the election 2016 dataset\n",
    "election_data_2016_p=pd.pivot_table(election_data_2016,index=\"VTD_Key\",columns=[\"Contest Name\",\"Choice Party\"],values='Total Votes',aggfunc=sum)\n",
    "election_data_2016_p.columns=[\"EL16G_GV_D\",\"EL16G_GV_L\",\"EL16G_GV_R\",\"EL16G_PR_D\",\"EL16G_PR_L\",\"EL16G_PR_R\",\"EL16G_US_1\",\"EL16G_US_2\",\"EL16G_USS_\"]\n",
    "election_data_2016_p.reset_index(inplace=True)\n",
    "election_data_2016_p.head(2)\n"
   ]
  },
  {
   "cell_type": "code",
   "execution_count": 228,
   "metadata": {},
   "outputs": [
    {
     "name": "stdout",
     "output_type": "stream",
     "text": [
      "Empty DataFrame\n",
      "Columns: [county, precinct, contest_type, runoff_status , recount_status, contest, choice, winner_status, party, Election Day, One Stop, Absentee by Mail, Provisional, total votes, district, countyID, precinctID, VTD_Key]\n",
      "Index: []\n"
     ]
    }
   ],
   "source": [
    "contain_values=election_data_2012[election_data_2012['VTD_Key'].str.contains('3715920')]\n",
    "print(contain_values)\n"
   ]
  },
  {
   "cell_type": "code",
   "execution_count": 229,
   "metadata": {},
   "outputs": [],
   "source": [
    "#election_data=pd.merge(vtd_election_data,election_data_2012_p,on='VTD_Key',how='inner')\n"
   ]
  },
  {
   "cell_type": "code",
   "execution_count": 230,
   "metadata": {},
   "outputs": [],
   "source": [
    "#election_data=pd.merge(vtd_election_data,election_data_2016_p,on='VTD_Key',how='inner')"
   ]
  },
  {
   "cell_type": "code",
   "execution_count": 320,
   "metadata": {},
   "outputs": [],
   "source": [
    "election_data=pd.merge(vtd_election_data,election_data_2012_p,on='VTD_Key',how='outer',indicator='EL12')\n",
    "\n"
   ]
  },
  {
   "cell_type": "code",
   "execution_count": 321,
   "metadata": {},
   "outputs": [],
   "source": [
    "election_data=pd.merge(election_data,election_data_2016_p,on='VTD_Key',how='outer',indicator='EL16')\n",
    "\n"
   ]
  },
  {
   "cell_type": "code",
   "execution_count": 322,
   "metadata": {},
   "outputs": [
    {
     "data": {
      "text/plain": [
       "(4182, 92)"
      ]
     },
     "execution_count": 322,
     "metadata": {},
     "output_type": "execute_result"
    }
   ],
   "source": [
    "election_data.shape"
   ]
  },
  {
   "cell_type": "code",
   "execution_count": 234,
   "metadata": {},
   "outputs": [],
   "source": [
    "election_data.to_csv('election_data_joined.csv')"
   ]
  },
  {
   "cell_type": "markdown",
   "metadata": {},
   "source": [
    "**Set Shapefile Projections**"
   ]
  },
  {
   "cell_type": "code",
   "execution_count": 235,
   "metadata": {},
   "outputs": [],
   "source": [
    "precincts.crs\n",
    "proj=precincts.crs\n",
    "precincts=precincts.to_crs(proj)\n",
    "block_shp=block_shp.to_crs(proj)"
   ]
  },
  {
   "cell_type": "markdown",
   "metadata": {},
   "source": [
    "**Join Block-Level Demographic Data with Block-Level Shapefile**"
   ]
  },
  {
   "cell_type": "code",
   "execution_count": 236,
   "metadata": {},
   "outputs": [],
   "source": [
    "block_joined= pd.merge(block_shp,nc,on='GEOID10',how='left',indicator='blk_jnd')\n"
   ]
  },
  {
   "cell_type": "markdown",
   "metadata": {},
   "source": [
    "Check total population- Join is good"
   ]
  },
  {
   "cell_type": "code",
   "execution_count": 237,
   "metadata": {},
   "outputs": [
    {
     "data": {
      "text/plain": [
       "9535483"
      ]
     },
     "execution_count": 237,
     "metadata": {},
     "output_type": "execute_result"
    }
   ],
   "source": [
    "block_joined.TOTPOP.sum()"
   ]
  },
  {
   "cell_type": "markdown",
   "metadata": {},
   "source": [
    "Checking if map looks right-shape looks good"
   ]
  },
  {
   "cell_type": "code",
   "execution_count": 238,
   "metadata": {},
   "outputs": [
    {
     "data": {
      "text/plain": [
       "<matplotlib.axes._subplots.AxesSubplot at 0x7f9be3be6400>"
      ]
     },
     "execution_count": 238,
     "metadata": {},
     "output_type": "execute_result"
    },
    {
     "data": {
      "image/png": "[encoded data removed]",
      "text/plain": [
       "<Figure size 432x288 with 1 Axes>"
      ]
     },
     "metadata": {
      "needs_background": "light"
     },
     "output_type": "display_data"
    },
    {
     "data": {
      "image/png": "[encoded data removed]",
      "text/plain": [
       "<Figure size 432x288 with 1 Axes>"
      ]
     },
     "metadata": {
      "needs_background": "light"
     },
     "output_type": "display_data"
    }
   ],
   "source": [
    "block_joined.plot()\n",
    "precincts.plot(color='purple')"
   ]
  },
  {
   "cell_type": "markdown",
   "metadata": {},
   "source": [
    "**Prorate Demographic and Voting Population Data from the Block Level to VTD using Block_Keys**"
   ]
  },
  {
   "cell_type": "markdown",
   "metadata": {},
   "source": [
    "Using Block Keys because that was the method MGGG specified. "
   ]
  },
  {
   "cell_type": "code",
   "execution_count": 239,
   "metadata": {},
   "outputs": [
    {
     "data": {
      "text/html": [
       "<div>\n",
       "<style scoped>\n",
       "    .dataframe tbody tr th:only-of-type {\n",
       "        vertical-align: middle;\n",
       "    }\n",
       "\n",
       "    .dataframe tbody tr th {\n",
       "        vertical-align: top;\n",
       "    }\n",
       "\n",
       "    .dataframe thead th {\n",
       "        text-align: right;\n",
       "    }\n",
       "</style>\n",
       "<table border=\"1\" class=\"dataframe\">\n",
       "  <thead>\n",
       "    <tr style=\"text-align: right;\">\n",
       "      <th></th>\n",
       "      <th>STATEFP10</th>\n",
       "      <th>COUNTYFP10</th>\n",
       "      <th>TRACTCE10</th>\n",
       "      <th>BLOCKCE10</th>\n",
       "      <th>GEOID10</th>\n",
       "      <th>NAME10</th>\n",
       "      <th>MTFCC10</th>\n",
       "      <th>UR10</th>\n",
       "      <th>UACE10</th>\n",
       "      <th>UATYPE</th>\n",
       "      <th>...</th>\n",
       "      <th>ASIANVAP</th>\n",
       "      <th>NHPIVAP</th>\n",
       "      <th>OTHERVAP</th>\n",
       "      <th>2MOREVAP</th>\n",
       "      <th>NAME</th>\n",
       "      <th>state</th>\n",
       "      <th>county</th>\n",
       "      <th>tract</th>\n",
       "      <th>block</th>\n",
       "      <th>blk_jnd</th>\n",
       "    </tr>\n",
       "  </thead>\n",
       "  <tbody>\n",
       "    <tr>\n",
       "      <th>0</th>\n",
       "      <td>37</td>\n",
       "      <td>031</td>\n",
       "      <td>970602</td>\n",
       "      <td>1022</td>\n",
       "      <td>370319706021022</td>\n",
       "      <td>Block 1022</td>\n",
       "      <td>G5040</td>\n",
       "      <td>R</td>\n",
       "      <td>None</td>\n",
       "      <td>None</td>\n",
       "      <td>...</td>\n",
       "      <td>0</td>\n",
       "      <td>0</td>\n",
       "      <td>0</td>\n",
       "      <td>0</td>\n",
       "      <td>Block 1022, Block Group 1, Census Tract 9706.0...</td>\n",
       "      <td>37</td>\n",
       "      <td>31</td>\n",
       "      <td>970602</td>\n",
       "      <td>1022</td>\n",
       "      <td>both</td>\n",
       "    </tr>\n",
       "    <tr>\n",
       "      <th>1</th>\n",
       "      <td>37</td>\n",
       "      <td>031</td>\n",
       "      <td>970801</td>\n",
       "      <td>2031</td>\n",
       "      <td>370319708012031</td>\n",
       "      <td>Block 2031</td>\n",
       "      <td>G5040</td>\n",
       "      <td>R</td>\n",
       "      <td>None</td>\n",
       "      <td>None</td>\n",
       "      <td>...</td>\n",
       "      <td>0</td>\n",
       "      <td>0</td>\n",
       "      <td>0</td>\n",
       "      <td>0</td>\n",
       "      <td>Block 2031, Block Group 2, Census Tract 9708.0...</td>\n",
       "      <td>37</td>\n",
       "      <td>31</td>\n",
       "      <td>970801</td>\n",
       "      <td>2031</td>\n",
       "      <td>both</td>\n",
       "    </tr>\n",
       "    <tr>\n",
       "      <th>2</th>\n",
       "      <td>37</td>\n",
       "      <td>031</td>\n",
       "      <td>970805</td>\n",
       "      <td>1034</td>\n",
       "      <td>370319708051034</td>\n",
       "      <td>Block 1034</td>\n",
       "      <td>G5040</td>\n",
       "      <td>R</td>\n",
       "      <td>None</td>\n",
       "      <td>None</td>\n",
       "      <td>...</td>\n",
       "      <td>0</td>\n",
       "      <td>0</td>\n",
       "      <td>0</td>\n",
       "      <td>0</td>\n",
       "      <td>Block 1034, Block Group 1, Census Tract 9708.0...</td>\n",
       "      <td>37</td>\n",
       "      <td>31</td>\n",
       "      <td>970805</td>\n",
       "      <td>1034</td>\n",
       "      <td>both</td>\n",
       "    </tr>\n",
       "    <tr>\n",
       "      <th>3</th>\n",
       "      <td>37</td>\n",
       "      <td>031</td>\n",
       "      <td>970801</td>\n",
       "      <td>2036</td>\n",
       "      <td>370319708012036</td>\n",
       "      <td>Block 2036</td>\n",
       "      <td>G5040</td>\n",
       "      <td>R</td>\n",
       "      <td>None</td>\n",
       "      <td>None</td>\n",
       "      <td>...</td>\n",
       "      <td>0</td>\n",
       "      <td>0</td>\n",
       "      <td>0</td>\n",
       "      <td>0</td>\n",
       "      <td>Block 2036, Block Group 2, Census Tract 9708.0...</td>\n",
       "      <td>37</td>\n",
       "      <td>31</td>\n",
       "      <td>970801</td>\n",
       "      <td>2036</td>\n",
       "      <td>both</td>\n",
       "    </tr>\n",
       "    <tr>\n",
       "      <th>4</th>\n",
       "      <td>37</td>\n",
       "      <td>031</td>\n",
       "      <td>970801</td>\n",
       "      <td>2056</td>\n",
       "      <td>370319708012056</td>\n",
       "      <td>Block 2056</td>\n",
       "      <td>G5040</td>\n",
       "      <td>U</td>\n",
       "      <td>59194</td>\n",
       "      <td>C</td>\n",
       "      <td>...</td>\n",
       "      <td>0</td>\n",
       "      <td>0</td>\n",
       "      <td>0</td>\n",
       "      <td>0</td>\n",
       "      <td>Block 2056, Block Group 2, Census Tract 9708.0...</td>\n",
       "      <td>37</td>\n",
       "      <td>31</td>\n",
       "      <td>970801</td>\n",
       "      <td>2056</td>\n",
       "      <td>both</td>\n",
       "    </tr>\n",
       "    <tr>\n",
       "      <th>5</th>\n",
       "      <td>37</td>\n",
       "      <td>031</td>\n",
       "      <td>970804</td>\n",
       "      <td>1008</td>\n",
       "      <td>370319708041008</td>\n",
       "      <td>Block 1008</td>\n",
       "      <td>G5040</td>\n",
       "      <td>R</td>\n",
       "      <td>None</td>\n",
       "      <td>None</td>\n",
       "      <td>...</td>\n",
       "      <td>0</td>\n",
       "      <td>0</td>\n",
       "      <td>0</td>\n",
       "      <td>0</td>\n",
       "      <td>Block 1008, Block Group 1, Census Tract 9708.0...</td>\n",
       "      <td>37</td>\n",
       "      <td>31</td>\n",
       "      <td>970804</td>\n",
       "      <td>1008</td>\n",
       "      <td>both</td>\n",
       "    </tr>\n",
       "    <tr>\n",
       "      <th>6</th>\n",
       "      <td>37</td>\n",
       "      <td>031</td>\n",
       "      <td>970802</td>\n",
       "      <td>1015</td>\n",
       "      <td>370319708021015</td>\n",
       "      <td>Block 1015</td>\n",
       "      <td>G5040</td>\n",
       "      <td>U</td>\n",
       "      <td>59194</td>\n",
       "      <td>C</td>\n",
       "      <td>...</td>\n",
       "      <td>0</td>\n",
       "      <td>0</td>\n",
       "      <td>0</td>\n",
       "      <td>0</td>\n",
       "      <td>Block 1015, Block Group 1, Census Tract 9708.0...</td>\n",
       "      <td>37</td>\n",
       "      <td>31</td>\n",
       "      <td>970802</td>\n",
       "      <td>1015</td>\n",
       "      <td>both</td>\n",
       "    </tr>\n",
       "    <tr>\n",
       "      <th>7</th>\n",
       "      <td>37</td>\n",
       "      <td>031</td>\n",
       "      <td>970804</td>\n",
       "      <td>2034</td>\n",
       "      <td>370319708042034</td>\n",
       "      <td>Block 2034</td>\n",
       "      <td>G5040</td>\n",
       "      <td>R</td>\n",
       "      <td>None</td>\n",
       "      <td>None</td>\n",
       "      <td>...</td>\n",
       "      <td>0</td>\n",
       "      <td>0</td>\n",
       "      <td>0</td>\n",
       "      <td>0</td>\n",
       "      <td>Block 2034, Block Group 2, Census Tract 9708.0...</td>\n",
       "      <td>37</td>\n",
       "      <td>31</td>\n",
       "      <td>970804</td>\n",
       "      <td>2034</td>\n",
       "      <td>both</td>\n",
       "    </tr>\n",
       "    <tr>\n",
       "      <th>8</th>\n",
       "      <td>37</td>\n",
       "      <td>031</td>\n",
       "      <td>970804</td>\n",
       "      <td>2030</td>\n",
       "      <td>370319708042030</td>\n",
       "      <td>Block 2030</td>\n",
       "      <td>G5040</td>\n",
       "      <td>R</td>\n",
       "      <td>None</td>\n",
       "      <td>None</td>\n",
       "      <td>...</td>\n",
       "      <td>0</td>\n",
       "      <td>0</td>\n",
       "      <td>0</td>\n",
       "      <td>0</td>\n",
       "      <td>Block 2030, Block Group 2, Census Tract 9708.0...</td>\n",
       "      <td>37</td>\n",
       "      <td>31</td>\n",
       "      <td>970804</td>\n",
       "      <td>2030</td>\n",
       "      <td>both</td>\n",
       "    </tr>\n",
       "    <tr>\n",
       "      <th>9</th>\n",
       "      <td>37</td>\n",
       "      <td>031</td>\n",
       "      <td>970802</td>\n",
       "      <td>1067</td>\n",
       "      <td>370319708021067</td>\n",
       "      <td>Block 1067</td>\n",
       "      <td>G5040</td>\n",
       "      <td>U</td>\n",
       "      <td>59194</td>\n",
       "      <td>C</td>\n",
       "      <td>...</td>\n",
       "      <td>0</td>\n",
       "      <td>0</td>\n",
       "      <td>0</td>\n",
       "      <td>0</td>\n",
       "      <td>Block 1067, Block Group 1, Census Tract 9708.0...</td>\n",
       "      <td>37</td>\n",
       "      <td>31</td>\n",
       "      <td>970802</td>\n",
       "      <td>1067</td>\n",
       "      <td>both</td>\n",
       "    </tr>\n",
       "  </tbody>\n",
       "</table>\n",
       "<p>10 rows × 41 columns</p>\n",
       "</div>"
      ],
      "text/plain": [
       "  STATEFP10 COUNTYFP10 TRACTCE10 BLOCKCE10          GEOID10      NAME10  \\\n",
       "0        37        031    970602      1022  370319706021022  Block 1022   \n",
       "1        37        031    970801      2031  370319708012031  Block 2031   \n",
       "2        37        031    970805      1034  370319708051034  Block 1034   \n",
       "3        37        031    970801      2036  370319708012036  Block 2036   \n",
       "4        37        031    970801      2056  370319708012056  Block 2056   \n",
       "5        37        031    970804      1008  370319708041008  Block 1008   \n",
       "6        37        031    970802      1015  370319708021015  Block 1015   \n",
       "7        37        031    970804      2034  370319708042034  Block 2034   \n",
       "8        37        031    970804      2030  370319708042030  Block 2030   \n",
       "9        37        031    970802      1067  370319708021067  Block 1067   \n",
       "\n",
       "  MTFCC10 UR10 UACE10 UATYPE  ... ASIANVAP  NHPIVAP  OTHERVAP 2MOREVAP  \\\n",
       "0   G5040    R   None   None  ...        0        0         0        0   \n",
       "1   G5040    R   None   None  ...        0        0         0        0   \n",
       "2   G5040    R   None   None  ...        0        0         0        0   \n",
       "3   G5040    R   None   None  ...        0        0         0        0   \n",
       "4   G5040    U  59194      C  ...        0        0         0        0   \n",
       "5   G5040    R   None   None  ...        0        0         0        0   \n",
       "6   G5040    U  59194      C  ...        0        0         0        0   \n",
       "7   G5040    R   None   None  ...        0        0         0        0   \n",
       "8   G5040    R   None   None  ...        0        0         0        0   \n",
       "9   G5040    U  59194      C  ...        0        0         0        0   \n",
       "\n",
       "                                                NAME state  county   tract  \\\n",
       "0  Block 1022, Block Group 1, Census Tract 9706.0...    37      31  970602   \n",
       "1  Block 2031, Block Group 2, Census Tract 9708.0...    37      31  970801   \n",
       "2  Block 1034, Block Group 1, Census Tract 9708.0...    37      31  970805   \n",
       "3  Block 2036, Block Group 2, Census Tract 9708.0...    37      31  970801   \n",
       "4  Block 2056, Block Group 2, Census Tract 9708.0...    37      31  970801   \n",
       "5  Block 1008, Block Group 1, Census Tract 9708.0...    37      31  970804   \n",
       "6  Block 1015, Block Group 1, Census Tract 9708.0...    37      31  970802   \n",
       "7  Block 2034, Block Group 2, Census Tract 9708.0...    37      31  970804   \n",
       "8  Block 2030, Block Group 2, Census Tract 9708.0...    37      31  970804   \n",
       "9  Block 1067, Block Group 1, Census Tract 9708.0...    37      31  970802   \n",
       "\n",
       "   block  blk_jnd  \n",
       "0   1022     both  \n",
       "1   2031     both  \n",
       "2   1034     both  \n",
       "3   2036     both  \n",
       "4   2056     both  \n",
       "5   1008     both  \n",
       "6   1015     both  \n",
       "7   2034     both  \n",
       "8   2030     both  \n",
       "9   1067     both  \n",
       "\n",
       "[10 rows x 41 columns]"
      ]
     },
     "execution_count": 239,
     "metadata": {},
     "output_type": "execute_result"
    }
   ],
   "source": [
    "block_joined.head(10)"
   ]
  },
  {
   "cell_type": "code",
   "execution_count": 240,
   "metadata": {},
   "outputs": [],
   "source": [
    "block_joined = block_joined.rename(columns={\"GEOID10\": \"Block_Key\"})"
   ]
  },
  {
   "cell_type": "code",
   "execution_count": 241,
   "metadata": {},
   "outputs": [
    {
     "data": {
      "text/html": [
       "<div>\n",
       "<style scoped>\n",
       "    .dataframe tbody tr th:only-of-type {\n",
       "        vertical-align: middle;\n",
       "    }\n",
       "\n",
       "    .dataframe tbody tr th {\n",
       "        vertical-align: top;\n",
       "    }\n",
       "\n",
       "    .dataframe thead th {\n",
       "        text-align: right;\n",
       "    }\n",
       "</style>\n",
       "<table border=\"1\" class=\"dataframe\">\n",
       "  <thead>\n",
       "    <tr style=\"text-align: right;\">\n",
       "      <th></th>\n",
       "      <th>STATEFP10</th>\n",
       "      <th>COUNTYFP10</th>\n",
       "      <th>TRACTCE10</th>\n",
       "      <th>BLOCKCE10</th>\n",
       "      <th>Block_Key</th>\n",
       "      <th>NAME10</th>\n",
       "      <th>MTFCC10</th>\n",
       "      <th>UR10</th>\n",
       "      <th>UACE10</th>\n",
       "      <th>UATYPE</th>\n",
       "      <th>...</th>\n",
       "      <th>ASIANVAP</th>\n",
       "      <th>NHPIVAP</th>\n",
       "      <th>OTHERVAP</th>\n",
       "      <th>2MOREVAP</th>\n",
       "      <th>NAME</th>\n",
       "      <th>state</th>\n",
       "      <th>county</th>\n",
       "      <th>tract</th>\n",
       "      <th>block</th>\n",
       "      <th>blk_jnd</th>\n",
       "    </tr>\n",
       "  </thead>\n",
       "  <tbody>\n",
       "    <tr>\n",
       "      <th>0</th>\n",
       "      <td>37</td>\n",
       "      <td>031</td>\n",
       "      <td>970602</td>\n",
       "      <td>1022</td>\n",
       "      <td>370319706021022</td>\n",
       "      <td>Block 1022</td>\n",
       "      <td>G5040</td>\n",
       "      <td>R</td>\n",
       "      <td>None</td>\n",
       "      <td>None</td>\n",
       "      <td>...</td>\n",
       "      <td>0</td>\n",
       "      <td>0</td>\n",
       "      <td>0</td>\n",
       "      <td>0</td>\n",
       "      <td>Block 1022, Block Group 1, Census Tract 9706.0...</td>\n",
       "      <td>37</td>\n",
       "      <td>31</td>\n",
       "      <td>970602</td>\n",
       "      <td>1022</td>\n",
       "      <td>both</td>\n",
       "    </tr>\n",
       "    <tr>\n",
       "      <th>1</th>\n",
       "      <td>37</td>\n",
       "      <td>031</td>\n",
       "      <td>970801</td>\n",
       "      <td>2031</td>\n",
       "      <td>370319708012031</td>\n",
       "      <td>Block 2031</td>\n",
       "      <td>G5040</td>\n",
       "      <td>R</td>\n",
       "      <td>None</td>\n",
       "      <td>None</td>\n",
       "      <td>...</td>\n",
       "      <td>0</td>\n",
       "      <td>0</td>\n",
       "      <td>0</td>\n",
       "      <td>0</td>\n",
       "      <td>Block 2031, Block Group 2, Census Tract 9708.0...</td>\n",
       "      <td>37</td>\n",
       "      <td>31</td>\n",
       "      <td>970801</td>\n",
       "      <td>2031</td>\n",
       "      <td>both</td>\n",
       "    </tr>\n",
       "    <tr>\n",
       "      <th>2</th>\n",
       "      <td>37</td>\n",
       "      <td>031</td>\n",
       "      <td>970805</td>\n",
       "      <td>1034</td>\n",
       "      <td>370319708051034</td>\n",
       "      <td>Block 1034</td>\n",
       "      <td>G5040</td>\n",
       "      <td>R</td>\n",
       "      <td>None</td>\n",
       "      <td>None</td>\n",
       "      <td>...</td>\n",
       "      <td>0</td>\n",
       "      <td>0</td>\n",
       "      <td>0</td>\n",
       "      <td>0</td>\n",
       "      <td>Block 1034, Block Group 1, Census Tract 9708.0...</td>\n",
       "      <td>37</td>\n",
       "      <td>31</td>\n",
       "      <td>970805</td>\n",
       "      <td>1034</td>\n",
       "      <td>both</td>\n",
       "    </tr>\n",
       "    <tr>\n",
       "      <th>3</th>\n",
       "      <td>37</td>\n",
       "      <td>031</td>\n",
       "      <td>970801</td>\n",
       "      <td>2036</td>\n",
       "      <td>370319708012036</td>\n",
       "      <td>Block 2036</td>\n",
       "      <td>G5040</td>\n",
       "      <td>R</td>\n",
       "      <td>None</td>\n",
       "      <td>None</td>\n",
       "      <td>...</td>\n",
       "      <td>0</td>\n",
       "      <td>0</td>\n",
       "      <td>0</td>\n",
       "      <td>0</td>\n",
       "      <td>Block 2036, Block Group 2, Census Tract 9708.0...</td>\n",
       "      <td>37</td>\n",
       "      <td>31</td>\n",
       "      <td>970801</td>\n",
       "      <td>2036</td>\n",
       "      <td>both</td>\n",
       "    </tr>\n",
       "    <tr>\n",
       "      <th>4</th>\n",
       "      <td>37</td>\n",
       "      <td>031</td>\n",
       "      <td>970801</td>\n",
       "      <td>2056</td>\n",
       "      <td>370319708012056</td>\n",
       "      <td>Block 2056</td>\n",
       "      <td>G5040</td>\n",
       "      <td>U</td>\n",
       "      <td>59194</td>\n",
       "      <td>C</td>\n",
       "      <td>...</td>\n",
       "      <td>0</td>\n",
       "      <td>0</td>\n",
       "      <td>0</td>\n",
       "      <td>0</td>\n",
       "      <td>Block 2056, Block Group 2, Census Tract 9708.0...</td>\n",
       "      <td>37</td>\n",
       "      <td>31</td>\n",
       "      <td>970801</td>\n",
       "      <td>2056</td>\n",
       "      <td>both</td>\n",
       "    </tr>\n",
       "    <tr>\n",
       "      <th>5</th>\n",
       "      <td>37</td>\n",
       "      <td>031</td>\n",
       "      <td>970804</td>\n",
       "      <td>1008</td>\n",
       "      <td>370319708041008</td>\n",
       "      <td>Block 1008</td>\n",
       "      <td>G5040</td>\n",
       "      <td>R</td>\n",
       "      <td>None</td>\n",
       "      <td>None</td>\n",
       "      <td>...</td>\n",
       "      <td>0</td>\n",
       "      <td>0</td>\n",
       "      <td>0</td>\n",
       "      <td>0</td>\n",
       "      <td>Block 1008, Block Group 1, Census Tract 9708.0...</td>\n",
       "      <td>37</td>\n",
       "      <td>31</td>\n",
       "      <td>970804</td>\n",
       "      <td>1008</td>\n",
       "      <td>both</td>\n",
       "    </tr>\n",
       "    <tr>\n",
       "      <th>6</th>\n",
       "      <td>37</td>\n",
       "      <td>031</td>\n",
       "      <td>970802</td>\n",
       "      <td>1015</td>\n",
       "      <td>370319708021015</td>\n",
       "      <td>Block 1015</td>\n",
       "      <td>G5040</td>\n",
       "      <td>U</td>\n",
       "      <td>59194</td>\n",
       "      <td>C</td>\n",
       "      <td>...</td>\n",
       "      <td>0</td>\n",
       "      <td>0</td>\n",
       "      <td>0</td>\n",
       "      <td>0</td>\n",
       "      <td>Block 1015, Block Group 1, Census Tract 9708.0...</td>\n",
       "      <td>37</td>\n",
       "      <td>31</td>\n",
       "      <td>970802</td>\n",
       "      <td>1015</td>\n",
       "      <td>both</td>\n",
       "    </tr>\n",
       "    <tr>\n",
       "      <th>7</th>\n",
       "      <td>37</td>\n",
       "      <td>031</td>\n",
       "      <td>970804</td>\n",
       "      <td>2034</td>\n",
       "      <td>370319708042034</td>\n",
       "      <td>Block 2034</td>\n",
       "      <td>G5040</td>\n",
       "      <td>R</td>\n",
       "      <td>None</td>\n",
       "      <td>None</td>\n",
       "      <td>...</td>\n",
       "      <td>0</td>\n",
       "      <td>0</td>\n",
       "      <td>0</td>\n",
       "      <td>0</td>\n",
       "      <td>Block 2034, Block Group 2, Census Tract 9708.0...</td>\n",
       "      <td>37</td>\n",
       "      <td>31</td>\n",
       "      <td>970804</td>\n",
       "      <td>2034</td>\n",
       "      <td>both</td>\n",
       "    </tr>\n",
       "    <tr>\n",
       "      <th>8</th>\n",
       "      <td>37</td>\n",
       "      <td>031</td>\n",
       "      <td>970804</td>\n",
       "      <td>2030</td>\n",
       "      <td>370319708042030</td>\n",
       "      <td>Block 2030</td>\n",
       "      <td>G5040</td>\n",
       "      <td>R</td>\n",
       "      <td>None</td>\n",
       "      <td>None</td>\n",
       "      <td>...</td>\n",
       "      <td>0</td>\n",
       "      <td>0</td>\n",
       "      <td>0</td>\n",
       "      <td>0</td>\n",
       "      <td>Block 2030, Block Group 2, Census Tract 9708.0...</td>\n",
       "      <td>37</td>\n",
       "      <td>31</td>\n",
       "      <td>970804</td>\n",
       "      <td>2030</td>\n",
       "      <td>both</td>\n",
       "    </tr>\n",
       "    <tr>\n",
       "      <th>9</th>\n",
       "      <td>37</td>\n",
       "      <td>031</td>\n",
       "      <td>970802</td>\n",
       "      <td>1067</td>\n",
       "      <td>370319708021067</td>\n",
       "      <td>Block 1067</td>\n",
       "      <td>G5040</td>\n",
       "      <td>U</td>\n",
       "      <td>59194</td>\n",
       "      <td>C</td>\n",
       "      <td>...</td>\n",
       "      <td>0</td>\n",
       "      <td>0</td>\n",
       "      <td>0</td>\n",
       "      <td>0</td>\n",
       "      <td>Block 1067, Block Group 1, Census Tract 9708.0...</td>\n",
       "      <td>37</td>\n",
       "      <td>31</td>\n",
       "      <td>970802</td>\n",
       "      <td>1067</td>\n",
       "      <td>both</td>\n",
       "    </tr>\n",
       "  </tbody>\n",
       "</table>\n",
       "<p>10 rows × 41 columns</p>\n",
       "</div>"
      ],
      "text/plain": [
       "  STATEFP10 COUNTYFP10 TRACTCE10 BLOCKCE10        Block_Key      NAME10  \\\n",
       "0        37        031    970602      1022  370319706021022  Block 1022   \n",
       "1        37        031    970801      2031  370319708012031  Block 2031   \n",
       "2        37        031    970805      1034  370319708051034  Block 1034   \n",
       "3        37        031    970801      2036  370319708012036  Block 2036   \n",
       "4        37        031    970801      2056  370319708012056  Block 2056   \n",
       "5        37        031    970804      1008  370319708041008  Block 1008   \n",
       "6        37        031    970802      1015  370319708021015  Block 1015   \n",
       "7        37        031    970804      2034  370319708042034  Block 2034   \n",
       "8        37        031    970804      2030  370319708042030  Block 2030   \n",
       "9        37        031    970802      1067  370319708021067  Block 1067   \n",
       "\n",
       "  MTFCC10 UR10 UACE10 UATYPE  ... ASIANVAP  NHPIVAP  OTHERVAP 2MOREVAP  \\\n",
       "0   G5040    R   None   None  ...        0        0         0        0   \n",
       "1   G5040    R   None   None  ...        0        0         0        0   \n",
       "2   G5040    R   None   None  ...        0        0         0        0   \n",
       "3   G5040    R   None   None  ...        0        0         0        0   \n",
       "4   G5040    U  59194      C  ...        0        0         0        0   \n",
       "5   G5040    R   None   None  ...        0        0         0        0   \n",
       "6   G5040    U  59194      C  ...        0        0         0        0   \n",
       "7   G5040    R   None   None  ...        0        0         0        0   \n",
       "8   G5040    R   None   None  ...        0        0         0        0   \n",
       "9   G5040    U  59194      C  ...        0        0         0        0   \n",
       "\n",
       "                                                NAME state  county   tract  \\\n",
       "0  Block 1022, Block Group 1, Census Tract 9706.0...    37      31  970602   \n",
       "1  Block 2031, Block Group 2, Census Tract 9708.0...    37      31  970801   \n",
       "2  Block 1034, Block Group 1, Census Tract 9708.0...    37      31  970805   \n",
       "3  Block 2036, Block Group 2, Census Tract 9708.0...    37      31  970801   \n",
       "4  Block 2056, Block Group 2, Census Tract 9708.0...    37      31  970801   \n",
       "5  Block 1008, Block Group 1, Census Tract 9708.0...    37      31  970804   \n",
       "6  Block 1015, Block Group 1, Census Tract 9708.0...    37      31  970802   \n",
       "7  Block 2034, Block Group 2, Census Tract 9708.0...    37      31  970804   \n",
       "8  Block 2030, Block Group 2, Census Tract 9708.0...    37      31  970804   \n",
       "9  Block 1067, Block Group 1, Census Tract 9708.0...    37      31  970802   \n",
       "\n",
       "   block  blk_jnd  \n",
       "0   1022     both  \n",
       "1   2031     both  \n",
       "2   1034     both  \n",
       "3   2036     both  \n",
       "4   2056     both  \n",
       "5   1008     both  \n",
       "6   1015     both  \n",
       "7   2034     both  \n",
       "8   2030     both  \n",
       "9   1067     both  \n",
       "\n",
       "[10 rows x 41 columns]"
      ]
     },
     "execution_count": 241,
     "metadata": {},
     "output_type": "execute_result"
    }
   ],
   "source": [
    "block_joined.head(10)"
   ]
  },
  {
   "cell_type": "code",
   "execution_count": 242,
   "metadata": {},
   "outputs": [
    {
     "data": {
      "text/html": [
       "<div>\n",
       "<style scoped>\n",
       "    .dataframe tbody tr th:only-of-type {\n",
       "        vertical-align: middle;\n",
       "    }\n",
       "\n",
       "    .dataframe tbody tr th {\n",
       "        vertical-align: top;\n",
       "    }\n",
       "\n",
       "    .dataframe thead th {\n",
       "        text-align: right;\n",
       "    }\n",
       "</style>\n",
       "<table border=\"1\" class=\"dataframe\">\n",
       "  <thead>\n",
       "    <tr style=\"text-align: right;\">\n",
       "      <th></th>\n",
       "      <th>Block_Key</th>\n",
       "      <th>Block_Code</th>\n",
       "      <th>BG_Key</th>\n",
       "      <th>BG_Code</th>\n",
       "      <th>Tract_Key</th>\n",
       "      <th>Tract_Code</th>\n",
       "      <th>Tract_Name</th>\n",
       "      <th>VTD_Key</th>\n",
       "      <th>VTD_Code</th>\n",
       "      <th>VTD_Name</th>\n",
       "      <th>Cnty_Key</th>\n",
       "      <th>Cnty_Code</th>\n",
       "      <th>Cnty_Name</th>\n",
       "      <th>Place_Key</th>\n",
       "      <th>Place_Code</th>\n",
       "      <th>Place_Name</th>\n",
       "      <th>ZCTA5</th>\n",
       "    </tr>\n",
       "  </thead>\n",
       "  <tbody>\n",
       "    <tr>\n",
       "      <th>0</th>\n",
       "      <td>370010201001000</td>\n",
       "      <td>1000</td>\n",
       "      <td>370010201001</td>\n",
       "      <td>1</td>\n",
       "      <td>37001020100</td>\n",
       "      <td>20100</td>\n",
       "      <td>201.0</td>\n",
       "      <td>3700112W</td>\n",
       "      <td>12W</td>\n",
       "      <td>12W</td>\n",
       "      <td>37001</td>\n",
       "      <td>1</td>\n",
       "      <td>Alamance</td>\n",
       "      <td>3709060.0</td>\n",
       "      <td>9060.0</td>\n",
       "      <td>Burlington</td>\n",
       "      <td>27215.0</td>\n",
       "    </tr>\n",
       "    <tr>\n",
       "      <th>1</th>\n",
       "      <td>370010201001001</td>\n",
       "      <td>1001</td>\n",
       "      <td>370010201001</td>\n",
       "      <td>1</td>\n",
       "      <td>37001020100</td>\n",
       "      <td>20100</td>\n",
       "      <td>201.0</td>\n",
       "      <td>3700112W</td>\n",
       "      <td>12W</td>\n",
       "      <td>12W</td>\n",
       "      <td>37001</td>\n",
       "      <td>1</td>\n",
       "      <td>Alamance</td>\n",
       "      <td>3709060.0</td>\n",
       "      <td>9060.0</td>\n",
       "      <td>Burlington</td>\n",
       "      <td>27215.0</td>\n",
       "    </tr>\n",
       "    <tr>\n",
       "      <th>2</th>\n",
       "      <td>370010201001002</td>\n",
       "      <td>1002</td>\n",
       "      <td>370010201001</td>\n",
       "      <td>1</td>\n",
       "      <td>37001020100</td>\n",
       "      <td>20100</td>\n",
       "      <td>201.0</td>\n",
       "      <td>3700112W</td>\n",
       "      <td>12W</td>\n",
       "      <td>12W</td>\n",
       "      <td>37001</td>\n",
       "      <td>1</td>\n",
       "      <td>Alamance</td>\n",
       "      <td>3709060.0</td>\n",
       "      <td>9060.0</td>\n",
       "      <td>Burlington</td>\n",
       "      <td>27215.0</td>\n",
       "    </tr>\n",
       "    <tr>\n",
       "      <th>3</th>\n",
       "      <td>370010201001003</td>\n",
       "      <td>1003</td>\n",
       "      <td>370010201001</td>\n",
       "      <td>1</td>\n",
       "      <td>37001020100</td>\n",
       "      <td>20100</td>\n",
       "      <td>201.0</td>\n",
       "      <td>3700112W</td>\n",
       "      <td>12W</td>\n",
       "      <td>12W</td>\n",
       "      <td>37001</td>\n",
       "      <td>1</td>\n",
       "      <td>Alamance</td>\n",
       "      <td>3709060.0</td>\n",
       "      <td>9060.0</td>\n",
       "      <td>Burlington</td>\n",
       "      <td>27217.0</td>\n",
       "    </tr>\n",
       "    <tr>\n",
       "      <th>4</th>\n",
       "      <td>370010201001004</td>\n",
       "      <td>1004</td>\n",
       "      <td>370010201001</td>\n",
       "      <td>1</td>\n",
       "      <td>37001020100</td>\n",
       "      <td>20100</td>\n",
       "      <td>201.0</td>\n",
       "      <td>3700112W</td>\n",
       "      <td>12W</td>\n",
       "      <td>12W</td>\n",
       "      <td>37001</td>\n",
       "      <td>1</td>\n",
       "      <td>Alamance</td>\n",
       "      <td>3709060.0</td>\n",
       "      <td>9060.0</td>\n",
       "      <td>Burlington</td>\n",
       "      <td>27215.0</td>\n",
       "    </tr>\n",
       "    <tr>\n",
       "      <th>5</th>\n",
       "      <td>370010201001005</td>\n",
       "      <td>1005</td>\n",
       "      <td>370010201001</td>\n",
       "      <td>1</td>\n",
       "      <td>37001020100</td>\n",
       "      <td>20100</td>\n",
       "      <td>201.0</td>\n",
       "      <td>3700112W</td>\n",
       "      <td>12W</td>\n",
       "      <td>12W</td>\n",
       "      <td>37001</td>\n",
       "      <td>1</td>\n",
       "      <td>Alamance</td>\n",
       "      <td>3709060.0</td>\n",
       "      <td>9060.0</td>\n",
       "      <td>Burlington</td>\n",
       "      <td>27215.0</td>\n",
       "    </tr>\n",
       "    <tr>\n",
       "      <th>6</th>\n",
       "      <td>370010201001006</td>\n",
       "      <td>1006</td>\n",
       "      <td>370010201001</td>\n",
       "      <td>1</td>\n",
       "      <td>37001020100</td>\n",
       "      <td>20100</td>\n",
       "      <td>201.0</td>\n",
       "      <td>3700112W</td>\n",
       "      <td>12W</td>\n",
       "      <td>12W</td>\n",
       "      <td>37001</td>\n",
       "      <td>1</td>\n",
       "      <td>Alamance</td>\n",
       "      <td>3709060.0</td>\n",
       "      <td>9060.0</td>\n",
       "      <td>Burlington</td>\n",
       "      <td>27215.0</td>\n",
       "    </tr>\n",
       "    <tr>\n",
       "      <th>7</th>\n",
       "      <td>370010201001007</td>\n",
       "      <td>1007</td>\n",
       "      <td>370010201001</td>\n",
       "      <td>1</td>\n",
       "      <td>37001020100</td>\n",
       "      <td>20100</td>\n",
       "      <td>201.0</td>\n",
       "      <td>3700112W</td>\n",
       "      <td>12W</td>\n",
       "      <td>12W</td>\n",
       "      <td>37001</td>\n",
       "      <td>1</td>\n",
       "      <td>Alamance</td>\n",
       "      <td>3709060.0</td>\n",
       "      <td>9060.0</td>\n",
       "      <td>Burlington</td>\n",
       "      <td>27215.0</td>\n",
       "    </tr>\n",
       "    <tr>\n",
       "      <th>8</th>\n",
       "      <td>370010201001008</td>\n",
       "      <td>1008</td>\n",
       "      <td>370010201001</td>\n",
       "      <td>1</td>\n",
       "      <td>37001020100</td>\n",
       "      <td>20100</td>\n",
       "      <td>201.0</td>\n",
       "      <td>3700112W</td>\n",
       "      <td>12W</td>\n",
       "      <td>12W</td>\n",
       "      <td>37001</td>\n",
       "      <td>1</td>\n",
       "      <td>Alamance</td>\n",
       "      <td>3709060.0</td>\n",
       "      <td>9060.0</td>\n",
       "      <td>Burlington</td>\n",
       "      <td>27215.0</td>\n",
       "    </tr>\n",
       "    <tr>\n",
       "      <th>9</th>\n",
       "      <td>370010201001009</td>\n",
       "      <td>1009</td>\n",
       "      <td>370010201001</td>\n",
       "      <td>1</td>\n",
       "      <td>37001020100</td>\n",
       "      <td>20100</td>\n",
       "      <td>201.0</td>\n",
       "      <td>3700112W</td>\n",
       "      <td>12W</td>\n",
       "      <td>12W</td>\n",
       "      <td>37001</td>\n",
       "      <td>1</td>\n",
       "      <td>Alamance</td>\n",
       "      <td>3709060.0</td>\n",
       "      <td>9060.0</td>\n",
       "      <td>Burlington</td>\n",
       "      <td>27215.0</td>\n",
       "    </tr>\n",
       "  </tbody>\n",
       "</table>\n",
       "</div>"
      ],
      "text/plain": [
       "         Block_Key  Block_Code        BG_Key  BG_Code    Tract_Key  \\\n",
       "0  370010201001000        1000  370010201001        1  37001020100   \n",
       "1  370010201001001        1001  370010201001        1  37001020100   \n",
       "2  370010201001002        1002  370010201001        1  37001020100   \n",
       "3  370010201001003        1003  370010201001        1  37001020100   \n",
       "4  370010201001004        1004  370010201001        1  37001020100   \n",
       "5  370010201001005        1005  370010201001        1  37001020100   \n",
       "6  370010201001006        1006  370010201001        1  37001020100   \n",
       "7  370010201001007        1007  370010201001        1  37001020100   \n",
       "8  370010201001008        1008  370010201001        1  37001020100   \n",
       "9  370010201001009        1009  370010201001        1  37001020100   \n",
       "\n",
       "   Tract_Code  Tract_Name   VTD_Key VTD_Code VTD_Name  Cnty_Key  Cnty_Code  \\\n",
       "0       20100       201.0  3700112W      12W      12W     37001          1   \n",
       "1       20100       201.0  3700112W      12W      12W     37001          1   \n",
       "2       20100       201.0  3700112W      12W      12W     37001          1   \n",
       "3       20100       201.0  3700112W      12W      12W     37001          1   \n",
       "4       20100       201.0  3700112W      12W      12W     37001          1   \n",
       "5       20100       201.0  3700112W      12W      12W     37001          1   \n",
       "6       20100       201.0  3700112W      12W      12W     37001          1   \n",
       "7       20100       201.0  3700112W      12W      12W     37001          1   \n",
       "8       20100       201.0  3700112W      12W      12W     37001          1   \n",
       "9       20100       201.0  3700112W      12W      12W     37001          1   \n",
       "\n",
       "  Cnty_Name  Place_Key  Place_Code  Place_Name    ZCTA5  \n",
       "0  Alamance  3709060.0      9060.0  Burlington  27215.0  \n",
       "1  Alamance  3709060.0      9060.0  Burlington  27215.0  \n",
       "2  Alamance  3709060.0      9060.0  Burlington  27215.0  \n",
       "3  Alamance  3709060.0      9060.0  Burlington  27217.0  \n",
       "4  Alamance  3709060.0      9060.0  Burlington  27215.0  \n",
       "5  Alamance  3709060.0      9060.0  Burlington  27215.0  \n",
       "6  Alamance  3709060.0      9060.0  Burlington  27215.0  \n",
       "7  Alamance  3709060.0      9060.0  Burlington  27215.0  \n",
       "8  Alamance  3709060.0      9060.0  Burlington  27215.0  \n",
       "9  Alamance  3709060.0      9060.0  Burlington  27215.0  "
      ]
     },
     "execution_count": 242,
     "metadata": {},
     "output_type": "execute_result"
    }
   ],
   "source": [
    "block_keys.head(10)"
   ]
  },
  {
   "cell_type": "code",
   "execution_count": 243,
   "metadata": {},
   "outputs": [],
   "source": [
    "block_joined[\"Block_Key\"]=block_joined[\"Block_Key\"].astype(int)"
   ]
  },
  {
   "cell_type": "code",
   "execution_count": 244,
   "metadata": {},
   "outputs": [
    {
     "data": {
      "text/plain": [
       "(288987, 41)"
      ]
     },
     "execution_count": 244,
     "metadata": {},
     "output_type": "execute_result"
    }
   ],
   "source": [
    "block_joined.shape"
   ]
  },
  {
   "cell_type": "code",
   "execution_count": 245,
   "metadata": {},
   "outputs": [
    {
     "data": {
      "text/plain": [
       "(288987, 17)"
      ]
     },
     "execution_count": 245,
     "metadata": {},
     "output_type": "execute_result"
    }
   ],
   "source": [
    "block_keys.shape"
   ]
  },
  {
   "cell_type": "code",
   "execution_count": 246,
   "metadata": {},
   "outputs": [],
   "source": [
    "block_keys[\"Block_Key\"]=block_keys[\"Block_Key\"].astype(int)"
   ]
  },
  {
   "cell_type": "code",
   "execution_count": 247,
   "metadata": {},
   "outputs": [],
   "source": [
    "block_joined2=pd.merge(block_joined,block_keys,on='Block_Key',how='outer',indicator=True)"
   ]
  },
  {
   "cell_type": "code",
   "execution_count": 248,
   "metadata": {},
   "outputs": [
    {
     "data": {
      "text/html": [
       "<div>\n",
       "<style scoped>\n",
       "    .dataframe tbody tr th:only-of-type {\n",
       "        vertical-align: middle;\n",
       "    }\n",
       "\n",
       "    .dataframe tbody tr th {\n",
       "        vertical-align: top;\n",
       "    }\n",
       "\n",
       "    .dataframe thead th {\n",
       "        text-align: right;\n",
       "    }\n",
       "</style>\n",
       "<table border=\"1\" class=\"dataframe\">\n",
       "  <thead>\n",
       "    <tr style=\"text-align: right;\">\n",
       "      <th></th>\n",
       "      <th>STATEFP10</th>\n",
       "      <th>COUNTYFP10</th>\n",
       "      <th>TRACTCE10</th>\n",
       "      <th>BLOCKCE10</th>\n",
       "      <th>Block_Key</th>\n",
       "      <th>NAME10</th>\n",
       "      <th>MTFCC10</th>\n",
       "      <th>UR10</th>\n",
       "      <th>UACE10</th>\n",
       "      <th>UATYPE</th>\n",
       "      <th>...</th>\n",
       "      <th>VTD_Code</th>\n",
       "      <th>VTD_Name</th>\n",
       "      <th>Cnty_Key</th>\n",
       "      <th>Cnty_Code</th>\n",
       "      <th>Cnty_Name</th>\n",
       "      <th>Place_Key</th>\n",
       "      <th>Place_Code</th>\n",
       "      <th>Place_Name</th>\n",
       "      <th>ZCTA5</th>\n",
       "      <th>_merge</th>\n",
       "    </tr>\n",
       "  </thead>\n",
       "  <tbody>\n",
       "    <tr>\n",
       "      <th>0</th>\n",
       "      <td>37</td>\n",
       "      <td>031</td>\n",
       "      <td>970602</td>\n",
       "      <td>1022</td>\n",
       "      <td>370319706021022</td>\n",
       "      <td>Block 1022</td>\n",
       "      <td>G5040</td>\n",
       "      <td>R</td>\n",
       "      <td>None</td>\n",
       "      <td>None</td>\n",
       "      <td>...</td>\n",
       "      <td>BCRK</td>\n",
       "      <td>BCRK</td>\n",
       "      <td>37031</td>\n",
       "      <td>31</td>\n",
       "      <td>Carteret</td>\n",
       "      <td>NaN</td>\n",
       "      <td>NaN</td>\n",
       "      <td>NaN</td>\n",
       "      <td>28570.0</td>\n",
       "      <td>both</td>\n",
       "    </tr>\n",
       "    <tr>\n",
       "      <th>1</th>\n",
       "      <td>37</td>\n",
       "      <td>031</td>\n",
       "      <td>970801</td>\n",
       "      <td>2031</td>\n",
       "      <td>370319708012031</td>\n",
       "      <td>Block 2031</td>\n",
       "      <td>G5040</td>\n",
       "      <td>R</td>\n",
       "      <td>None</td>\n",
       "      <td>None</td>\n",
       "      <td>...</td>\n",
       "      <td>PELE</td>\n",
       "      <td>PELE</td>\n",
       "      <td>37031</td>\n",
       "      <td>31</td>\n",
       "      <td>Carteret</td>\n",
       "      <td>3751040.0</td>\n",
       "      <td>51040.0</td>\n",
       "      <td>Peletier</td>\n",
       "      <td>28584.0</td>\n",
       "      <td>both</td>\n",
       "    </tr>\n",
       "    <tr>\n",
       "      <th>2</th>\n",
       "      <td>37</td>\n",
       "      <td>031</td>\n",
       "      <td>970805</td>\n",
       "      <td>1034</td>\n",
       "      <td>370319708051034</td>\n",
       "      <td>Block 1034</td>\n",
       "      <td>G5040</td>\n",
       "      <td>R</td>\n",
       "      <td>None</td>\n",
       "      <td>None</td>\n",
       "      <td>...</td>\n",
       "      <td>PELE</td>\n",
       "      <td>PELE</td>\n",
       "      <td>37031</td>\n",
       "      <td>31</td>\n",
       "      <td>Carteret</td>\n",
       "      <td>3751040.0</td>\n",
       "      <td>51040.0</td>\n",
       "      <td>Peletier</td>\n",
       "      <td>28584.0</td>\n",
       "      <td>both</td>\n",
       "    </tr>\n",
       "    <tr>\n",
       "      <th>3</th>\n",
       "      <td>37</td>\n",
       "      <td>031</td>\n",
       "      <td>970801</td>\n",
       "      <td>2036</td>\n",
       "      <td>370319708012036</td>\n",
       "      <td>Block 2036</td>\n",
       "      <td>G5040</td>\n",
       "      <td>R</td>\n",
       "      <td>None</td>\n",
       "      <td>None</td>\n",
       "      <td>...</td>\n",
       "      <td>PELE</td>\n",
       "      <td>PELE</td>\n",
       "      <td>37031</td>\n",
       "      <td>31</td>\n",
       "      <td>Carteret</td>\n",
       "      <td>3751040.0</td>\n",
       "      <td>51040.0</td>\n",
       "      <td>Peletier</td>\n",
       "      <td>28584.0</td>\n",
       "      <td>both</td>\n",
       "    </tr>\n",
       "    <tr>\n",
       "      <th>4</th>\n",
       "      <td>37</td>\n",
       "      <td>031</td>\n",
       "      <td>970801</td>\n",
       "      <td>2056</td>\n",
       "      <td>370319708012056</td>\n",
       "      <td>Block 2056</td>\n",
       "      <td>G5040</td>\n",
       "      <td>U</td>\n",
       "      <td>59194</td>\n",
       "      <td>C</td>\n",
       "      <td>...</td>\n",
       "      <td>PELE</td>\n",
       "      <td>PELE</td>\n",
       "      <td>37031</td>\n",
       "      <td>31</td>\n",
       "      <td>Carteret</td>\n",
       "      <td>NaN</td>\n",
       "      <td>NaN</td>\n",
       "      <td>NaN</td>\n",
       "      <td>28584.0</td>\n",
       "      <td>both</td>\n",
       "    </tr>\n",
       "    <tr>\n",
       "      <th>5</th>\n",
       "      <td>37</td>\n",
       "      <td>031</td>\n",
       "      <td>970804</td>\n",
       "      <td>1008</td>\n",
       "      <td>370319708041008</td>\n",
       "      <td>Block 1008</td>\n",
       "      <td>G5040</td>\n",
       "      <td>R</td>\n",
       "      <td>None</td>\n",
       "      <td>None</td>\n",
       "      <td>...</td>\n",
       "      <td>BOGU</td>\n",
       "      <td>BOGU</td>\n",
       "      <td>37031</td>\n",
       "      <td>31</td>\n",
       "      <td>Carteret</td>\n",
       "      <td>NaN</td>\n",
       "      <td>NaN</td>\n",
       "      <td>NaN</td>\n",
       "      <td>28570.0</td>\n",
       "      <td>both</td>\n",
       "    </tr>\n",
       "    <tr>\n",
       "      <th>6</th>\n",
       "      <td>37</td>\n",
       "      <td>031</td>\n",
       "      <td>970802</td>\n",
       "      <td>1015</td>\n",
       "      <td>370319708021015</td>\n",
       "      <td>Block 1015</td>\n",
       "      <td>G5040</td>\n",
       "      <td>U</td>\n",
       "      <td>59194</td>\n",
       "      <td>C</td>\n",
       "      <td>...</td>\n",
       "      <td>CCCP</td>\n",
       "      <td>CCCP</td>\n",
       "      <td>37031</td>\n",
       "      <td>31</td>\n",
       "      <td>Carteret</td>\n",
       "      <td>3711340.0</td>\n",
       "      <td>11340.0</td>\n",
       "      <td>Cedar Point</td>\n",
       "      <td>28584.0</td>\n",
       "      <td>both</td>\n",
       "    </tr>\n",
       "    <tr>\n",
       "      <th>7</th>\n",
       "      <td>37</td>\n",
       "      <td>031</td>\n",
       "      <td>970804</td>\n",
       "      <td>2034</td>\n",
       "      <td>370319708042034</td>\n",
       "      <td>Block 2034</td>\n",
       "      <td>G5040</td>\n",
       "      <td>R</td>\n",
       "      <td>None</td>\n",
       "      <td>None</td>\n",
       "      <td>...</td>\n",
       "      <td>BOGU</td>\n",
       "      <td>BOGU</td>\n",
       "      <td>37031</td>\n",
       "      <td>31</td>\n",
       "      <td>Carteret</td>\n",
       "      <td>NaN</td>\n",
       "      <td>NaN</td>\n",
       "      <td>NaN</td>\n",
       "      <td>28570.0</td>\n",
       "      <td>both</td>\n",
       "    </tr>\n",
       "    <tr>\n",
       "      <th>8</th>\n",
       "      <td>37</td>\n",
       "      <td>031</td>\n",
       "      <td>970804</td>\n",
       "      <td>2030</td>\n",
       "      <td>370319708042030</td>\n",
       "      <td>Block 2030</td>\n",
       "      <td>G5040</td>\n",
       "      <td>R</td>\n",
       "      <td>None</td>\n",
       "      <td>None</td>\n",
       "      <td>...</td>\n",
       "      <td>BOGU</td>\n",
       "      <td>BOGU</td>\n",
       "      <td>37031</td>\n",
       "      <td>31</td>\n",
       "      <td>Carteret</td>\n",
       "      <td>NaN</td>\n",
       "      <td>NaN</td>\n",
       "      <td>NaN</td>\n",
       "      <td>28570.0</td>\n",
       "      <td>both</td>\n",
       "    </tr>\n",
       "    <tr>\n",
       "      <th>9</th>\n",
       "      <td>37</td>\n",
       "      <td>031</td>\n",
       "      <td>970802</td>\n",
       "      <td>1067</td>\n",
       "      <td>370319708021067</td>\n",
       "      <td>Block 1067</td>\n",
       "      <td>G5040</td>\n",
       "      <td>U</td>\n",
       "      <td>59194</td>\n",
       "      <td>C</td>\n",
       "      <td>...</td>\n",
       "      <td>CCCP</td>\n",
       "      <td>CCCP</td>\n",
       "      <td>37031</td>\n",
       "      <td>31</td>\n",
       "      <td>Carteret</td>\n",
       "      <td>NaN</td>\n",
       "      <td>NaN</td>\n",
       "      <td>NaN</td>\n",
       "      <td>28584.0</td>\n",
       "      <td>both</td>\n",
       "    </tr>\n",
       "  </tbody>\n",
       "</table>\n",
       "<p>10 rows × 58 columns</p>\n",
       "</div>"
      ],
      "text/plain": [
       "  STATEFP10 COUNTYFP10 TRACTCE10 BLOCKCE10        Block_Key      NAME10  \\\n",
       "0        37        031    970602      1022  370319706021022  Block 1022   \n",
       "1        37        031    970801      2031  370319708012031  Block 2031   \n",
       "2        37        031    970805      1034  370319708051034  Block 1034   \n",
       "3        37        031    970801      2036  370319708012036  Block 2036   \n",
       "4        37        031    970801      2056  370319708012056  Block 2056   \n",
       "5        37        031    970804      1008  370319708041008  Block 1008   \n",
       "6        37        031    970802      1015  370319708021015  Block 1015   \n",
       "7        37        031    970804      2034  370319708042034  Block 2034   \n",
       "8        37        031    970804      2030  370319708042030  Block 2030   \n",
       "9        37        031    970802      1067  370319708021067  Block 1067   \n",
       "\n",
       "  MTFCC10 UR10 UACE10 UATYPE  ... VTD_Code  VTD_Name  Cnty_Key Cnty_Code  \\\n",
       "0   G5040    R   None   None  ...     BCRK      BCRK     37031        31   \n",
       "1   G5040    R   None   None  ...     PELE      PELE     37031        31   \n",
       "2   G5040    R   None   None  ...     PELE      PELE     37031        31   \n",
       "3   G5040    R   None   None  ...     PELE      PELE     37031        31   \n",
       "4   G5040    U  59194      C  ...     PELE      PELE     37031        31   \n",
       "5   G5040    R   None   None  ...     BOGU      BOGU     37031        31   \n",
       "6   G5040    U  59194      C  ...     CCCP      CCCP     37031        31   \n",
       "7   G5040    R   None   None  ...     BOGU      BOGU     37031        31   \n",
       "8   G5040    R   None   None  ...     BOGU      BOGU     37031        31   \n",
       "9   G5040    U  59194      C  ...     CCCP      CCCP     37031        31   \n",
       "\n",
       "  Cnty_Name  Place_Key  Place_Code   Place_Name    ZCTA5  _merge  \n",
       "0  Carteret        NaN         NaN          NaN  28570.0    both  \n",
       "1  Carteret  3751040.0     51040.0     Peletier  28584.0    both  \n",
       "2  Carteret  3751040.0     51040.0     Peletier  28584.0    both  \n",
       "3  Carteret  3751040.0     51040.0     Peletier  28584.0    both  \n",
       "4  Carteret        NaN         NaN          NaN  28584.0    both  \n",
       "5  Carteret        NaN         NaN          NaN  28570.0    both  \n",
       "6  Carteret  3711340.0     11340.0  Cedar Point  28584.0    both  \n",
       "7  Carteret        NaN         NaN          NaN  28570.0    both  \n",
       "8  Carteret        NaN         NaN          NaN  28570.0    both  \n",
       "9  Carteret        NaN         NaN          NaN  28584.0    both  \n",
       "\n",
       "[10 rows x 58 columns]"
      ]
     },
     "execution_count": 248,
     "metadata": {},
     "output_type": "execute_result"
    }
   ],
   "source": [
    "block_joined2.head(10)"
   ]
  },
  {
   "cell_type": "code",
   "execution_count": 249,
   "metadata": {},
   "outputs": [
    {
     "data": {
      "text/plain": [
       "Index(['STATEFP10', 'COUNTYFP10', 'TRACTCE10', 'BLOCKCE10', 'Block_Key',\n",
       "       'NAME10', 'MTFCC10', 'UR10', 'UACE10', 'UATYPE', 'FUNCSTAT10',\n",
       "       'ALAND10', 'AWATER10', 'INTPTLAT10', 'INTPTLON10', 'geometry',\n",
       "       'Unnamed: 0', 'TOTPOP', 'NH_WHITE', 'NH_BLACK', 'NH_AMIN', 'NH_ASIAN',\n",
       "       'NH_NHPI', 'NH_OTHER', 'NH_2MORE', 'HISP', 'VAP', 'HVAP', 'WVAP',\n",
       "       'BVAP', 'AMINVAP', 'ASIANVAP', 'NHPIVAP', 'OTHERVAP', '2MOREVAP',\n",
       "       'NAME', 'state', 'county', 'tract', 'block', 'blk_jnd', 'Block_Code',\n",
       "       'BG_Key', 'BG_Code', 'Tract_Key', 'Tract_Code', 'Tract_Name', 'VTD_Key',\n",
       "       'VTD_Code', 'VTD_Name', 'Cnty_Key', 'Cnty_Code', 'Cnty_Name',\n",
       "       'Place_Key', 'Place_Code', 'Place_Name', 'ZCTA5', '_merge'],\n",
       "      dtype='object')"
      ]
     },
     "execution_count": 249,
     "metadata": {},
     "output_type": "execute_result"
    }
   ],
   "source": [
    "block_joined2.columns.unique()"
   ]
  },
  {
   "cell_type": "code",
   "execution_count": 250,
   "metadata": {},
   "outputs": [
    {
     "data": {
      "text/plain": [
       "(288987, 58)"
      ]
     },
     "execution_count": 250,
     "metadata": {},
     "output_type": "execute_result"
    }
   ],
   "source": [
    "block_joined2.shape"
   ]
  },
  {
   "cell_type": "code",
   "execution_count": 251,
   "metadata": {},
   "outputs": [
    {
     "data": {
      "text/plain": [
       "['STATEFP10',\n",
       " 'COUNTYFP10',\n",
       " 'TRACTCE10',\n",
       " 'BLOCKCE10',\n",
       " 'Block_Key',\n",
       " 'NAME10',\n",
       " 'MTFCC10',\n",
       " 'UR10',\n",
       " 'UACE10',\n",
       " 'UATYPE',\n",
       " 'FUNCSTAT10',\n",
       " 'ALAND10',\n",
       " 'AWATER10',\n",
       " 'INTPTLAT10',\n",
       " 'INTPTLON10',\n",
       " 'geometry',\n",
       " 'Unnamed: 0',\n",
       " 'TOTPOP',\n",
       " 'NH_WHITE',\n",
       " 'NH_BLACK',\n",
       " 'NH_AMIN',\n",
       " 'NH_ASIAN',\n",
       " 'NH_NHPI',\n",
       " 'NH_OTHER',\n",
       " 'NH_2MORE',\n",
       " 'HISP',\n",
       " 'VAP',\n",
       " 'HVAP',\n",
       " 'WVAP',\n",
       " 'BVAP',\n",
       " 'AMINVAP',\n",
       " 'ASIANVAP',\n",
       " 'NHPIVAP',\n",
       " 'OTHERVAP',\n",
       " '2MOREVAP',\n",
       " 'NAME',\n",
       " 'state',\n",
       " 'county',\n",
       " 'tract',\n",
       " 'block',\n",
       " 'blk_jnd',\n",
       " 'Block_Code',\n",
       " 'BG_Key',\n",
       " 'BG_Code',\n",
       " 'Tract_Key',\n",
       " 'Tract_Code',\n",
       " 'Tract_Name',\n",
       " 'VTD_Key',\n",
       " 'VTD_Code',\n",
       " 'VTD_Name',\n",
       " 'Cnty_Key',\n",
       " 'Cnty_Code',\n",
       " 'Cnty_Name',\n",
       " 'Place_Key',\n",
       " 'Place_Code',\n",
       " 'Place_Name',\n",
       " 'ZCTA5',\n",
       " '_merge']"
      ]
     },
     "execution_count": 251,
     "metadata": {},
     "output_type": "execute_result"
    }
   ],
   "source": [
    "list(block_joined2.columns)"
   ]
  },
  {
   "cell_type": "code",
   "execution_count": 252,
   "metadata": {},
   "outputs": [
    {
     "data": {
      "text/plain": [
       "array(['37031BCRK', '37031PELE', '37031BOGU', ..., '37095OCK', '3712107',\n",
       "       '37083RR-5'], dtype=object)"
      ]
     },
     "execution_count": 252,
     "metadata": {},
     "output_type": "execute_result"
    }
   ],
   "source": [
    "block_joined2.VTD_Key.unique()"
   ]
  },
  {
   "cell_type": "code",
   "execution_count": 253,
   "metadata": {},
   "outputs": [
    {
     "data": {
      "text/plain": [
       "(288987, 41)"
      ]
     },
     "execution_count": 253,
     "metadata": {},
     "output_type": "execute_result"
    }
   ],
   "source": [
    "block_joined.shape"
   ]
  },
  {
   "cell_type": "code",
   "execution_count": 254,
   "metadata": {},
   "outputs": [
    {
     "data": {
      "text/plain": [
       "(2692, 15)"
      ]
     },
     "execution_count": 254,
     "metadata": {},
     "output_type": "execute_result"
    }
   ],
   "source": [
    "precincts.shape"
   ]
  },
  {
   "cell_type": "code",
   "execution_count": 365,
   "metadata": {},
   "outputs": [
    {
     "data": {
      "text/plain": [
       "(288987, 58)"
      ]
     },
     "execution_count": 365,
     "metadata": {},
     "output_type": "execute_result"
    }
   ],
   "source": [
    "block_joined2.shape"
   ]
  },
  {
   "cell_type": "markdown",
   "metadata": {},
   "source": [
    "**Pivot block_joined2**"
   ]
  },
  {
   "cell_type": "code",
   "execution_count": 366,
   "metadata": {},
   "outputs": [],
   "source": [
    "block_joined2_p=pd.pivot_table(block_joined2,index=\"VTD_Key\",aggfunc=sum)\n",
    "block_joined2_p.reset_index(inplace=True)"
   ]
  },
  {
   "cell_type": "code",
   "execution_count": null,
   "metadata": {},
   "outputs": [],
   "source": []
  },
  {
   "cell_type": "markdown",
   "metadata": {},
   "source": [
    "**Assigning District Plans from 2011,2016, and judge's plans**"
   ]
  },
  {
   "cell_type": "markdown",
   "metadata": {},
   "source": [
    "Taken from ['https://www.ncleg.gov/Redistricting']"
   ]
  },
  {
   "cell_type": "markdown",
   "metadata": {},
   "source": [
    "***Enacted 2016***"
   ]
  },
  {
   "cell_type": "code",
   "execution_count": 256,
   "metadata": {},
   "outputs": [
    {
     "name": "stdout",
     "output_type": "stream",
     "text": [
      "    District                                           geometry\n",
      "0          1  POLYGON ((829739.478 313389.067, 830140.035 31...\n",
      "1          2  POLYGON ((673812.747 279062.239, 674507.854 27...\n",
      "2          3  POLYGON ((896316.545 315360.015, 897124.145 30...\n",
      "3          4  POLYGON ((592204.289 276551.429, 592204.469 27...\n",
      "4          5  POLYGON ((371866.217 318006.836, 372363.429 31...\n",
      "5          6  POLYGON ((519662.791 310255.858, 519675.840 31...\n",
      "6          7  POLYGON ((694325.013 204018.909, 694368.655 20...\n",
      "7          8  POLYGON ((481732.147 219711.139, 481766.492 21...\n",
      "8          9  POLYGON ((465698.674 164664.814, 465781.505 16...\n",
      "9         10  POLYGON ((415705.894 232610.340, 415725.426 23...\n",
      "10        11  POLYGON ((321010.617 271707.601, 321090.929 27...\n",
      "11        12  POLYGON ((450837.096 182781.122, 450935.482 18...\n",
      "12        13  POLYGON ((522582.927 265653.402, 523204.143 26...\n"
     ]
    }
   ],
   "source": [
    "print(newplan)"
   ]
  },
  {
   "cell_type": "code",
   "execution_count": 257,
   "metadata": {},
   "outputs": [],
   "source": [
    "newplan=newplan.to_crs(proj)"
   ]
  },
  {
   "cell_type": "markdown",
   "metadata": {},
   "source": [
    "Assign the newplan to the precinct as well using MAUP, save tha assignments seperately"
   ]
  },
  {
   "cell_type": "code",
   "execution_count": 258,
   "metadata": {},
   "outputs": [
    {
     "name": "stderr",
     "output_type": "stream",
     "text": [
      "/opt/anaconda3/lib/python3.8/site-packages/maup/indexed_geometries.py:27: UserWarning: GeoSeries.isna() previously returned True for both missing (None) and empty geometries. Now, it only returns True for missing values. Since the calling GeoSeries contains empty geometries, the result has changed compared to previous versions of GeoPandas.\n",
      "Given a GeoSeries 's', you can use 's.is_empty | s.isna()' to get back the old behaviour.\n",
      "\n",
      "To further ignore this warning, you can do: \n",
      "import warnings; warnings.filterwarnings('ignore', 'GeoSeries.isna', UserWarning)\n",
      "  return intersections[-(intersections.is_empty | intersections.isna())]\n",
      "/opt/anaconda3/lib/python3.8/site-packages/maup/indexed_geometries.py:27: UserWarning: GeoSeries.isna() previously returned True for both missing (None) and empty geometries. Now, it only returns True for missing values. Since the calling GeoSeries contains empty geometries, the result has changed compared to previous versions of GeoPandas.\n",
      "Given a GeoSeries 's', you can use 's.is_empty | s.isna()' to get back the old behaviour.\n",
      "\n",
      "To further ignore this warning, you can do: \n",
      "import warnings; warnings.filterwarnings('ignore', 'GeoSeries.isna', UserWarning)\n",
      "  return intersections[-(intersections.is_empty | intersections.isna())]\n",
      "/opt/anaconda3/lib/python3.8/site-packages/maup/indexed_geometries.py:27: UserWarning: GeoSeries.isna() previously returned True for both missing (None) and empty geometries. Now, it only returns True for missing values. Since the calling GeoSeries contains empty geometries, the result has changed compared to previous versions of GeoPandas.\n",
      "Given a GeoSeries 's', you can use 's.is_empty | s.isna()' to get back the old behaviour.\n",
      "\n",
      "To further ignore this warning, you can do: \n",
      "import warnings; warnings.filterwarnings('ignore', 'GeoSeries.isna', UserWarning)\n",
      "  return intersections[-(intersections.is_empty | intersections.isna())]\n",
      "/opt/anaconda3/lib/python3.8/site-packages/maup/indexed_geometries.py:27: UserWarning: GeoSeries.isna() previously returned True for both missing (None) and empty geometries. Now, it only returns True for missing values. Since the calling GeoSeries contains empty geometries, the result has changed compared to previous versions of GeoPandas.\n",
      "Given a GeoSeries 's', you can use 's.is_empty | s.isna()' to get back the old behaviour.\n",
      "\n",
      "To further ignore this warning, you can do: \n",
      "import warnings; warnings.filterwarnings('ignore', 'GeoSeries.isna', UserWarning)\n",
      "  return intersections[-(intersections.is_empty | intersections.isna())]\n",
      "/opt/anaconda3/lib/python3.8/site-packages/maup/indexed_geometries.py:27: UserWarning: GeoSeries.isna() previously returned True for both missing (None) and empty geometries. Now, it only returns True for missing values. Since the calling GeoSeries contains empty geometries, the result has changed compared to previous versions of GeoPandas.\n",
      "Given a GeoSeries 's', you can use 's.is_empty | s.isna()' to get back the old behaviour.\n",
      "\n",
      "To further ignore this warning, you can do: \n",
      "import warnings; warnings.filterwarnings('ignore', 'GeoSeries.isna', UserWarning)\n",
      "  return intersections[-(intersections.is_empty | intersections.isna())]\n",
      "/opt/anaconda3/lib/python3.8/site-packages/maup/indexed_geometries.py:27: UserWarning: GeoSeries.isna() previously returned True for both missing (None) and empty geometries. Now, it only returns True for missing values. Since the calling GeoSeries contains empty geometries, the result has changed compared to previous versions of GeoPandas.\n",
      "Given a GeoSeries 's', you can use 's.is_empty | s.isna()' to get back the old behaviour.\n",
      "\n",
      "To further ignore this warning, you can do: \n",
      "import warnings; warnings.filterwarnings('ignore', 'GeoSeries.isna', UserWarning)\n",
      "  return intersections[-(intersections.is_empty | intersections.isna())]\n",
      "/opt/anaconda3/lib/python3.8/site-packages/maup/indexed_geometries.py:27: UserWarning: GeoSeries.isna() previously returned True for both missing (None) and empty geometries. Now, it only returns True for missing values. Since the calling GeoSeries contains empty geometries, the result has changed compared to previous versions of GeoPandas.\n",
      "Given a GeoSeries 's', you can use 's.is_empty | s.isna()' to get back the old behaviour.\n",
      "\n",
      "To further ignore this warning, you can do: \n",
      "import warnings; warnings.filterwarnings('ignore', 'GeoSeries.isna', UserWarning)\n",
      "  return intersections[-(intersections.is_empty | intersections.isna())]\n",
      "/opt/anaconda3/lib/python3.8/site-packages/maup/indexed_geometries.py:27: UserWarning: GeoSeries.isna() previously returned True for both missing (None) and empty geometries. Now, it only returns True for missing values. Since the calling GeoSeries contains empty geometries, the result has changed compared to previous versions of GeoPandas.\n",
      "Given a GeoSeries 's', you can use 's.is_empty | s.isna()' to get back the old behaviour.\n",
      "\n",
      "To further ignore this warning, you can do: \n",
      "import warnings; warnings.filterwarnings('ignore', 'GeoSeries.isna', UserWarning)\n",
      "  return intersections[-(intersections.is_empty | intersections.isna())]\n",
      "/opt/anaconda3/lib/python3.8/site-packages/maup/indexed_geometries.py:27: UserWarning: GeoSeries.isna() previously returned True for both missing (None) and empty geometries. Now, it only returns True for missing values. Since the calling GeoSeries contains empty geometries, the result has changed compared to previous versions of GeoPandas.\n",
      "Given a GeoSeries 's', you can use 's.is_empty | s.isna()' to get back the old behaviour.\n",
      "\n",
      "To further ignore this warning, you can do: \n",
      "import warnings; warnings.filterwarnings('ignore', 'GeoSeries.isna', UserWarning)\n",
      "  return intersections[-(intersections.is_empty | intersections.isna())]\n",
      "/opt/anaconda3/lib/python3.8/site-packages/maup/indexed_geometries.py:27: UserWarning: GeoSeries.isna() previously returned True for both missing (None) and empty geometries. Now, it only returns True for missing values. Since the calling GeoSeries contains empty geometries, the result has changed compared to previous versions of GeoPandas.\n",
      "Given a GeoSeries 's', you can use 's.is_empty | s.isna()' to get back the old behaviour.\n",
      "\n",
      "To further ignore this warning, you can do: \n",
      "import warnings; warnings.filterwarnings('ignore', 'GeoSeries.isna', UserWarning)\n",
      "  return intersections[-(intersections.is_empty | intersections.isna())]\n",
      "/opt/anaconda3/lib/python3.8/site-packages/maup/indexed_geometries.py:27: UserWarning: GeoSeries.isna() previously returned True for both missing (None) and empty geometries. Now, it only returns True for missing values. Since the calling GeoSeries contains empty geometries, the result has changed compared to previous versions of GeoPandas.\n",
      "Given a GeoSeries 's', you can use 's.is_empty | s.isna()' to get back the old behaviour.\n",
      "\n",
      "To further ignore this warning, you can do: \n",
      "import warnings; warnings.filterwarnings('ignore', 'GeoSeries.isna', UserWarning)\n",
      "  return intersections[-(intersections.is_empty | intersections.isna())]\n",
      "/opt/anaconda3/lib/python3.8/site-packages/maup/indexed_geometries.py:27: UserWarning: GeoSeries.isna() previously returned True for both missing (None) and empty geometries. Now, it only returns True for missing values. Since the calling GeoSeries contains empty geometries, the result has changed compared to previous versions of GeoPandas.\n",
      "Given a GeoSeries 's', you can use 's.is_empty | s.isna()' to get back the old behaviour.\n",
      "\n",
      "To further ignore this warning, you can do: \n",
      "import warnings; warnings.filterwarnings('ignore', 'GeoSeries.isna', UserWarning)\n",
      "  return intersections[-(intersections.is_empty | intersections.isna())]\n",
      "/opt/anaconda3/lib/python3.8/site-packages/maup/indexed_geometries.py:27: UserWarning: GeoSeries.isna() previously returned True for both missing (None) and empty geometries. Now, it only returns True for missing values. Since the calling GeoSeries contains empty geometries, the result has changed compared to previous versions of GeoPandas.\n",
      "Given a GeoSeries 's', you can use 's.is_empty | s.isna()' to get back the old behaviour.\n",
      "\n",
      "To further ignore this warning, you can do: \n",
      "import warnings; warnings.filterwarnings('ignore', 'GeoSeries.isna', UserWarning)\n",
      "  return intersections[-(intersections.is_empty | intersections.isna())]\n",
      "/opt/anaconda3/lib/python3.8/site-packages/maup/intersections.py:42: UserWarning: Geometry is in a geographic CRS. Results from 'area' are likely incorrect. Use 'GeoSeries.to_crs()' to re-project geometries to a projected CRS before this operation.\n",
      "\n",
      "  geometries = geometries[geometries.area > area_cutoff]\n",
      "/opt/anaconda3/lib/python3.8/site-packages/maup/assign.py:26: UserWarning: Geometry is in a geographic CRS. Results from 'area' are likely incorrect. Use 'GeoSeries.to_crs()' to re-project geometries to a projected CRS before this operation.\n",
      "\n",
      "  return assign_to_max(intersections(sources, targets, area_cutoff=0).area)\n"
     ]
    }
   ],
   "source": [
    "assignments=maup.assign(precincts,newplan)"
   ]
  },
  {
   "cell_type": "code",
   "execution_count": 259,
   "metadata": {},
   "outputs": [
    {
     "name": "stdout",
     "output_type": "stream",
     "text": [
      "[ 9  7 12  0  4  5  6  1  8 10  2  3 11]\n"
     ]
    }
   ],
   "source": [
    "print(assignments.unique())"
   ]
  },
  {
   "cell_type": "markdown",
   "metadata": {},
   "source": [
    "There are 13 Congressional Districts in North Carolina, but there are no 0 districts, \n",
    "\n",
    "We have to add 1.0 to each districts because Python indexing. "
   ]
  },
  {
   "cell_type": "code",
   "execution_count": 260,
   "metadata": {},
   "outputs": [],
   "source": [
    "#adding 1.0 to each C.D because of the Python Index Mix-ups\n",
    "assignments=assignments+1.0"
   ]
  },
  {
   "cell_type": "code",
   "execution_count": 261,
   "metadata": {},
   "outputs": [
    {
     "name": "stdout",
     "output_type": "stream",
     "text": [
      "[10.  8. 13.  1.  5.  6.  7.  2.  9. 11.  3.  4. 12.]\n"
     ]
    }
   ],
   "source": [
    "print(assignments.unique())"
   ]
  },
  {
   "cell_type": "markdown",
   "metadata": {},
   "source": [
    "Assign the C.Ds to the precinct shapefiles"
   ]
  },
  {
   "cell_type": "code",
   "execution_count": 262,
   "metadata": {},
   "outputs": [],
   "source": [
    "precincts[\"newplan\"]=assignments"
   ]
  },
  {
   "cell_type": "code",
   "execution_count": 263,
   "metadata": {},
   "outputs": [
    {
     "data": {
      "text/html": [
       "<div>\n",
       "<style scoped>\n",
       "    .dataframe tbody tr th:only-of-type {\n",
       "        vertical-align: middle;\n",
       "    }\n",
       "\n",
       "    .dataframe tbody tr th {\n",
       "        vertical-align: top;\n",
       "    }\n",
       "\n",
       "    .dataframe thead th {\n",
       "        text-align: right;\n",
       "    }\n",
       "</style>\n",
       "<table border=\"1\" class=\"dataframe\">\n",
       "  <thead>\n",
       "    <tr style=\"text-align: right;\">\n",
       "      <th></th>\n",
       "      <th>STATEFP10</th>\n",
       "      <th>COUNTYFP10</th>\n",
       "      <th>VTDST10</th>\n",
       "      <th>GEOID10</th>\n",
       "      <th>VTDI10</th>\n",
       "      <th>NAME10</th>\n",
       "      <th>NAMELSAD10</th>\n",
       "      <th>LSAD10</th>\n",
       "      <th>MTFCC10</th>\n",
       "      <th>FUNCSTAT10</th>\n",
       "      <th>ALAND10</th>\n",
       "      <th>AWATER10</th>\n",
       "      <th>INTPTLAT10</th>\n",
       "      <th>INTPTLON10</th>\n",
       "      <th>geometry</th>\n",
       "      <th>newplan</th>\n",
       "    </tr>\n",
       "  </thead>\n",
       "  <tbody>\n",
       "    <tr>\n",
       "      <th>0</th>\n",
       "      <td>37</td>\n",
       "      <td>149</td>\n",
       "      <td>WO06</td>\n",
       "      <td>37149WO06</td>\n",
       "      <td>P</td>\n",
       "      <td>WO06</td>\n",
       "      <td>Voting District WO06</td>\n",
       "      <td>V1</td>\n",
       "      <td>G5240</td>\n",
       "      <td>S</td>\n",
       "      <td>112373051</td>\n",
       "      <td>565151</td>\n",
       "      <td>+35.3132600</td>\n",
       "      <td>-082.1572357</td>\n",
       "      <td>POLYGON ((-82.27895 35.30135, -82.27878 35.301...</td>\n",
       "      <td>10.0</td>\n",
       "    </tr>\n",
       "    <tr>\n",
       "      <th>1</th>\n",
       "      <td>37</td>\n",
       "      <td>149</td>\n",
       "      <td>SA04</td>\n",
       "      <td>37149SA04</td>\n",
       "      <td>P</td>\n",
       "      <td>SA04</td>\n",
       "      <td>Voting District SA04</td>\n",
       "      <td>V1</td>\n",
       "      <td>G5240</td>\n",
       "      <td>S</td>\n",
       "      <td>85545403</td>\n",
       "      <td>38532</td>\n",
       "      <td>+35.2610918</td>\n",
       "      <td>-082.2979896</td>\n",
       "      <td>POLYGON ((-82.35609 35.24454, -82.35517 35.244...</td>\n",
       "      <td>10.0</td>\n",
       "    </tr>\n",
       "    <tr>\n",
       "      <th>2</th>\n",
       "      <td>37</td>\n",
       "      <td>149</td>\n",
       "      <td>TR123</td>\n",
       "      <td>37149TR123</td>\n",
       "      <td>P</td>\n",
       "      <td>TR123</td>\n",
       "      <td>Voting District TR123</td>\n",
       "      <td>V1</td>\n",
       "      <td>G5240</td>\n",
       "      <td>S</td>\n",
       "      <td>45106366</td>\n",
       "      <td>20740</td>\n",
       "      <td>+35.2213121</td>\n",
       "      <td>-082.2674082</td>\n",
       "      <td>POLYGON ((-82.31243 35.22149, -82.31239 35.221...</td>\n",
       "      <td>10.0</td>\n",
       "    </tr>\n",
       "    <tr>\n",
       "      <th>3</th>\n",
       "      <td>37</td>\n",
       "      <td>149</td>\n",
       "      <td>CL07</td>\n",
       "      <td>37149CL07</td>\n",
       "      <td>P</td>\n",
       "      <td>CL07</td>\n",
       "      <td>Voting District CL07</td>\n",
       "      <td>V1</td>\n",
       "      <td>G5240</td>\n",
       "      <td>S</td>\n",
       "      <td>60133786</td>\n",
       "      <td>33643</td>\n",
       "      <td>+35.2651188</td>\n",
       "      <td>-082.1599521</td>\n",
       "      <td>POLYGON ((-82.24123 35.26694, -82.23969 35.267...</td>\n",
       "      <td>10.0</td>\n",
       "    </tr>\n",
       "    <tr>\n",
       "      <th>4</th>\n",
       "      <td>37</td>\n",
       "      <td>149</td>\n",
       "      <td>GC09</td>\n",
       "      <td>37149GC09</td>\n",
       "      <td>P</td>\n",
       "      <td>GC09</td>\n",
       "      <td>Voting District GC09</td>\n",
       "      <td>V1</td>\n",
       "      <td>G5240</td>\n",
       "      <td>S</td>\n",
       "      <td>133696997</td>\n",
       "      <td>22750</td>\n",
       "      <td>+35.2364973</td>\n",
       "      <td>-082.0399080</td>\n",
       "      <td>POLYGON ((-82.13863 35.19342, -82.13834 35.193...</td>\n",
       "      <td>10.0</td>\n",
       "    </tr>\n",
       "  </tbody>\n",
       "</table>\n",
       "</div>"
      ],
      "text/plain": [
       "  STATEFP10 COUNTYFP10 VTDST10     GEOID10 VTDI10 NAME10  \\\n",
       "0        37        149    WO06   37149WO06      P   WO06   \n",
       "1        37        149    SA04   37149SA04      P   SA04   \n",
       "2        37        149   TR123  37149TR123      P  TR123   \n",
       "3        37        149    CL07   37149CL07      P   CL07   \n",
       "4        37        149    GC09   37149GC09      P   GC09   \n",
       "\n",
       "              NAMELSAD10 LSAD10 MTFCC10 FUNCSTAT10    ALAND10  AWATER10  \\\n",
       "0   Voting District WO06     V1   G5240          S  112373051    565151   \n",
       "1   Voting District SA04     V1   G5240          S   85545403     38532   \n",
       "2  Voting District TR123     V1   G5240          S   45106366     20740   \n",
       "3   Voting District CL07     V1   G5240          S   60133786     33643   \n",
       "4   Voting District GC09     V1   G5240          S  133696997     22750   \n",
       "\n",
       "    INTPTLAT10    INTPTLON10  \\\n",
       "0  +35.3132600  -082.1572357   \n",
       "1  +35.2610918  -082.2979896   \n",
       "2  +35.2213121  -082.2674082   \n",
       "3  +35.2651188  -082.1599521   \n",
       "4  +35.2364973  -082.0399080   \n",
       "\n",
       "                                            geometry  newplan  \n",
       "0  POLYGON ((-82.27895 35.30135, -82.27878 35.301...     10.0  \n",
       "1  POLYGON ((-82.35609 35.24454, -82.35517 35.244...     10.0  \n",
       "2  POLYGON ((-82.31243 35.22149, -82.31239 35.221...     10.0  \n",
       "3  POLYGON ((-82.24123 35.26694, -82.23969 35.267...     10.0  \n",
       "4  POLYGON ((-82.13863 35.19342, -82.13834 35.193...     10.0  "
      ]
     },
     "execution_count": 263,
     "metadata": {},
     "output_type": "execute_result"
    }
   ],
   "source": [
    "precincts.head()"
   ]
  },
  {
   "cell_type": "markdown",
   "metadata": {},
   "source": [
    "**Assign old plan to VTD**"
   ]
  },
  {
   "cell_type": "code",
   "execution_count": 264,
   "metadata": {},
   "outputs": [
    {
     "name": "stdout",
     "output_type": "stream",
     "text": [
      "    District                                           geometry\n",
      "0          1  POLYGON ((796213.744 311905.936, 795722.960 31...\n",
      "1         10  POLYGON ((415705.894 232610.340, 415725.426 23...\n",
      "2         11  POLYGON ((348407.125 284337.112, 348450.352 28...\n",
      "3         12  POLYGON ((544363.033 271139.904, 544372.622 27...\n",
      "4         13  POLYGON ((667873.217 288959.324, 667870.273 28...\n",
      "5          2  POLYGON ((570602.283 238861.410, 570602.917 23...\n",
      "6          3  POLYGON ((896316.545 315360.015, 897124.145 30...\n",
      "7          4  POLYGON ((577362.819 276982.755, 577830.525 27...\n",
      "8          5  POLYGON ((371866.217 318006.836, 372363.429 31...\n",
      "9          6  POLYGON ((445075.802 313164.100, 445083.578 31...\n",
      "10         7  POLYGON ((677286.140 228450.396, 677304.020 22...\n",
      "11         8  POLYGON ((512965.201 241978.795, 512958.627 24...\n",
      "12         9  POLYGON ((433561.361 248100.092, 433776.095 24...\n"
     ]
    }
   ],
   "source": [
    "print(oldplan)"
   ]
  },
  {
   "cell_type": "code",
   "execution_count": 265,
   "metadata": {},
   "outputs": [],
   "source": [
    "oldplan[\"geometery\"]=oldplan.buffer(0)"
   ]
  },
  {
   "cell_type": "code",
   "execution_count": 266,
   "metadata": {},
   "outputs": [],
   "source": [
    "#Have to run this otherwise cannot maup.assign\n",
    "\n",
    "oldplan=oldplan.to_crs(proj)"
   ]
  },
  {
   "cell_type": "code",
   "execution_count": 267,
   "metadata": {},
   "outputs": [
    {
     "name": "stderr",
     "output_type": "stream",
     "text": [
      "/opt/anaconda3/lib/python3.8/site-packages/maup/indexed_geometries.py:27: UserWarning: GeoSeries.isna() previously returned True for both missing (None) and empty geometries. Now, it only returns True for missing values. Since the calling GeoSeries contains empty geometries, the result has changed compared to previous versions of GeoPandas.\n",
      "Given a GeoSeries 's', you can use 's.is_empty | s.isna()' to get back the old behaviour.\n",
      "\n",
      "To further ignore this warning, you can do: \n",
      "import warnings; warnings.filterwarnings('ignore', 'GeoSeries.isna', UserWarning)\n",
      "  return intersections[-(intersections.is_empty | intersections.isna())]\n",
      "/opt/anaconda3/lib/python3.8/site-packages/maup/indexed_geometries.py:27: UserWarning: GeoSeries.isna() previously returned True for both missing (None) and empty geometries. Now, it only returns True for missing values. Since the calling GeoSeries contains empty geometries, the result has changed compared to previous versions of GeoPandas.\n",
      "Given a GeoSeries 's', you can use 's.is_empty | s.isna()' to get back the old behaviour.\n",
      "\n",
      "To further ignore this warning, you can do: \n",
      "import warnings; warnings.filterwarnings('ignore', 'GeoSeries.isna', UserWarning)\n",
      "  return intersections[-(intersections.is_empty | intersections.isna())]\n",
      "/opt/anaconda3/lib/python3.8/site-packages/maup/indexed_geometries.py:27: UserWarning: GeoSeries.isna() previously returned True for both missing (None) and empty geometries. Now, it only returns True for missing values. Since the calling GeoSeries contains empty geometries, the result has changed compared to previous versions of GeoPandas.\n",
      "Given a GeoSeries 's', you can use 's.is_empty | s.isna()' to get back the old behaviour.\n",
      "\n",
      "To further ignore this warning, you can do: \n",
      "import warnings; warnings.filterwarnings('ignore', 'GeoSeries.isna', UserWarning)\n",
      "  return intersections[-(intersections.is_empty | intersections.isna())]\n",
      "/opt/anaconda3/lib/python3.8/site-packages/maup/indexed_geometries.py:27: UserWarning: GeoSeries.isna() previously returned True for both missing (None) and empty geometries. Now, it only returns True for missing values. Since the calling GeoSeries contains empty geometries, the result has changed compared to previous versions of GeoPandas.\n",
      "Given a GeoSeries 's', you can use 's.is_empty | s.isna()' to get back the old behaviour.\n",
      "\n",
      "To further ignore this warning, you can do: \n",
      "import warnings; warnings.filterwarnings('ignore', 'GeoSeries.isna', UserWarning)\n",
      "  return intersections[-(intersections.is_empty | intersections.isna())]\n",
      "/opt/anaconda3/lib/python3.8/site-packages/maup/indexed_geometries.py:27: UserWarning: GeoSeries.isna() previously returned True for both missing (None) and empty geometries. Now, it only returns True for missing values. Since the calling GeoSeries contains empty geometries, the result has changed compared to previous versions of GeoPandas.\n",
      "Given a GeoSeries 's', you can use 's.is_empty | s.isna()' to get back the old behaviour.\n",
      "\n",
      "To further ignore this warning, you can do: \n",
      "import warnings; warnings.filterwarnings('ignore', 'GeoSeries.isna', UserWarning)\n",
      "  return intersections[-(intersections.is_empty | intersections.isna())]\n",
      "/opt/anaconda3/lib/python3.8/site-packages/maup/indexed_geometries.py:27: UserWarning: GeoSeries.isna() previously returned True for both missing (None) and empty geometries. Now, it only returns True for missing values. Since the calling GeoSeries contains empty geometries, the result has changed compared to previous versions of GeoPandas.\n",
      "Given a GeoSeries 's', you can use 's.is_empty | s.isna()' to get back the old behaviour.\n",
      "\n",
      "To further ignore this warning, you can do: \n",
      "import warnings; warnings.filterwarnings('ignore', 'GeoSeries.isna', UserWarning)\n",
      "  return intersections[-(intersections.is_empty | intersections.isna())]\n",
      "/opt/anaconda3/lib/python3.8/site-packages/maup/indexed_geometries.py:27: UserWarning: GeoSeries.isna() previously returned True for both missing (None) and empty geometries. Now, it only returns True for missing values. Since the calling GeoSeries contains empty geometries, the result has changed compared to previous versions of GeoPandas.\n",
      "Given a GeoSeries 's', you can use 's.is_empty | s.isna()' to get back the old behaviour.\n",
      "\n",
      "To further ignore this warning, you can do: \n",
      "import warnings; warnings.filterwarnings('ignore', 'GeoSeries.isna', UserWarning)\n",
      "  return intersections[-(intersections.is_empty | intersections.isna())]\n",
      "/opt/anaconda3/lib/python3.8/site-packages/maup/indexed_geometries.py:27: UserWarning: GeoSeries.isna() previously returned True for both missing (None) and empty geometries. Now, it only returns True for missing values. Since the calling GeoSeries contains empty geometries, the result has changed compared to previous versions of GeoPandas.\n",
      "Given a GeoSeries 's', you can use 's.is_empty | s.isna()' to get back the old behaviour.\n",
      "\n",
      "To further ignore this warning, you can do: \n",
      "import warnings; warnings.filterwarnings('ignore', 'GeoSeries.isna', UserWarning)\n",
      "  return intersections[-(intersections.is_empty | intersections.isna())]\n",
      "/opt/anaconda3/lib/python3.8/site-packages/maup/indexed_geometries.py:27: UserWarning: GeoSeries.isna() previously returned True for both missing (None) and empty geometries. Now, it only returns True for missing values. Since the calling GeoSeries contains empty geometries, the result has changed compared to previous versions of GeoPandas.\n",
      "Given a GeoSeries 's', you can use 's.is_empty | s.isna()' to get back the old behaviour.\n",
      "\n",
      "To further ignore this warning, you can do: \n",
      "import warnings; warnings.filterwarnings('ignore', 'GeoSeries.isna', UserWarning)\n",
      "  return intersections[-(intersections.is_empty | intersections.isna())]\n",
      "/opt/anaconda3/lib/python3.8/site-packages/maup/indexed_geometries.py:27: UserWarning: GeoSeries.isna() previously returned True for both missing (None) and empty geometries. Now, it only returns True for missing values. Since the calling GeoSeries contains empty geometries, the result has changed compared to previous versions of GeoPandas.\n",
      "Given a GeoSeries 's', you can use 's.is_empty | s.isna()' to get back the old behaviour.\n",
      "\n",
      "To further ignore this warning, you can do: \n",
      "import warnings; warnings.filterwarnings('ignore', 'GeoSeries.isna', UserWarning)\n",
      "  return intersections[-(intersections.is_empty | intersections.isna())]\n",
      "/opt/anaconda3/lib/python3.8/site-packages/maup/indexed_geometries.py:27: UserWarning: GeoSeries.isna() previously returned True for both missing (None) and empty geometries. Now, it only returns True for missing values. Since the calling GeoSeries contains empty geometries, the result has changed compared to previous versions of GeoPandas.\n",
      "Given a GeoSeries 's', you can use 's.is_empty | s.isna()' to get back the old behaviour.\n",
      "\n",
      "To further ignore this warning, you can do: \n",
      "import warnings; warnings.filterwarnings('ignore', 'GeoSeries.isna', UserWarning)\n",
      "  return intersections[-(intersections.is_empty | intersections.isna())]\n",
      "/opt/anaconda3/lib/python3.8/site-packages/maup/indexed_geometries.py:27: UserWarning: GeoSeries.isna() previously returned True for both missing (None) and empty geometries. Now, it only returns True for missing values. Since the calling GeoSeries contains empty geometries, the result has changed compared to previous versions of GeoPandas.\n",
      "Given a GeoSeries 's', you can use 's.is_empty | s.isna()' to get back the old behaviour.\n",
      "\n",
      "To further ignore this warning, you can do: \n",
      "import warnings; warnings.filterwarnings('ignore', 'GeoSeries.isna', UserWarning)\n",
      "  return intersections[-(intersections.is_empty | intersections.isna())]\n",
      "/opt/anaconda3/lib/python3.8/site-packages/maup/indexed_geometries.py:27: UserWarning: GeoSeries.isna() previously returned True for both missing (None) and empty geometries. Now, it only returns True for missing values. Since the calling GeoSeries contains empty geometries, the result has changed compared to previous versions of GeoPandas.\n",
      "Given a GeoSeries 's', you can use 's.is_empty | s.isna()' to get back the old behaviour.\n",
      "\n",
      "To further ignore this warning, you can do: \n",
      "import warnings; warnings.filterwarnings('ignore', 'GeoSeries.isna', UserWarning)\n",
      "  return intersections[-(intersections.is_empty | intersections.isna())]\n"
     ]
    },
    {
     "name": "stderr",
     "output_type": "stream",
     "text": [
      "/opt/anaconda3/lib/python3.8/site-packages/maup/intersections.py:42: UserWarning: Geometry is in a geographic CRS. Results from 'area' are likely incorrect. Use 'GeoSeries.to_crs()' to re-project geometries to a projected CRS before this operation.\n",
      "\n",
      "  geometries = geometries[geometries.area > area_cutoff]\n",
      "/opt/anaconda3/lib/python3.8/site-packages/maup/assign.py:26: UserWarning: Geometry is in a geographic CRS. Results from 'area' are likely incorrect. Use 'GeoSeries.to_crs()' to re-project geometries to a projected CRS before this operation.\n",
      "\n",
      "  return assign_to_max(intersections(sources, targets, area_cutoff=0).area)\n"
     ]
    }
   ],
   "source": [
    "assignments2=maup.assign(precincts,oldplan)"
   ]
  },
  {
   "cell_type": "code",
   "execution_count": 268,
   "metadata": {},
   "outputs": [
    {
     "name": "stdout",
     "output_type": "stream",
     "text": [
      "[ 1 11  3  8 12  0  2  9 10  5  6  7  4]\n"
     ]
    }
   ],
   "source": [
    "print(assignments2.unique())"
   ]
  },
  {
   "cell_type": "code",
   "execution_count": 269,
   "metadata": {},
   "outputs": [],
   "source": [
    "assignments2=assignments2+1.0"
   ]
  },
  {
   "cell_type": "code",
   "execution_count": 270,
   "metadata": {},
   "outputs": [
    {
     "name": "stdout",
     "output_type": "stream",
     "text": [
      "[ 2. 12.  4.  9. 13.  1.  3. 10. 11.  6.  7.  8.  5.]\n"
     ]
    }
   ],
   "source": [
    "print(assignments2.unique())"
   ]
  },
  {
   "cell_type": "code",
   "execution_count": 271,
   "metadata": {},
   "outputs": [],
   "source": [
    "precincts[\"oldplan\"]=assignments2"
   ]
  },
  {
   "cell_type": "markdown",
   "metadata": {},
   "source": [
    "**Assign judge plan to VTD**"
   ]
  },
  {
   "cell_type": "code",
   "execution_count": 272,
   "metadata": {},
   "outputs": [
    {
     "name": "stdout",
     "output_type": "stream",
     "text": [
      "   DISTRICT  POPULATION                                           geometry\n",
      "0        12      733499  POLYGON ((449362.059 184483.802, 449368.426 18...\n",
      "1         2      733499  POLYGON ((622633.549 201431.242, 622384.873 20...\n",
      "2         3      733499  POLYGON ((773148.847 217156.853, 773146.315 21...\n",
      "3         1      733498  POLYGON ((747975.917 187057.151, 747789.630 18...\n",
      "4         4      733499  POLYGON ((570678.318 223963.120, 570684.661 22...\n",
      "5         8      733498  POLYGON ((463511.401 166124.562, 463498.613 16...\n",
      "6         7      733499  POLYGON ((657224.706 216614.546, 657232.268 21...\n",
      "7         9      733499  POLYGON ((546200.233 117252.094, 545502.165 11...\n",
      "8         6      733498  POLYGON ((515138.999 241296.078, 515136.927 24...\n",
      "9        13      733498  POLYGON ((515554.047 251272.137, 515554.223 25...\n",
      "10        5      733499  POLYGON ((366549.744 290180.869, 366563.995 29...\n",
      "11       10      733499  POLYGON ((447748.702 196230.850, 447431.950 19...\n",
      "12       11      733499  POLYGON ((332268.075 265334.761, 332259.763 26...\n"
     ]
    }
   ],
   "source": [
    "print(judge)"
   ]
  },
  {
   "cell_type": "code",
   "execution_count": 273,
   "metadata": {},
   "outputs": [],
   "source": [
    "judge[\"geometery\"]=oldplan.buffer(0)"
   ]
  },
  {
   "cell_type": "code",
   "execution_count": 274,
   "metadata": {},
   "outputs": [],
   "source": [
    "#Have to run this otherwise cannot maup.assign\n",
    "\n",
    "judge=judge.to_crs(proj)"
   ]
  },
  {
   "cell_type": "code",
   "execution_count": 275,
   "metadata": {},
   "outputs": [
    {
     "name": "stderr",
     "output_type": "stream",
     "text": [
      "/opt/anaconda3/lib/python3.8/site-packages/maup/indexed_geometries.py:27: UserWarning: GeoSeries.isna() previously returned True for both missing (None) and empty geometries. Now, it only returns True for missing values. Since the calling GeoSeries contains empty geometries, the result has changed compared to previous versions of GeoPandas.\n",
      "Given a GeoSeries 's', you can use 's.is_empty | s.isna()' to get back the old behaviour.\n",
      "\n",
      "To further ignore this warning, you can do: \n",
      "import warnings; warnings.filterwarnings('ignore', 'GeoSeries.isna', UserWarning)\n",
      "  return intersections[-(intersections.is_empty | intersections.isna())]\n",
      "/opt/anaconda3/lib/python3.8/site-packages/maup/indexed_geometries.py:27: UserWarning: GeoSeries.isna() previously returned True for both missing (None) and empty geometries. Now, it only returns True for missing values. Since the calling GeoSeries contains empty geometries, the result has changed compared to previous versions of GeoPandas.\n",
      "Given a GeoSeries 's', you can use 's.is_empty | s.isna()' to get back the old behaviour.\n",
      "\n",
      "To further ignore this warning, you can do: \n",
      "import warnings; warnings.filterwarnings('ignore', 'GeoSeries.isna', UserWarning)\n",
      "  return intersections[-(intersections.is_empty | intersections.isna())]\n",
      "/opt/anaconda3/lib/python3.8/site-packages/maup/indexed_geometries.py:27: UserWarning: GeoSeries.isna() previously returned True for both missing (None) and empty geometries. Now, it only returns True for missing values. Since the calling GeoSeries contains empty geometries, the result has changed compared to previous versions of GeoPandas.\n",
      "Given a GeoSeries 's', you can use 's.is_empty | s.isna()' to get back the old behaviour.\n",
      "\n",
      "To further ignore this warning, you can do: \n",
      "import warnings; warnings.filterwarnings('ignore', 'GeoSeries.isna', UserWarning)\n",
      "  return intersections[-(intersections.is_empty | intersections.isna())]\n",
      "/opt/anaconda3/lib/python3.8/site-packages/maup/indexed_geometries.py:27: UserWarning: GeoSeries.isna() previously returned True for both missing (None) and empty geometries. Now, it only returns True for missing values. Since the calling GeoSeries contains empty geometries, the result has changed compared to previous versions of GeoPandas.\n",
      "Given a GeoSeries 's', you can use 's.is_empty | s.isna()' to get back the old behaviour.\n",
      "\n",
      "To further ignore this warning, you can do: \n",
      "import warnings; warnings.filterwarnings('ignore', 'GeoSeries.isna', UserWarning)\n",
      "  return intersections[-(intersections.is_empty | intersections.isna())]\n",
      "/opt/anaconda3/lib/python3.8/site-packages/maup/indexed_geometries.py:27: UserWarning: GeoSeries.isna() previously returned True for both missing (None) and empty geometries. Now, it only returns True for missing values. Since the calling GeoSeries contains empty geometries, the result has changed compared to previous versions of GeoPandas.\n",
      "Given a GeoSeries 's', you can use 's.is_empty | s.isna()' to get back the old behaviour.\n",
      "\n",
      "To further ignore this warning, you can do: \n",
      "import warnings; warnings.filterwarnings('ignore', 'GeoSeries.isna', UserWarning)\n",
      "  return intersections[-(intersections.is_empty | intersections.isna())]\n",
      "/opt/anaconda3/lib/python3.8/site-packages/maup/indexed_geometries.py:27: UserWarning: GeoSeries.isna() previously returned True for both missing (None) and empty geometries. Now, it only returns True for missing values. Since the calling GeoSeries contains empty geometries, the result has changed compared to previous versions of GeoPandas.\n",
      "Given a GeoSeries 's', you can use 's.is_empty | s.isna()' to get back the old behaviour.\n",
      "\n",
      "To further ignore this warning, you can do: \n",
      "import warnings; warnings.filterwarnings('ignore', 'GeoSeries.isna', UserWarning)\n",
      "  return intersections[-(intersections.is_empty | intersections.isna())]\n",
      "/opt/anaconda3/lib/python3.8/site-packages/maup/indexed_geometries.py:27: UserWarning: GeoSeries.isna() previously returned True for both missing (None) and empty geometries. Now, it only returns True for missing values. Since the calling GeoSeries contains empty geometries, the result has changed compared to previous versions of GeoPandas.\n",
      "Given a GeoSeries 's', you can use 's.is_empty | s.isna()' to get back the old behaviour.\n",
      "\n",
      "To further ignore this warning, you can do: \n",
      "import warnings; warnings.filterwarnings('ignore', 'GeoSeries.isna', UserWarning)\n",
      "  return intersections[-(intersections.is_empty | intersections.isna())]\n",
      "/opt/anaconda3/lib/python3.8/site-packages/maup/indexed_geometries.py:27: UserWarning: GeoSeries.isna() previously returned True for both missing (None) and empty geometries. Now, it only returns True for missing values. Since the calling GeoSeries contains empty geometries, the result has changed compared to previous versions of GeoPandas.\n",
      "Given a GeoSeries 's', you can use 's.is_empty | s.isna()' to get back the old behaviour.\n",
      "\n",
      "To further ignore this warning, you can do: \n",
      "import warnings; warnings.filterwarnings('ignore', 'GeoSeries.isna', UserWarning)\n",
      "  return intersections[-(intersections.is_empty | intersections.isna())]\n",
      "/opt/anaconda3/lib/python3.8/site-packages/maup/indexed_geometries.py:27: UserWarning: GeoSeries.isna() previously returned True for both missing (None) and empty geometries. Now, it only returns True for missing values. Since the calling GeoSeries contains empty geometries, the result has changed compared to previous versions of GeoPandas.\n",
      "Given a GeoSeries 's', you can use 's.is_empty | s.isna()' to get back the old behaviour.\n",
      "\n",
      "To further ignore this warning, you can do: \n",
      "import warnings; warnings.filterwarnings('ignore', 'GeoSeries.isna', UserWarning)\n",
      "  return intersections[-(intersections.is_empty | intersections.isna())]\n",
      "/opt/anaconda3/lib/python3.8/site-packages/maup/indexed_geometries.py:27: UserWarning: GeoSeries.isna() previously returned True for both missing (None) and empty geometries. Now, it only returns True for missing values. Since the calling GeoSeries contains empty geometries, the result has changed compared to previous versions of GeoPandas.\n",
      "Given a GeoSeries 's', you can use 's.is_empty | s.isna()' to get back the old behaviour.\n",
      "\n",
      "To further ignore this warning, you can do: \n",
      "import warnings; warnings.filterwarnings('ignore', 'GeoSeries.isna', UserWarning)\n",
      "  return intersections[-(intersections.is_empty | intersections.isna())]\n",
      "/opt/anaconda3/lib/python3.8/site-packages/maup/indexed_geometries.py:27: UserWarning: GeoSeries.isna() previously returned True for both missing (None) and empty geometries. Now, it only returns True for missing values. Since the calling GeoSeries contains empty geometries, the result has changed compared to previous versions of GeoPandas.\n",
      "Given a GeoSeries 's', you can use 's.is_empty | s.isna()' to get back the old behaviour.\n",
      "\n",
      "To further ignore this warning, you can do: \n",
      "import warnings; warnings.filterwarnings('ignore', 'GeoSeries.isna', UserWarning)\n",
      "  return intersections[-(intersections.is_empty | intersections.isna())]\n",
      "/opt/anaconda3/lib/python3.8/site-packages/maup/indexed_geometries.py:27: UserWarning: GeoSeries.isna() previously returned True for both missing (None) and empty geometries. Now, it only returns True for missing values. Since the calling GeoSeries contains empty geometries, the result has changed compared to previous versions of GeoPandas.\n",
      "Given a GeoSeries 's', you can use 's.is_empty | s.isna()' to get back the old behaviour.\n",
      "\n",
      "To further ignore this warning, you can do: \n",
      "import warnings; warnings.filterwarnings('ignore', 'GeoSeries.isna', UserWarning)\n",
      "  return intersections[-(intersections.is_empty | intersections.isna())]\n",
      "/opt/anaconda3/lib/python3.8/site-packages/maup/indexed_geometries.py:27: UserWarning: GeoSeries.isna() previously returned True for both missing (None) and empty geometries. Now, it only returns True for missing values. Since the calling GeoSeries contains empty geometries, the result has changed compared to previous versions of GeoPandas.\n",
      "Given a GeoSeries 's', you can use 's.is_empty | s.isna()' to get back the old behaviour.\n",
      "\n",
      "To further ignore this warning, you can do: \n",
      "import warnings; warnings.filterwarnings('ignore', 'GeoSeries.isna', UserWarning)\n",
      "  return intersections[-(intersections.is_empty | intersections.isna())]\n",
      "/opt/anaconda3/lib/python3.8/site-packages/maup/intersections.py:42: UserWarning: Geometry is in a geographic CRS. Results from 'area' are likely incorrect. Use 'GeoSeries.to_crs()' to re-project geometries to a projected CRS before this operation.\n",
      "\n",
      "  geometries = geometries[geometries.area > area_cutoff]\n",
      "/opt/anaconda3/lib/python3.8/site-packages/maup/assign.py:26: UserWarning: Geometry is in a geographic CRS. Results from 'area' are likely incorrect. Use 'GeoSeries.to_crs()' to re-project geometries to a projected CRS before this operation.\n",
      "\n",
      "  return assign_to_max(intersections(sources, targets, area_cutoff=0).area)\n"
     ]
    }
   ],
   "source": [
    "assignments3=maup.assign(precincts,judge)"
   ]
  },
  {
   "cell_type": "code",
   "execution_count": 276,
   "metadata": {},
   "outputs": [
    {
     "name": "stdout",
     "output_type": "stream",
     "text": [
      "[12  9 11  3 10  7  6  2  4  5  8  0  1]\n"
     ]
    }
   ],
   "source": [
    "print(assignments3.unique())"
   ]
  },
  {
   "cell_type": "code",
   "execution_count": 277,
   "metadata": {},
   "outputs": [],
   "source": [
    "#adding 1.0 to each C.D because of the Python Index Mix-ups\n",
    "assignments3=assignments3+1.0"
   ]
  },
  {
   "cell_type": "code",
   "execution_count": 278,
   "metadata": {},
   "outputs": [],
   "source": [
    "precincts[\"judge\"]=assignments3"
   ]
  },
  {
   "cell_type": "markdown",
   "metadata": {},
   "source": [
    "**Merge Precinct Data with Election Data**"
   ]
  },
  {
   "cell_type": "code",
   "execution_count": 279,
   "metadata": {},
   "outputs": [
    {
     "data": {
      "text/html": [
       "<div>\n",
       "<style scoped>\n",
       "    .dataframe tbody tr th:only-of-type {\n",
       "        vertical-align: middle;\n",
       "    }\n",
       "\n",
       "    .dataframe tbody tr th {\n",
       "        vertical-align: top;\n",
       "    }\n",
       "\n",
       "    .dataframe thead th {\n",
       "        text-align: right;\n",
       "    }\n",
       "</style>\n",
       "<table border=\"1\" class=\"dataframe\">\n",
       "  <thead>\n",
       "    <tr style=\"text-align: right;\">\n",
       "      <th></th>\n",
       "      <th>STATEFP10</th>\n",
       "      <th>COUNTYFP10</th>\n",
       "      <th>VTDST10</th>\n",
       "      <th>GEOID10</th>\n",
       "      <th>VTDI10</th>\n",
       "      <th>NAME10</th>\n",
       "      <th>NAMELSAD10</th>\n",
       "      <th>LSAD10</th>\n",
       "      <th>MTFCC10</th>\n",
       "      <th>FUNCSTAT10</th>\n",
       "      <th>ALAND10</th>\n",
       "      <th>AWATER10</th>\n",
       "      <th>INTPTLAT10</th>\n",
       "      <th>INTPTLON10</th>\n",
       "      <th>geometry</th>\n",
       "      <th>newplan</th>\n",
       "      <th>oldplan</th>\n",
       "      <th>judge</th>\n",
       "    </tr>\n",
       "  </thead>\n",
       "  <tbody>\n",
       "    <tr>\n",
       "      <th>0</th>\n",
       "      <td>37</td>\n",
       "      <td>149</td>\n",
       "      <td>WO06</td>\n",
       "      <td>37149WO06</td>\n",
       "      <td>P</td>\n",
       "      <td>WO06</td>\n",
       "      <td>Voting District WO06</td>\n",
       "      <td>V1</td>\n",
       "      <td>G5240</td>\n",
       "      <td>S</td>\n",
       "      <td>112373051</td>\n",
       "      <td>565151</td>\n",
       "      <td>+35.3132600</td>\n",
       "      <td>-082.1572357</td>\n",
       "      <td>POLYGON ((-82.27895 35.30135, -82.27878 35.301...</td>\n",
       "      <td>10.0</td>\n",
       "      <td>2.0</td>\n",
       "      <td>13.0</td>\n",
       "    </tr>\n",
       "    <tr>\n",
       "      <th>1</th>\n",
       "      <td>37</td>\n",
       "      <td>149</td>\n",
       "      <td>SA04</td>\n",
       "      <td>37149SA04</td>\n",
       "      <td>P</td>\n",
       "      <td>SA04</td>\n",
       "      <td>Voting District SA04</td>\n",
       "      <td>V1</td>\n",
       "      <td>G5240</td>\n",
       "      <td>S</td>\n",
       "      <td>85545403</td>\n",
       "      <td>38532</td>\n",
       "      <td>+35.2610918</td>\n",
       "      <td>-082.2979896</td>\n",
       "      <td>POLYGON ((-82.35609 35.24454, -82.35517 35.244...</td>\n",
       "      <td>10.0</td>\n",
       "      <td>2.0</td>\n",
       "      <td>13.0</td>\n",
       "    </tr>\n",
       "  </tbody>\n",
       "</table>\n",
       "</div>"
      ],
      "text/plain": [
       "  STATEFP10 COUNTYFP10 VTDST10    GEOID10 VTDI10 NAME10            NAMELSAD10  \\\n",
       "0        37        149    WO06  37149WO06      P   WO06  Voting District WO06   \n",
       "1        37        149    SA04  37149SA04      P   SA04  Voting District SA04   \n",
       "\n",
       "  LSAD10 MTFCC10 FUNCSTAT10    ALAND10  AWATER10   INTPTLAT10    INTPTLON10  \\\n",
       "0     V1   G5240          S  112373051    565151  +35.3132600  -082.1572357   \n",
       "1     V1   G5240          S   85545403     38532  +35.2610918  -082.2979896   \n",
       "\n",
       "                                            geometry  newplan  oldplan  judge  \n",
       "0  POLYGON ((-82.27895 35.30135, -82.27878 35.301...     10.0      2.0   13.0  \n",
       "1  POLYGON ((-82.35609 35.24454, -82.35517 35.244...     10.0      2.0   13.0  "
      ]
     },
     "execution_count": 279,
     "metadata": {},
     "output_type": "execute_result"
    }
   ],
   "source": [
    "precincts.head(2)"
   ]
  },
  {
   "cell_type": "code",
   "execution_count": 280,
   "metadata": {},
   "outputs": [
    {
     "data": {
      "text/plain": [
       "(288987, 58)"
      ]
     },
     "execution_count": 280,
     "metadata": {},
     "output_type": "execute_result"
    }
   ],
   "source": [
    "block_joined2.shape"
   ]
  },
  {
   "cell_type": "markdown",
   "metadata": {},
   "source": [
    "After checking contents of the file, sees that GEOID10 is similar to VTD_Key format, rename column"
   ]
  },
  {
   "cell_type": "code",
   "execution_count": 281,
   "metadata": {},
   "outputs": [],
   "source": [
    "precincts = precincts.rename(columns={\"GEOID10\": \"VTD_Key\"})"
   ]
  },
  {
   "cell_type": "code",
   "execution_count": 282,
   "metadata": {},
   "outputs": [
    {
     "data": {
      "text/plain": [
       "<bound method NDFrame.head of      STATEFP10 COUNTYFP10 VTDST10      VTD_Key VTDI10  NAME10  \\\n",
       "0           37        149    WO06    37149WO06      P    WO06   \n",
       "1           37        149    SA04    37149SA04      P    SA04   \n",
       "2           37        149   TR123   37149TR123      P   TR123   \n",
       "3           37        149    CL07    37149CL07      P    CL07   \n",
       "4           37        149    GC09    37149GC09      P    GC09   \n",
       "...        ...        ...     ...          ...    ...     ...   \n",
       "2687        37        051      G5      37051G5      P      G5   \n",
       "2688        37        173  ALARKA  37173ALARKA      P  ALARKA   \n",
       "2689        37        173     BC2     37173BC2      P     BC2   \n",
       "2690        37        173     BC1     37173BC1      P     BC1   \n",
       "2691        37        173    WHCH    37173WHCH      P    WHCH   \n",
       "\n",
       "                  NAMELSAD10 LSAD10 MTFCC10 FUNCSTAT10    ALAND10  AWATER10  \\\n",
       "0       Voting District WO06     V1   G5240          S  112373051    565151   \n",
       "1       Voting District SA04     V1   G5240          S   85545403     38532   \n",
       "2      Voting District TR123     V1   G5240          S   45106366     20740   \n",
       "3       Voting District CL07     V1   G5240          S   60133786     33643   \n",
       "4       Voting District GC09     V1   G5240          S  133696997     22750   \n",
       "...                      ...    ...     ...        ...        ...       ...   \n",
       "2687      Voting District G5     V1   G5240          S   30284630    329586   \n",
       "2688  Voting District ALARKA     V1   G5240          S   68373819         0   \n",
       "2689     Voting District BC2     V1   G5240          S  173534936   1180237   \n",
       "2690     Voting District BC1     V1   G5240          S  167201311   6041900   \n",
       "2691    Voting District WHCH     V1   G5240          S  410443860    269466   \n",
       "\n",
       "       INTPTLAT10    INTPTLON10  \\\n",
       "0     +35.3132600  -082.1572357   \n",
       "1     +35.2610918  -082.2979896   \n",
       "2     +35.2213121  -082.2674082   \n",
       "3     +35.2651188  -082.1599521   \n",
       "4     +35.2364973  -082.0399080   \n",
       "...           ...           ...   \n",
       "2687  +35.0310244  -079.0213084   \n",
       "2688  +35.3546698  -083.4186437   \n",
       "2689  +35.5442605  -083.4122051   \n",
       "2690  +35.4338987  -083.5256242   \n",
       "2691  +35.5625284  -083.2928984   \n",
       "\n",
       "                                               geometry  newplan  oldplan  \\\n",
       "0     POLYGON ((-82.27895 35.30135, -82.27878 35.301...     10.0      2.0   \n",
       "1     POLYGON ((-82.35609 35.24454, -82.35517 35.244...     10.0      2.0   \n",
       "2     POLYGON ((-82.31243 35.22149, -82.31239 35.221...     10.0      2.0   \n",
       "3     POLYGON ((-82.24123 35.26694, -82.23969 35.267...     10.0      2.0   \n",
       "4     POLYGON ((-82.13863 35.19342, -82.13834 35.193...     10.0      2.0   \n",
       "...                                                 ...      ...      ...   \n",
       "2687  POLYGON ((-79.08169 35.03270, -79.08069 35.032...      8.0      8.0   \n",
       "2688  POLYGON ((-83.48201 35.37736, -83.48195 35.377...     11.0      3.0   \n",
       "2689  POLYGON ((-83.52304 35.45413, -83.52303 35.454...     11.0      3.0   \n",
       "2690  POLYGON ((-83.57351 35.42605, -83.57350 35.426...     11.0      3.0   \n",
       "2691  POLYGON ((-83.43599 35.60740, -83.43594 35.607...     11.0      3.0   \n",
       "\n",
       "      judge  \n",
       "0      13.0  \n",
       "1      13.0  \n",
       "2      13.0  \n",
       "3      13.0  \n",
       "4      13.0  \n",
       "...     ...  \n",
       "2687    6.0  \n",
       "2688   13.0  \n",
       "2689   13.0  \n",
       "2690   13.0  \n",
       "2691   13.0  \n",
       "\n",
       "[2692 rows x 18 columns]>"
      ]
     },
     "execution_count": 282,
     "metadata": {},
     "output_type": "execute_result"
    }
   ],
   "source": [
    "precincts.head"
   ]
  },
  {
   "cell_type": "markdown",
   "metadata": {},
   "source": [
    "***Merge Demographic Data at VTD level with Precinct Data**"
   ]
  },
  {
   "cell_type": "code",
   "execution_count": 367,
   "metadata": {},
   "outputs": [],
   "source": [
    "dataset=pd.merge(block_joined2_p,precincts,on='VTD_Key',how='outer',indicator=\"join\")"
   ]
  },
  {
   "cell_type": "markdown",
   "metadata": {},
   "source": [
    "**Merge Precinct Dataset with Election Data**"
   ]
  },
  {
   "cell_type": "code",
   "execution_count": 323,
   "metadata": {},
   "outputs": [],
   "source": [
    "#merge_data=pd.merge(precincts,election_data,on='VTD_Key', how='outer',indicator='merge_data')\n",
    "\n",
    "merge_data=pd.merge(dataset,election_data,on='VTD_Key', how='outer',indicator='merge_data')\n"
   ]
  },
  {
   "cell_type": "code",
   "execution_count": 324,
   "metadata": {},
   "outputs": [
    {
     "data": {
      "text/plain": [
       "(2692, 56)"
      ]
     },
     "execution_count": 324,
     "metadata": {},
     "output_type": "execute_result"
    }
   ],
   "source": [
    "dataset.shape"
   ]
  },
  {
   "cell_type": "code",
   "execution_count": 325,
   "metadata": {},
   "outputs": [
    {
     "data": {
      "text/plain": [
       "(4182, 148)"
      ]
     },
     "execution_count": 325,
     "metadata": {},
     "output_type": "execute_result"
    }
   ],
   "source": [
    "merge_data.shape"
   ]
  },
  {
   "cell_type": "code",
   "execution_count": 326,
   "metadata": {},
   "outputs": [
    {
     "data": {
      "text/html": [
       "<div>\n",
       "<style scoped>\n",
       "    .dataframe tbody tr th:only-of-type {\n",
       "        vertical-align: middle;\n",
       "    }\n",
       "\n",
       "    .dataframe tbody tr th {\n",
       "        vertical-align: top;\n",
       "    }\n",
       "\n",
       "    .dataframe thead th {\n",
       "        text-align: right;\n",
       "    }\n",
       "</style>\n",
       "<table border=\"1\" class=\"dataframe\">\n",
       "  <thead>\n",
       "    <tr style=\"text-align: right;\">\n",
       "      <th></th>\n",
       "      <th>VTD_Key</th>\n",
       "      <th>2MOREVAP</th>\n",
       "      <th>ALAND10_x</th>\n",
       "      <th>AMINVAP</th>\n",
       "      <th>ASIANVAP</th>\n",
       "      <th>AWATER10_x</th>\n",
       "      <th>BG_Code</th>\n",
       "      <th>BG_Key</th>\n",
       "      <th>BVAP</th>\n",
       "      <th>Block_Code</th>\n",
       "      <th>...</th>\n",
       "      <th>EL16G_GV_L</th>\n",
       "      <th>EL16G_GV_R</th>\n",
       "      <th>EL16G_PR_D</th>\n",
       "      <th>EL16G_PR_L</th>\n",
       "      <th>EL16G_PR_R</th>\n",
       "      <th>EL16G_US_1</th>\n",
       "      <th>EL16G_US_2</th>\n",
       "      <th>EL16G_USS_</th>\n",
       "      <th>EL16</th>\n",
       "      <th>merge_data</th>\n",
       "    </tr>\n",
       "  </thead>\n",
       "  <tbody>\n",
       "    <tr>\n",
       "      <th>4180</th>\n",
       "      <td>nanOS ST PAULS</td>\n",
       "      <td>NaN</td>\n",
       "      <td>NaN</td>\n",
       "      <td>NaN</td>\n",
       "      <td>NaN</td>\n",
       "      <td>NaN</td>\n",
       "      <td>NaN</td>\n",
       "      <td>NaN</td>\n",
       "      <td>NaN</td>\n",
       "      <td>NaN</td>\n",
       "      <td>...</td>\n",
       "      <td>20.0</td>\n",
       "      <td>835.0</td>\n",
       "      <td>681.0</td>\n",
       "      <td>19.0</td>\n",
       "      <td>841.0</td>\n",
       "      <td>666.0</td>\n",
       "      <td>30.0</td>\n",
       "      <td>817.0</td>\n",
       "      <td>right_only</td>\n",
       "      <td>right_only</td>\n",
       "    </tr>\n",
       "    <tr>\n",
       "      <th>4181</th>\n",
       "      <td>nanPROVISIONAL</td>\n",
       "      <td>NaN</td>\n",
       "      <td>NaN</td>\n",
       "      <td>NaN</td>\n",
       "      <td>NaN</td>\n",
       "      <td>NaN</td>\n",
       "      <td>NaN</td>\n",
       "      <td>NaN</td>\n",
       "      <td>NaN</td>\n",
       "      <td>NaN</td>\n",
       "      <td>...</td>\n",
       "      <td>15.0</td>\n",
       "      <td>439.0</td>\n",
       "      <td>466.0</td>\n",
       "      <td>14.0</td>\n",
       "      <td>445.0</td>\n",
       "      <td>465.0</td>\n",
       "      <td>23.0</td>\n",
       "      <td>377.0</td>\n",
       "      <td>right_only</td>\n",
       "      <td>right_only</td>\n",
       "    </tr>\n",
       "  </tbody>\n",
       "</table>\n",
       "<p>2 rows × 148 columns</p>\n",
       "</div>"
      ],
      "text/plain": [
       "             VTD_Key  2MOREVAP  ALAND10_x  AMINVAP  ASIANVAP  AWATER10_x  \\\n",
       "4180  nanOS ST PAULS       NaN        NaN      NaN       NaN         NaN   \n",
       "4181  nanPROVISIONAL       NaN        NaN      NaN       NaN         NaN   \n",
       "\n",
       "      BG_Code  BG_Key  BVAP  Block_Code  ...  EL16G_GV_L  EL16G_GV_R  \\\n",
       "4180      NaN     NaN   NaN         NaN  ...        20.0       835.0   \n",
       "4181      NaN     NaN   NaN         NaN  ...        15.0       439.0   \n",
       "\n",
       "      EL16G_PR_D  EL16G_PR_L  EL16G_PR_R  EL16G_US_1  EL16G_US_2  EL16G_USS_  \\\n",
       "4180       681.0        19.0       841.0       666.0        30.0       817.0   \n",
       "4181       466.0        14.0       445.0       465.0        23.0       377.0   \n",
       "\n",
       "            EL16  merge_data  \n",
       "4180  right_only  right_only  \n",
       "4181  right_only  right_only  \n",
       "\n",
       "[2 rows x 148 columns]"
      ]
     },
     "execution_count": 326,
     "metadata": {},
     "output_type": "execute_result"
    }
   ],
   "source": [
    "merge_data.tail(2)"
   ]
  },
  {
   "cell_type": "markdown",
   "metadata": {},
   "source": [
    "**Load MGGG FINAL FILE**"
   ]
  },
  {
   "cell_type": "code",
   "execution_count": 327,
   "metadata": {},
   "outputs": [],
   "source": [
    "final_mggg=gp.read_file('/Users/canuse/Documents/GitHub/pdv-nc/mggg-nc/raw-from-files/mggg_file/NC_VTD/NC_VTD.shp')\n",
    "\n"
   ]
  },
  {
   "cell_type": "code",
   "execution_count": 328,
   "metadata": {},
   "outputs": [
    {
     "data": {
      "text/html": [
       "<div>\n",
       "<style scoped>\n",
       "    .dataframe tbody tr th:only-of-type {\n",
       "        vertical-align: middle;\n",
       "    }\n",
       "\n",
       "    .dataframe tbody tr th {\n",
       "        vertical-align: top;\n",
       "    }\n",
       "\n",
       "    .dataframe thead th {\n",
       "        text-align: right;\n",
       "    }\n",
       "</style>\n",
       "<table border=\"1\" class=\"dataframe\">\n",
       "  <thead>\n",
       "    <tr style=\"text-align: right;\">\n",
       "      <th></th>\n",
       "      <th>ALAND10</th>\n",
       "      <th>AWATER10</th>\n",
       "      <th>VTD</th>\n",
       "      <th>County</th>\n",
       "      <th>VTD_Key</th>\n",
       "      <th>VTD_Name</th>\n",
       "      <th>PL10AA_TOT</th>\n",
       "      <th>PL10VA_TOT</th>\n",
       "      <th>EL08G_GV_D</th>\n",
       "      <th>EL08G_GV_R</th>\n",
       "      <th>...</th>\n",
       "      <th>VAP</th>\n",
       "      <th>HVAP</th>\n",
       "      <th>WVAP</th>\n",
       "      <th>BVAP</th>\n",
       "      <th>AMINVAP</th>\n",
       "      <th>ASIANVAP</th>\n",
       "      <th>NHPIVAP</th>\n",
       "      <th>OTHERVAP</th>\n",
       "      <th>2MOREVAP</th>\n",
       "      <th>geometry</th>\n",
       "    </tr>\n",
       "  </thead>\n",
       "  <tbody>\n",
       "    <tr>\n",
       "      <th>0</th>\n",
       "      <td>1951716.0</td>\n",
       "      <td>32157.0</td>\n",
       "      <td>3700106W</td>\n",
       "      <td>37001</td>\n",
       "      <td>3700106W</td>\n",
       "      <td>06W</td>\n",
       "      <td>1973</td>\n",
       "      <td>1505</td>\n",
       "      <td>330</td>\n",
       "      <td>301</td>\n",
       "      <td>...</td>\n",
       "      <td>1505</td>\n",
       "      <td>211</td>\n",
       "      <td>899</td>\n",
       "      <td>338</td>\n",
       "      <td>4</td>\n",
       "      <td>32</td>\n",
       "      <td>0</td>\n",
       "      <td>0</td>\n",
       "      <td>21</td>\n",
       "      <td>POLYGON ((572318.656 259054.912, 572364.420 25...</td>\n",
       "    </tr>\n",
       "    <tr>\n",
       "      <th>1</th>\n",
       "      <td>2887286.0</td>\n",
       "      <td>0.0</td>\n",
       "      <td>3700112E</td>\n",
       "      <td>37001</td>\n",
       "      <td>3700112E</td>\n",
       "      <td>12E</td>\n",
       "      <td>3391</td>\n",
       "      <td>2503</td>\n",
       "      <td>586</td>\n",
       "      <td>263</td>\n",
       "      <td>...</td>\n",
       "      <td>2503</td>\n",
       "      <td>622</td>\n",
       "      <td>1085</td>\n",
       "      <td>712</td>\n",
       "      <td>19</td>\n",
       "      <td>38</td>\n",
       "      <td>0</td>\n",
       "      <td>2</td>\n",
       "      <td>25</td>\n",
       "      <td>POLYGON ((572318.656 259054.912, 572310.834 25...</td>\n",
       "    </tr>\n",
       "  </tbody>\n",
       "</table>\n",
       "<p>2 rows × 85 columns</p>\n",
       "</div>"
      ],
      "text/plain": [
       "     ALAND10  AWATER10       VTD County   VTD_Key VTD_Name  PL10AA_TOT  \\\n",
       "0  1951716.0   32157.0  3700106W  37001  3700106W      06W        1973   \n",
       "1  2887286.0       0.0  3700112E  37001  3700112E      12E        3391   \n",
       "\n",
       "   PL10VA_TOT  EL08G_GV_D  EL08G_GV_R  ...   VAP  HVAP  WVAP  BVAP  AMINVAP  \\\n",
       "0        1505         330         301  ...  1505   211   899   338        4   \n",
       "1        2503         586         263  ...  2503   622  1085   712       19   \n",
       "\n",
       "   ASIANVAP  NHPIVAP  OTHERVAP  2MOREVAP  \\\n",
       "0        32        0         0        21   \n",
       "1        38        0         2        25   \n",
       "\n",
       "                                            geometry  \n",
       "0  POLYGON ((572318.656 259054.912, 572364.420 25...  \n",
       "1  POLYGON ((572318.656 259054.912, 572310.834 25...  \n",
       "\n",
       "[2 rows x 85 columns]"
      ]
     },
     "execution_count": 328,
     "metadata": {},
     "output_type": "execute_result"
    }
   ],
   "source": [
    "final_mggg.head(2)"
   ]
  },
  {
   "cell_type": "code",
   "execution_count": 329,
   "metadata": {},
   "outputs": [
    {
     "data": {
      "text/plain": [
       "(2692, 85)"
      ]
     },
     "execution_count": 329,
     "metadata": {},
     "output_type": "execute_result"
    }
   ],
   "source": [
    "final_mggg.shape"
   ]
  },
  {
   "cell_type": "code",
   "execution_count": 330,
   "metadata": {},
   "outputs": [
    {
     "data": {
      "text/plain": [
       "Index(['VTD_Key', '2MOREVAP', 'ALAND10_x', 'AMINVAP', 'ASIANVAP', 'AWATER10_x',\n",
       "       'BG_Code', 'BG_Key', 'BVAP', 'Block_Code',\n",
       "       ...\n",
       "       'EL16G_GV_L', 'EL16G_GV_R', 'EL16G_PR_D', 'EL16G_PR_L', 'EL16G_PR_R',\n",
       "       'EL16G_US_1', 'EL16G_US_2', 'EL16G_USS_', 'EL16', 'merge_data'],\n",
       "      dtype='object', length=148)"
      ]
     },
     "execution_count": 330,
     "metadata": {},
     "output_type": "execute_result"
    }
   ],
   "source": [
    "merge_data.columns.unique()"
   ]
  },
  {
   "cell_type": "markdown",
   "metadata": {},
   "source": [
    "**Cleaning the merge_data file so that it is consistent with MGGG NC**"
   ]
  },
  {
   "cell_type": "code",
   "execution_count": 331,
   "metadata": {},
   "outputs": [],
   "source": [
    "#Renaming the 2008 Election Data\n",
    "\n",
    "merge_data = merge_data.rename(columns={\"EL08G_GV_TOT\": \"EL08G_GV_T\"})\n",
    "\n",
    "merge_data = merge_data.rename(columns={\"EL08G_USS_D\": \"EL08G_USS_\"})\n",
    "\n",
    "merge_data = merge_data.rename(columns={\"EL08G_USS_R\": \"EL08G_US_1\"})\n",
    "\n",
    "merge_data = merge_data.rename(columns={\"EL08G_USS_L\": \"EL08G_US_2\"})\n",
    "\n",
    "merge_data = merge_data.rename(columns={\"EL08G_USS_W\": \"EL08G_US_3\"})\n",
    "\n",
    "merge_data = merge_data.rename(columns={\"EL08G_USS_TOT\": \"EL08G_US_4\"})\n"
   ]
  },
  {
   "cell_type": "code",
   "execution_count": 332,
   "metadata": {},
   "outputs": [],
   "source": [
    "#Renaming the 2010 Election Data Columns to match MGGG-NC\n",
    "\n",
    "merge_data = merge_data.rename(columns={\"EL10G_USS_D\": \"EL10G_USS_\"})\n",
    "merge_data = merge_data.rename(columns={\"EL10G_USS_R\": \"EL10G_US_1\"})\n",
    "merge_data = merge_data.rename(columns={\"EL10G_USS_L\": \"EL10G_US_2\"})\n",
    "merge_data = merge_data.rename(columns={\"EL10G_USS_W\": \"EL10G_US_3\"})\n",
    "merge_data = merge_data.rename(columns={\"EL10G_USS_TOT\": \"EL10G_US_4\"})\n"
   ]
  },
  {
   "cell_type": "code",
   "execution_count": 333,
   "metadata": {},
   "outputs": [],
   "source": [
    "#Renaming the 2012 Election Data Columns to match MGGG-NC\n",
    "\n",
    "#From merge_data: column EL12G_GV_W2 > MGGG-NC Column EL12G_GV_1 (Total number of votes for 2012 gubernatorial candidates)\n",
    "#From merge_data: column EL12G_GV_W1 > MGGG-NC Column EL12G_GV_W (Total number of votes for Donald Kreamer as 2012 gubernatorial candidates)\n",
    "\n",
    "merge_data = merge_data.rename(columns={\"EL12G_GV_W1\": \"EL12G_GV_W\"})\n",
    "    \n",
    "merge_data = merge_data.rename(columns={\"EL12G_GV_W2\": \"EL12G_GV_1\"})\n",
    "                               \n",
    "                               \n",
    "merge_data = merge_data.rename(columns={\"EL12G_GV_TOT\": \"EL12G_GV_T\"})"
   ]
  },
  {
   "cell_type": "code",
   "execution_count": 334,
   "metadata": {},
   "outputs": [],
   "source": [
    "#Renaming 2014 Election Data Columns to match MGGG-NC\n",
    "\n",
    "merge_data = merge_data.rename(columns={\"EL14G_USS_R\": \"EL14G_USS_\"})\n",
    "\n",
    "merge_data = merge_data.rename(columns={\"EL14G_USS_D\": \"EL14G_US_1\"})\n",
    "\n",
    "merge_data = merge_data.rename(columns={\"EL14G_USS_L\": \"EL14G_US_2\"})\n",
    "\n",
    "merge_data = merge_data.rename(columns={\"EL14G_USS_WI\": \"EL14G_US_3\"})\n",
    "\n",
    "merge_data = merge_data.rename(columns={\"EL14G_USS_TOT\": \"EL14G_US_4\"})"
   ]
  },
  {
   "cell_type": "code",
   "execution_count": 335,
   "metadata": {},
   "outputs": [],
   "source": [
    "## Choose columns from merge_data that is also present in the final mggg columns\n",
    "final_merge=merge_data[['ALAND10_y','AWATER10_y','VTD_Key','VTD_Name','PL10AA_TOT','PL10VA_TOT','EL08G_GV_D','EL08G_GV_R','EL08G_GV_L','EL08G_GV_T','EL08G_USS_','EL08G_US_1','EL08G_US_2','EL08G_US_3','EL08G_US_4','EL10G_USS_','EL10G_US_1','EL10G_US_2','EL10G_US_3','EL12G_GV_D','EL14G_USS_','EL14G_US_1','EL14G_US_2','EL14G_US_3','EL14G_US_4','TOTPOP','NH_WHITE','NH_BLACK','NH_AMIN','NH_ASIAN','NH_NHPI','NH_OTHER','NH_2MORE','HISP','VAP','HVAP','WVAP','BVAP','AMINVAP','ASIANVAP','NHPIVAP','OTHERVAP','2MOREVAP','geometry','EL12G_PR_D','EL12G_PR_R','EL12G_PR_L','EL16G_GV_D','EL16G_GV_L','EL16G_GV_R','EL16G_PR_D','EL16G_PR_L','EL16G_PR_R','EL16G_US_1','EL16G_US_2','EL16G_USS_','oldplan','newplan','judge']]\n",
    "\n",
    "\n"
   ]
  },
  {
   "cell_type": "code",
   "execution_count": 336,
   "metadata": {},
   "outputs": [],
   "source": [
    "#final_merge=merge_data[['VTD_Key','PL10AA_TOT','PL10VA_TOT','EL08G_GV_D','EL08G_GV_R','EL08G_GV_L','EL08G_GV_T','EL08G_USS_','EL08G_US_1','EL08G_US_2','EL08G_US_3','EL08G_US_4','EL10G_USS_','EL10G_US_1','EL10G_US_2','EL10G_US_3','EL12G_GV_D','EL14G_USS_','EL14G_US_1','EL14G_US_2','EL14G_US_3','EL14G_US_4','TOTPOP','NH_WHITE','NH_BLACK','NH_AMIN','NH_ASIAN','NH_NHPI','NH_OTHER','NH_2MORE','HISP','VAP','HVAP','WVAP','BVAP','AMINVAP','ASIANVAP','NHPIVAP','OTHERVAP','2MOREVAP','EL12G_PR_D','EL12G_PR_R','EL12G_PR_L','EL16G_GV_D','EL16G_GV_L','EL16G_GV_R','EL16G_PR_D','EL16G_PR_L','EL16G_PR_R','EL16G_US_1','EL16G_US_2','EL16G_USS_']]\n"
   ]
  },
  {
   "cell_type": "code",
   "execution_count": 337,
   "metadata": {},
   "outputs": [
    {
     "data": {
      "text/plain": [
       "(4182, 59)"
      ]
     },
     "execution_count": 337,
     "metadata": {},
     "output_type": "execute_result"
    }
   ],
   "source": [
    "final_merge.shape"
   ]
  },
  {
   "cell_type": "markdown",
   "metadata": {},
   "source": [
    "**Validation**"
   ]
  },
  {
   "cell_type": "code",
   "execution_count": 338,
   "metadata": {},
   "outputs": [],
   "source": [
    "validate=pd.merge(final_merge,final_mggg, on=['VTD_Key'],how='inner')\n"
   ]
  },
  {
   "cell_type": "code",
   "execution_count": 339,
   "metadata": {},
   "outputs": [
    {
     "data": {
      "text/plain": [
       "(2692, 143)"
      ]
     },
     "execution_count": 339,
     "metadata": {},
     "output_type": "execute_result"
    }
   ],
   "source": [
    "#rows before and after are the same\n",
    "validate.shape"
   ]
  },
  {
   "cell_type": "code",
   "execution_count": 340,
   "metadata": {},
   "outputs": [
    {
     "data": {
      "text/plain": [
       "(2692, 85)"
      ]
     },
     "execution_count": 340,
     "metadata": {},
     "output_type": "execute_result"
    }
   ],
   "source": [
    "final_mggg.shape"
   ]
  },
  {
   "cell_type": "markdown",
   "metadata": {},
   "source": [
    "**Check population**"
   ]
  },
  {
   "cell_type": "code",
   "execution_count": 341,
   "metadata": {},
   "outputs": [
    {
     "data": {
      "text/plain": [
       "1.0"
      ]
     },
     "execution_count": 341,
     "metadata": {},
     "output_type": "execute_result"
    }
   ],
   "source": [
    "validate['pop_diff']=validate.TOTPOP_x-validate.TOTPOP_y\n",
    "validate[validate.pop_diff.abs()<10].shape[0]/validate.shape[0]"
   ]
  },
  {
   "cell_type": "markdown",
   "metadata": {},
   "source": [
    "**Check Voting age population**"
   ]
  },
  {
   "cell_type": "code",
   "execution_count": 342,
   "metadata": {},
   "outputs": [
    {
     "data": {
      "text/plain": [
       "1.0"
      ]
     },
     "execution_count": 342,
     "metadata": {},
     "output_type": "execute_result"
    }
   ],
   "source": [
    "validate['bvap_diff']=validate.BVAP_x-validate.BVAP_y\n",
    "validate[validate.bvap_diff.abs()<10].shape[0]/validate.shape[0]"
   ]
  },
  {
   "cell_type": "markdown",
   "metadata": {},
   "source": [
    "**Check 08 election data**"
   ]
  },
  {
   "cell_type": "code",
   "execution_count": 343,
   "metadata": {},
   "outputs": [
    {
     "data": {
      "text/plain": [
       "1.0"
      ]
     },
     "execution_count": 343,
     "metadata": {},
     "output_type": "execute_result"
    }
   ],
   "source": [
    "validate['election_08_diff']=validate.EL08G_GV_D_x-validate.EL08G_GV_D_y\n",
    "validate[validate.election_08_diff.abs()<10].shape[0]/validate.shape[0]"
   ]
  },
  {
   "cell_type": "markdown",
   "metadata": {},
   "source": [
    "**Check 12 election data**"
   ]
  },
  {
   "cell_type": "code",
   "execution_count": 344,
   "metadata": {},
   "outputs": [],
   "source": [
    "#validate['election_12_diff']=validate.EL12G_PR_D_x-validate.EL12G_PR_D_y\n",
    "#validate[validate.election_12_diff.abs()<10].shape[0]/validate.shape[0]"
   ]
  },
  {
   "cell_type": "code",
   "execution_count": 345,
   "metadata": {},
   "outputs": [
    {
     "data": {
      "text/html": [
       "<div>\n",
       "<style scoped>\n",
       "    .dataframe tbody tr th:only-of-type {\n",
       "        vertical-align: middle;\n",
       "    }\n",
       "\n",
       "    .dataframe tbody tr th {\n",
       "        vertical-align: top;\n",
       "    }\n",
       "\n",
       "    .dataframe thead th {\n",
       "        text-align: right;\n",
       "    }\n",
       "</style>\n",
       "<table border=\"1\" class=\"dataframe\">\n",
       "  <thead>\n",
       "    <tr style=\"text-align: right;\">\n",
       "      <th></th>\n",
       "      <th>VTD_Key</th>\n",
       "      <th>EL12G_PR_D_x</th>\n",
       "      <th>EL12G_PR_D_y</th>\n",
       "    </tr>\n",
       "  </thead>\n",
       "  <tbody>\n",
       "    <tr>\n",
       "      <th>0</th>\n",
       "      <td>3700101</td>\n",
       "      <td>488.0</td>\n",
       "      <td>488</td>\n",
       "    </tr>\n",
       "    <tr>\n",
       "      <th>1</th>\n",
       "      <td>3700102</td>\n",
       "      <td>429.0</td>\n",
       "      <td>429</td>\n",
       "    </tr>\n",
       "    <tr>\n",
       "      <th>2</th>\n",
       "      <td>37001035</td>\n",
       "      <td>832.0</td>\n",
       "      <td>832</td>\n",
       "    </tr>\n",
       "    <tr>\n",
       "      <th>3</th>\n",
       "      <td>3700103C</td>\n",
       "      <td>526.0</td>\n",
       "      <td>526</td>\n",
       "    </tr>\n",
       "    <tr>\n",
       "      <th>4</th>\n",
       "      <td>3700103N</td>\n",
       "      <td>881.0</td>\n",
       "      <td>1143</td>\n",
       "    </tr>\n",
       "    <tr>\n",
       "      <th>5</th>\n",
       "      <td>3700103S</td>\n",
       "      <td>1380.0</td>\n",
       "      <td>1380</td>\n",
       "    </tr>\n",
       "    <tr>\n",
       "      <th>6</th>\n",
       "      <td>3700103W</td>\n",
       "      <td>568.0</td>\n",
       "      <td>568</td>\n",
       "    </tr>\n",
       "    <tr>\n",
       "      <th>7</th>\n",
       "      <td>3700104</td>\n",
       "      <td>627.0</td>\n",
       "      <td>627</td>\n",
       "    </tr>\n",
       "    <tr>\n",
       "      <th>8</th>\n",
       "      <td>3700105</td>\n",
       "      <td>365.0</td>\n",
       "      <td>365</td>\n",
       "    </tr>\n",
       "    <tr>\n",
       "      <th>9</th>\n",
       "      <td>37001063</td>\n",
       "      <td>987.0</td>\n",
       "      <td>987</td>\n",
       "    </tr>\n",
       "  </tbody>\n",
       "</table>\n",
       "</div>"
      ],
      "text/plain": [
       "    VTD_Key  EL12G_PR_D_x  EL12G_PR_D_y\n",
       "0   3700101         488.0           488\n",
       "1   3700102         429.0           429\n",
       "2  37001035         832.0           832\n",
       "3  3700103C         526.0           526\n",
       "4  3700103N         881.0          1143\n",
       "5  3700103S        1380.0          1380\n",
       "6  3700103W         568.0           568\n",
       "7   3700104         627.0           627\n",
       "8   3700105         365.0           365\n",
       "9  37001063         987.0           987"
      ]
     },
     "execution_count": 345,
     "metadata": {},
     "output_type": "execute_result"
    }
   ],
   "source": [
    "validate[['VTD_Key','EL12G_PR_D_x','EL12G_PR_D_y']].head(10)"
   ]
  },
  {
   "cell_type": "markdown",
   "metadata": {},
   "source": [
    "#Election Data Join Looks Good"
   ]
  },
  {
   "cell_type": "markdown",
   "metadata": {},
   "source": [
    "**Check 16 election data**"
   ]
  },
  {
   "cell_type": "code",
   "execution_count": 346,
   "metadata": {},
   "outputs": [
    {
     "data": {
      "text/html": [
       "<div>\n",
       "<style scoped>\n",
       "    .dataframe tbody tr th:only-of-type {\n",
       "        vertical-align: middle;\n",
       "    }\n",
       "\n",
       "    .dataframe tbody tr th {\n",
       "        vertical-align: top;\n",
       "    }\n",
       "\n",
       "    .dataframe thead th {\n",
       "        text-align: right;\n",
       "    }\n",
       "</style>\n",
       "<table border=\"1\" class=\"dataframe\">\n",
       "  <thead>\n",
       "    <tr style=\"text-align: right;\">\n",
       "      <th></th>\n",
       "      <th>VTD</th>\n",
       "      <th>EL16G_PR_R_x</th>\n",
       "      <th>EL16G_PR_R_y</th>\n",
       "    </tr>\n",
       "  </thead>\n",
       "  <tbody>\n",
       "    <tr>\n",
       "      <th>0</th>\n",
       "      <td>3700101</td>\n",
       "      <td>1865.0</td>\n",
       "      <td>1865</td>\n",
       "    </tr>\n",
       "    <tr>\n",
       "      <th>1</th>\n",
       "      <td>3700102</td>\n",
       "      <td>2004.0</td>\n",
       "      <td>2004</td>\n",
       "    </tr>\n",
       "    <tr>\n",
       "      <th>2</th>\n",
       "      <td>37001035</td>\n",
       "      <td>NaN</td>\n",
       "      <td>1485</td>\n",
       "    </tr>\n",
       "    <tr>\n",
       "      <th>3</th>\n",
       "      <td>3700103C</td>\n",
       "      <td>1059.0</td>\n",
       "      <td>1059</td>\n",
       "    </tr>\n",
       "    <tr>\n",
       "      <th>4</th>\n",
       "      <td>3700103N</td>\n",
       "      <td>1160.0</td>\n",
       "      <td>1374</td>\n",
       "    </tr>\n",
       "    <tr>\n",
       "      <th>5</th>\n",
       "      <td>3700103S</td>\n",
       "      <td>2045.0</td>\n",
       "      <td>2045</td>\n",
       "    </tr>\n",
       "    <tr>\n",
       "      <th>6</th>\n",
       "      <td>3700103W</td>\n",
       "      <td>1201.0</td>\n",
       "      <td>1201</td>\n",
       "    </tr>\n",
       "    <tr>\n",
       "      <th>7</th>\n",
       "      <td>3700104</td>\n",
       "      <td>2043.0</td>\n",
       "      <td>2043</td>\n",
       "    </tr>\n",
       "    <tr>\n",
       "      <th>8</th>\n",
       "      <td>3700105</td>\n",
       "      <td>1448.0</td>\n",
       "      <td>1448</td>\n",
       "    </tr>\n",
       "    <tr>\n",
       "      <th>9</th>\n",
       "      <td>37001063</td>\n",
       "      <td>NaN</td>\n",
       "      <td>528</td>\n",
       "    </tr>\n",
       "  </tbody>\n",
       "</table>\n",
       "</div>"
      ],
      "text/plain": [
       "        VTD  EL16G_PR_R_x  EL16G_PR_R_y\n",
       "0   3700101        1865.0          1865\n",
       "1   3700102        2004.0          2004\n",
       "2  37001035           NaN          1485\n",
       "3  3700103C        1059.0          1059\n",
       "4  3700103N        1160.0          1374\n",
       "5  3700103S        2045.0          2045\n",
       "6  3700103W        1201.0          1201\n",
       "7   3700104        2043.0          2043\n",
       "8   3700105        1448.0          1448\n",
       "9  37001063           NaN           528"
      ]
     },
     "execution_count": 346,
     "metadata": {},
     "output_type": "execute_result"
    }
   ],
   "source": [
    "validate[['VTD','EL16G_PR_R_x','EL16G_PR_R_y']].head(10)"
   ]
  },
  {
   "cell_type": "code",
   "execution_count": 347,
   "metadata": {},
   "outputs": [
    {
     "data": {
      "text/html": [
       "<div>\n",
       "<style scoped>\n",
       "    .dataframe tbody tr th:only-of-type {\n",
       "        vertical-align: middle;\n",
       "    }\n",
       "\n",
       "    .dataframe tbody tr th {\n",
       "        vertical-align: top;\n",
       "    }\n",
       "\n",
       "    .dataframe thead th {\n",
       "        text-align: right;\n",
       "    }\n",
       "</style>\n",
       "<table border=\"1\" class=\"dataframe\">\n",
       "  <thead>\n",
       "    <tr style=\"text-align: right;\">\n",
       "      <th></th>\n",
       "      <th>VTD</th>\n",
       "      <th>EL16G_US_2_x</th>\n",
       "      <th>EL16G_US_2_y</th>\n",
       "    </tr>\n",
       "  </thead>\n",
       "  <tbody>\n",
       "    <tr>\n",
       "      <th>0</th>\n",
       "      <td>3700101</td>\n",
       "      <td>89.0</td>\n",
       "      <td>89</td>\n",
       "    </tr>\n",
       "    <tr>\n",
       "      <th>1</th>\n",
       "      <td>3700102</td>\n",
       "      <td>79.0</td>\n",
       "      <td>79</td>\n",
       "    </tr>\n",
       "    <tr>\n",
       "      <th>2</th>\n",
       "      <td>37001035</td>\n",
       "      <td>NaN</td>\n",
       "      <td>96</td>\n",
       "    </tr>\n",
       "    <tr>\n",
       "      <th>3</th>\n",
       "      <td>3700103C</td>\n",
       "      <td>57.0</td>\n",
       "      <td>57</td>\n",
       "    </tr>\n",
       "    <tr>\n",
       "      <th>4</th>\n",
       "      <td>3700103N</td>\n",
       "      <td>81.0</td>\n",
       "      <td>86</td>\n",
       "    </tr>\n",
       "    <tr>\n",
       "      <th>5</th>\n",
       "      <td>3700103S</td>\n",
       "      <td>115.0</td>\n",
       "      <td>115</td>\n",
       "    </tr>\n",
       "    <tr>\n",
       "      <th>6</th>\n",
       "      <td>3700103W</td>\n",
       "      <td>72.0</td>\n",
       "      <td>72</td>\n",
       "    </tr>\n",
       "    <tr>\n",
       "      <th>7</th>\n",
       "      <td>3700104</td>\n",
       "      <td>88.0</td>\n",
       "      <td>88</td>\n",
       "    </tr>\n",
       "    <tr>\n",
       "      <th>8</th>\n",
       "      <td>3700105</td>\n",
       "      <td>72.0</td>\n",
       "      <td>72</td>\n",
       "    </tr>\n",
       "    <tr>\n",
       "      <th>9</th>\n",
       "      <td>37001063</td>\n",
       "      <td>NaN</td>\n",
       "      <td>57</td>\n",
       "    </tr>\n",
       "  </tbody>\n",
       "</table>\n",
       "</div>"
      ],
      "text/plain": [
       "        VTD  EL16G_US_2_x  EL16G_US_2_y\n",
       "0   3700101          89.0            89\n",
       "1   3700102          79.0            79\n",
       "2  37001035           NaN            96\n",
       "3  3700103C          57.0            57\n",
       "4  3700103N          81.0            86\n",
       "5  3700103S         115.0           115\n",
       "6  3700103W          72.0            72\n",
       "7   3700104          88.0            88\n",
       "8   3700105          72.0            72\n",
       "9  37001063           NaN            57"
      ]
     },
     "execution_count": 347,
     "metadata": {},
     "output_type": "execute_result"
    }
   ],
   "source": [
    "validate[['VTD','EL16G_US_2_x','EL16G_US_2_y']].head(10)"
   ]
  },
  {
   "cell_type": "markdown",
   "metadata": {},
   "source": [
    "Getting sum of election results by party from MGGG file"
   ]
  },
  {
   "cell_type": "code",
   "execution_count": 348,
   "metadata": {},
   "outputs": [
    {
     "name": "stdout",
     "output_type": "stream",
     "text": [
      "2359749\n"
     ]
    }
   ],
   "source": [
    "#total votes for presidential republican party based on MGGG file\n",
    "total_r=final_mggg['EL16G_PR_R'].sum()\n",
    "print(total_r)"
   ]
  },
  {
   "cell_type": "code",
   "execution_count": 349,
   "metadata": {},
   "outputs": [
    {
     "name": "stdout",
     "output_type": "stream",
     "text": [
      "2180316\n"
     ]
    }
   ],
   "source": [
    "total_d=final_mggg['EL16G_PR_D'].sum()\n",
    "print(total_d)"
   ]
  },
  {
   "cell_type": "code",
   "execution_count": 350,
   "metadata": {},
   "outputs": [
    {
     "name": "stdout",
     "output_type": "stream",
     "text": [
      "129929\n"
     ]
    }
   ],
   "source": [
    "total_l=final_mggg['EL16G_PR_L'].sum()\n",
    "print(total_l)"
   ]
  },
  {
   "cell_type": "markdown",
   "metadata": {},
   "source": [
    "Getting sum of election results by party for election data as obtained from state board of elections"
   ]
  },
  {
   "cell_type": "code",
   "execution_count": 351,
   "metadata": {},
   "outputs": [
    {
     "name": "stdout",
     "output_type": "stream",
     "text": [
      "2362631.0\n"
     ]
    }
   ],
   "source": [
    "\n",
    "total_r_p=election_data['EL16G_PR_R'].sum()\n",
    "print(total_r_p)"
   ]
  },
  {
   "cell_type": "code",
   "execution_count": 352,
   "metadata": {},
   "outputs": [
    {
     "name": "stdout",
     "output_type": "stream",
     "text": [
      "2189316.0\n"
     ]
    }
   ],
   "source": [
    "\n",
    "total_d_p=election_data['EL16G_PR_D'].sum()\n",
    "print(total_d_p)"
   ]
  },
  {
   "cell_type": "code",
   "execution_count": 359,
   "metadata": {},
   "outputs": [
    {
     "name": "stdout",
     "output_type": "stream",
     "text": [
      "130126.0\n"
     ]
    }
   ],
   "source": [
    "total_l_p=election_data['EL16G_PR_L'].sum()\n",
    "print(total_l_p)"
   ]
  },
  {
   "cell_type": "markdown",
   "metadata": {},
   "source": [
    "Total Election Votes from 2016 from MGGG file does not match up with the data available from the state board of elections (validated on the website and from the State Board of Election datafil)"
   ]
  },
  {
   "cell_type": "markdown",
   "metadata": {},
   "source": [
    "**Validate Enacted Plans**"
   ]
  },
  {
   "cell_type": "code",
   "execution_count": 354,
   "metadata": {},
   "outputs": [
    {
     "data": {
      "text/plain": [
       "1.0"
      ]
     },
     "execution_count": 354,
     "metadata": {},
     "output_type": "execute_result"
    }
   ],
   "source": [
    "validate['newplan']=validate.newplan_x-validate.newplan_y\n",
    "validate[validate.newplan.abs()<10].shape[0]/validate.shape[0]"
   ]
  },
  {
   "cell_type": "code",
   "execution_count": 355,
   "metadata": {},
   "outputs": [
    {
     "data": {
      "text/plain": [
       "0.8763001485884101"
      ]
     },
     "execution_count": 355,
     "metadata": {},
     "output_type": "execute_result"
    }
   ],
   "source": [
    "validate['judge']=validate.judge_x-validate.judge_y\n",
    "validate[validate.judge.abs()<10].shape[0]/validate.shape[0]"
   ]
  },
  {
   "cell_type": "code",
   "execution_count": 356,
   "metadata": {},
   "outputs": [
    {
     "data": {
      "text/plain": [
       "0.0"
      ]
     },
     "execution_count": 356,
     "metadata": {},
     "output_type": "execute_result"
    }
   ],
   "source": [
    "validate['oldplan']=validate.oldplan_x-validate.oldplan_y\n",
    "validate[validate.oldplan.abs()<10].shape[0]/validate.shape[0]"
   ]
  },
  {
   "cell_type": "code",
   "execution_count": 357,
   "metadata": {},
   "outputs": [
    {
     "data": {
      "text/html": [
       "<div>\n",
       "<style scoped>\n",
       "    .dataframe tbody tr th:only-of-type {\n",
       "        vertical-align: middle;\n",
       "    }\n",
       "\n",
       "    .dataframe tbody tr th {\n",
       "        vertical-align: top;\n",
       "    }\n",
       "\n",
       "    .dataframe thead th {\n",
       "        text-align: right;\n",
       "    }\n",
       "</style>\n",
       "<table border=\"1\" class=\"dataframe\">\n",
       "  <thead>\n",
       "    <tr style=\"text-align: right;\">\n",
       "      <th></th>\n",
       "      <th>oldplan_x</th>\n",
       "      <th>oldplan_y</th>\n",
       "    </tr>\n",
       "  </thead>\n",
       "  <tbody>\n",
       "    <tr>\n",
       "      <th>0</th>\n",
       "      <td>6.0</td>\n",
       "      <td>296.0</td>\n",
       "    </tr>\n",
       "    <tr>\n",
       "      <th>1</th>\n",
       "      <td>10.0</td>\n",
       "      <td>297.0</td>\n",
       "    </tr>\n",
       "    <tr>\n",
       "      <th>2</th>\n",
       "      <td>10.0</td>\n",
       "      <td>297.0</td>\n",
       "    </tr>\n",
       "    <tr>\n",
       "      <th>3</th>\n",
       "      <td>10.0</td>\n",
       "      <td>297.0</td>\n",
       "    </tr>\n",
       "    <tr>\n",
       "      <th>4</th>\n",
       "      <td>10.0</td>\n",
       "      <td>297.0</td>\n",
       "    </tr>\n",
       "    <tr>\n",
       "      <th>5</th>\n",
       "      <td>10.0</td>\n",
       "      <td>297.0</td>\n",
       "    </tr>\n",
       "    <tr>\n",
       "      <th>6</th>\n",
       "      <td>10.0</td>\n",
       "      <td>297.0</td>\n",
       "    </tr>\n",
       "    <tr>\n",
       "      <th>7</th>\n",
       "      <td>10.0</td>\n",
       "      <td>297.0</td>\n",
       "    </tr>\n",
       "    <tr>\n",
       "      <th>8</th>\n",
       "      <td>10.0</td>\n",
       "      <td>297.0</td>\n",
       "    </tr>\n",
       "    <tr>\n",
       "      <th>9</th>\n",
       "      <td>8.0</td>\n",
       "      <td>300.0</td>\n",
       "    </tr>\n",
       "  </tbody>\n",
       "</table>\n",
       "</div>"
      ],
      "text/plain": [
       "   oldplan_x  oldplan_y\n",
       "0        6.0      296.0\n",
       "1       10.0      297.0\n",
       "2       10.0      297.0\n",
       "3       10.0      297.0\n",
       "4       10.0      297.0\n",
       "5       10.0      297.0\n",
       "6       10.0      297.0\n",
       "7       10.0      297.0\n",
       "8       10.0      297.0\n",
       "9        8.0      300.0"
      ]
     },
     "execution_count": 357,
     "metadata": {},
     "output_type": "execute_result"
    }
   ],
   "source": [
    "validate[['oldplan_x','oldplan_y']].head(10)"
   ]
  },
  {
   "cell_type": "code",
   "execution_count": 358,
   "metadata": {},
   "outputs": [
    {
     "data": {
      "text/plain": [
       "array([296., 297., 300., 301., 305., 303., 298., 294., 295., 299., 306.,\n",
       "       302., 304.])"
      ]
     },
     "execution_count": 358,
     "metadata": {},
     "output_type": "execute_result"
    }
   ],
   "source": [
    "validate.oldplan_y.unique()"
   ]
  },
  {
   "cell_type": "markdown",
   "metadata": {},
   "source": [
    "MGGG's dataset was not reseted, there are 13 congressional districts here"
   ]
  },
  {
   "cell_type": "code",
   "execution_count": null,
   "metadata": {},
   "outputs": [],
   "source": []
  }
 ],
 "metadata": {
  "kernelspec": {
   "display_name": "Python 3",
   "language": "python",
   "name": "python3"
  },
  "language_info": {
   "codemirror_mode": {
    "name": "ipython",
    "version": 3
   },
   "file_extension": ".py",
   "mimetype": "text/x-python",
   "name": "python",
   "nbconvert_exporter": "python",
   "pygments_lexer": "ipython3",
   "version": "3.8.3"
  }
 },
 "nbformat": 4,
 "nbformat_minor": 4
}
