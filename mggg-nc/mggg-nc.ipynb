{
 "cells": [
  {
   "cell_type": "code",
   "execution_count": 2,
   "metadata": {},
   "outputs": [],
   "source": [
    "import maup # mggg's library for proration, see documentation here: https://github.com/mggg/maup\n",
    "import pandas as pd # standard python data library\n",
    "import geopandas as gp # the geo-version of pandas\n",
    "import numpy as np \n",
    "from statistics import mean, median\n",
    "from pandas import read_csv"
   ]
  },
  {
   "cell_type": "markdown",
   "metadata": {},
   "source": [
    "**Load datasets**"
   ]
  },
  {
   "cell_type": "code",
   "execution_count": 3,
   "metadata": {},
   "outputs": [],
   "source": [
    "#Load VTD shapefile\n",
    "#NOTE: This has all the relevant data from the MGGG file except for '12 Presidential & '16 Election results, demographic data\n",
    "\n",
    "vtds=gp.read_file(\"./raw-from-files/R2016_Assignment_Layers.gdb\")\n",
    "\n",
    "#Load Block-VTD Key File to Aggregate Demographic Data to the VTD Level\n",
    "\n",
    "block_keys=pd.read_csv(\"./raw-from-files/Block_Level_GeoKeys.tab\",sep=\"\\t\",engine='python')\n",
    "\n",
    "#MGGG Assigns districts from 2011, 2016 enacted plans\n",
    "#MGGG also lists a judge plan, but that file was not available and not neccessary to validate (see report) \n",
    "\n",
    "newplan= gp.read_file('./raw-from-files/2016_shp/2016_Contingent_Congressional_Plan_Corrected.shp')\n",
    "\n",
    "oldplan=gp.read_file('./raw-from-files/2011_shp/Rucho_Lewis_Congress_3.shp')\n",
    "\n",
    "#MGGG's File (Loading now to perform a quick check that the vtd shapefile is the correct one)\n",
    "\n",
    "final_mggg=gp.read_file('./raw-from-files/NC_VTD/NC_VTD.shp')\n",
    "\n",
    "#2012 Election Data \n",
    "election_data_2012_sort=pd.read_csv(\"./raw-from-files/results_sort_20121106.txt\",engine='python')\n",
    "\n",
    "#2016 Election Data \n",
    "#Column names are needed for the file to load\n",
    "col_names = [\"col1\", \"col2\", \"col3\", \"col4\", \"col5\", \"col6\"]\n",
    "election_data_2016_sort=pd.read_csv(\"./raw-from-files/results_sort_20161108.txt\",names=col_names,error_bad_lines=False,sep='\\t',engine='python')"
   ]
  },
  {
   "cell_type": "markdown",
   "metadata": {},
   "source": [
    "**Check to Make Sure VTD Shapefile is the Right One**"
   ]
  },
  {
   "cell_type": "code",
   "execution_count": 4,
   "metadata": {},
   "outputs": [
    {
     "name": "stdout",
     "output_type": "stream",
     "text": [
      "5.959530413906318e-12\n",
      "[ True]\n"
     ]
    }
   ],
   "source": [
    "final_mggg[\"geometry\"]=final_mggg.buffer(0)\n",
    "vtds[\"geometry\"]=vtds.buffer(0)\n",
    "proj = vtds.crs\n",
    "final_mggg = final_mggg.to_crs(proj)\n",
    "file = vtds.difference(final_mggg)\n",
    "\n",
    "#Difference as a percentage is very very close to 0\n",
    "print(sum(file.area)/sum(vtds.area))\n",
    "\n",
    "#To 6 decimal places, the two files are equal \n",
    "print(final_mggg.geom_almost_equals(vtds,decimal=6).unique())"
   ]
  },
  {
   "cell_type": "markdown",
   "metadata": {},
   "source": [
    "**Take a Look at VTD File as well as MGGG File to see what is present / missing**"
   ]
  },
  {
   "cell_type": "code",
   "execution_count": 5,
   "metadata": {},
   "outputs": [
    {
     "name": "stdout",
     "output_type": "stream",
     "text": [
      "Index(['ALAND10', 'AWATER10', 'VTD', 'County', 'VTD_Key', 'VTD_Code',\n",
      "       'VTD_Name', 'PL10AA_TOT', 'PL10VA_TOT', 'EL08G_AG_D', 'EL08G_AG_R',\n",
      "       'EL08G_AG_TOT', 'EL08G_AD_D', 'EL08G_AD_R', 'EL08G_AD_TOT',\n",
      "       'EL08G_CA_D', 'EL08G_CA_R', 'EL08G_CA_TOT', 'EL08G_CI_D', 'EL08G_CI_R',\n",
      "       'EL08G_CI_L', 'EL08G_CI_W', 'EL08G_CI_TOT', 'EL08G_CL_D', 'EL08G_CL_R',\n",
      "       'EL08G_CL_TOT', 'EL08G_GV_D', 'EL08G_GV_R', 'EL08G_GV_L',\n",
      "       'EL08G_GV_TOT', 'EL08G_LG_D', 'EL08G_LG_R', 'EL08G_LG_L',\n",
      "       'EL08G_LG_TOT', 'EL08G_SPI_D', 'EL08G_SPI_R', 'EL08G_SPI_TOT',\n",
      "       'EL08G_USS_D', 'EL08G_USS_R', 'EL08G_USS_L', 'EL08G_USS_W',\n",
      "       'EL08G_USS_TOT', 'EL10G_USS_D', 'EL10G_USS_R', 'EL10G_USS_L',\n",
      "       'EL10G_USS_W', 'EL10G_USS_TOT', 'EL12G_GV_D', 'EL12G_GV_R',\n",
      "       'EL12G_GV_L', 'EL12G_GV_W1', 'EL12G_GV_W2', 'EL12G_GV_TOT',\n",
      "       'EL12G_LG_D', 'EL12G_LG_R', 'EL12G_LG_TOT', 'EL12G_AD_D', 'EL12G_AD_R',\n",
      "       'EL12G_AD_TOT', 'EL12G_CA_D', 'EL12G_CA_R', 'EL12G_CA_TOT',\n",
      "       'EL12G_CI_D', 'EL12G_CI_R', 'EL12G_CI_TOT', 'EL12G_CL_D', 'EL12G_CL_R',\n",
      "       'EL12G_CL_TOT', 'EL12G_SS_D', 'EL12G_SS_R', 'EL12G_SS_TOT',\n",
      "       'EL12G_SPI_D', 'EL12G_SPI_R', 'EL12G_SPI_TOT', 'EL12G_TR_D',\n",
      "       'EL12G_TR_R', 'EL12G_TR_TOT', 'EL14G_USS_R', 'EL14G_USS_D',\n",
      "       'EL14G_USS_L', 'EL14G_USS_WI', 'EL14G_USS_TOT', 'Shape_Length',\n",
      "       'Shape_Area', 'geometry'],\n",
      "      dtype='object')\n",
      "Index(['ALAND10', 'AWATER10', 'VTD', 'County', 'VTD_Key', 'VTD_Name',\n",
      "       'PL10AA_TOT', 'PL10VA_TOT', 'EL08G_GV_D', 'EL08G_GV_R', 'EL08G_GV_L',\n",
      "       'EL08G_GV_T', 'EL08G_USS_', 'EL08G_US_1', 'EL08G_US_2', 'EL08G_US_3',\n",
      "       'EL08G_US_4', 'EL10G_USS_', 'EL10G_US_1', 'EL10G_US_2', 'EL10G_US_3',\n",
      "       'EL10G_US_4', 'EL12G_GV_D', 'EL12G_GV_R', 'EL12G_GV_L', 'EL12G_GV_W',\n",
      "       'EL12G_GV_1', 'EL12G_GV_T', 'EL14G_USS_', 'EL14G_US_1', 'EL14G_US_2',\n",
      "       'EL14G_US_3', 'EL14G_US_4', 'Shape_Leng', 'Shape_Area', 'EL12G_PR_D',\n",
      "       'EL12G_PR_R', 'EL12G_PR_L', 'EL12G_PR_W', 'EL12G_PR_1', 'EL12G_PR_T',\n",
      "       'EL16G_PR_R', 'EL16G_PR_D', 'EL16G_PR_L', 'EL16G_PR_W', 'EL16G_PR_T',\n",
      "       'EL16G_USS_', 'EL16G_US_1', 'EL16G_US_2', 'EL16G_US_3', 'EL16G_GV_D',\n",
      "       'EL16G_GV_R', 'EL16G_GV_L', 'EL16G_GV_T', 'BPOP', 'nBPOP', 'judge',\n",
      "       'newplan', 'oldplan', 'TOTPOP', 'NH_WHITE', 'NH_BLACK', 'NH_AMIN',\n",
      "       'NH_ASIAN', 'NH_NHPI', 'NH_OTHER', 'NH_2MORE', 'HISP', 'H_WHITE',\n",
      "       'H_BLACK', 'H_AMIN', 'H_ASIAN', 'H_NHPI', 'H_OTHER', 'H_2MORE', 'VAP',\n",
      "       'HVAP', 'WVAP', 'BVAP', 'AMINVAP', 'ASIANVAP', 'NHPIVAP', 'OTHERVAP',\n",
      "       '2MOREVAP', 'geometry'],\n",
      "      dtype='object')\n"
     ]
    }
   ],
   "source": [
    "print(vtds.columns)\n",
    "print(final_mggg.columns)"
   ]
  },
  {
   "cell_type": "markdown",
   "metadata": {},
   "source": [
    "**Rename and Clean Columns in VTD File to match MGGG**"
   ]
  },
  {
   "cell_type": "code",
   "execution_count": 6,
   "metadata": {},
   "outputs": [],
   "source": [
    "#Renaming the 2008 Election Data\n",
    "vtds = vtds.rename(columns={\"EL08G_GV_TOT\": \"EL08G_GV_T\",\"EL08G_USS_D\": \"EL08G_USS_\",\"EL08G_USS_R\": \"EL08G_US_1\",\"EL08G_USS_L\": \"EL08G_US_2\",\"EL08G_USS_W\": \"EL08G_US_3\",\"EL08G_USS_TOT\": \"EL08G_US_4\"})\n",
    "\n",
    "#Renaming the 2010 Election Data\n",
    "vtds = vtds.rename(columns={\"EL10G_USS_D\": \"EL10G_USS_\",\"EL10G_USS_R\": \"EL10G_US_1\",\"EL10G_USS_L\": \"EL10G_US_2\",\"EL10G_USS_W\": \"EL10G_US_3\",\"EL10G_USS_TOT\": \"EL10G_US_4\"})\n",
    "\n",
    "#Renaming the 2012 Election Data Columns to match MGGG-NC\n",
    "vtds = vtds.rename(columns={\"EL12G_GV_W1\": \"EL12G_GV_W\",\"EL12G_GV_W2\": \"EL12G_GV_1\",\"EL12G_GV_TOT\": \"EL12G_GV_T\"})\n",
    "\n",
    "#Renaming the 2014 Election Data\n",
    "vtds = vtds.rename(columns={\"EL14G_USS_R\": \"EL14G_USS_\",\"EL14G_USS_D\": \"EL14G_US_1\",\"EL14G_USS_L\": \"EL14G_US_2\",\"EL14G_USS_WI\": \"EL14G_US_3\",\"EL14G_USS_TOT\": \"EL14G_US_4\"})\n",
    "\n",
    "#Rename shapefile data\n",
    "vtds = vtds.rename(columns={\"Shape_Length\":\"Shape_Leng\"})"
   ]
  },
  {
   "cell_type": "code",
   "execution_count": 7,
   "metadata": {},
   "outputs": [
    {
     "name": "stdout",
     "output_type": "stream",
     "text": [
      "Index(['ALAND10', 'AWATER10', 'VTD', 'County', 'VTD_Key', 'VTD_Code',\n",
      "       'VTD_Name', 'PL10AA_TOT', 'PL10VA_TOT', 'EL08G_AG_D', 'EL08G_AG_R',\n",
      "       'EL08G_AG_TOT', 'EL08G_AD_D', 'EL08G_AD_R', 'EL08G_AD_TOT',\n",
      "       'EL08G_CA_D', 'EL08G_CA_R', 'EL08G_CA_TOT', 'EL08G_CI_D', 'EL08G_CI_R',\n",
      "       'EL08G_CI_L', 'EL08G_CI_W', 'EL08G_CI_TOT', 'EL08G_CL_D', 'EL08G_CL_R',\n",
      "       'EL08G_CL_TOT', 'EL08G_GV_D', 'EL08G_GV_R', 'EL08G_GV_L', 'EL08G_GV_T',\n",
      "       'EL08G_LG_D', 'EL08G_LG_R', 'EL08G_LG_L', 'EL08G_LG_TOT', 'EL08G_SPI_D',\n",
      "       'EL08G_SPI_R', 'EL08G_SPI_TOT', 'EL08G_USS_', 'EL08G_US_1',\n",
      "       'EL08G_US_2', 'EL08G_US_3', 'EL08G_US_4', 'EL10G_USS_', 'EL10G_US_1',\n",
      "       'EL10G_US_2', 'EL10G_US_3', 'EL10G_US_4', 'EL12G_GV_D', 'EL12G_GV_R',\n",
      "       'EL12G_GV_L', 'EL12G_GV_W', 'EL12G_GV_1', 'EL12G_GV_T', 'EL12G_LG_D',\n",
      "       'EL12G_LG_R', 'EL12G_LG_TOT', 'EL12G_AD_D', 'EL12G_AD_R',\n",
      "       'EL12G_AD_TOT', 'EL12G_CA_D', 'EL12G_CA_R', 'EL12G_CA_TOT',\n",
      "       'EL12G_CI_D', 'EL12G_CI_R', 'EL12G_CI_TOT', 'EL12G_CL_D', 'EL12G_CL_R',\n",
      "       'EL12G_CL_TOT', 'EL12G_SS_D', 'EL12G_SS_R', 'EL12G_SS_TOT',\n",
      "       'EL12G_SPI_D', 'EL12G_SPI_R', 'EL12G_SPI_TOT', 'EL12G_TR_D',\n",
      "       'EL12G_TR_R', 'EL12G_TR_TOT', 'EL14G_USS_', 'EL14G_US_1', 'EL14G_US_2',\n",
      "       'EL14G_US_3', 'EL14G_US_4', 'Shape_Leng', 'Shape_Area', 'geometry'],\n",
      "      dtype='object')\n"
     ]
    }
   ],
   "source": [
    "print(vtds.columns)"
   ]
  },
  {
   "cell_type": "code",
   "execution_count": 8,
   "metadata": {},
   "outputs": [],
   "source": [
    "vtds = vtds[['ALAND10', 'AWATER10', 'VTD', 'County', 'VTD_Key', 'VTD_Name',\n",
    "       'PL10AA_TOT', 'PL10VA_TOT', 'EL08G_GV_D', 'EL08G_GV_R', 'EL08G_GV_L',\n",
    "       'EL08G_GV_T', 'EL08G_USS_', 'EL08G_US_1', 'EL08G_US_2', 'EL08G_US_3',\n",
    "       'EL08G_US_4', 'EL10G_USS_', 'EL10G_US_1', 'EL10G_US_2', 'EL10G_US_3',\n",
    "       'EL10G_US_4', 'EL12G_GV_D', 'EL12G_GV_R', 'EL12G_GV_L', 'EL12G_GV_W',\n",
    "       'EL12G_GV_1', 'EL12G_GV_T', 'EL14G_USS_', 'EL14G_US_1', 'EL14G_US_2',\n",
    "       'EL14G_US_3', 'EL14G_US_4', 'Shape_Leng', 'Shape_Area','geometry']]"
   ]
  },
  {
   "cell_type": "markdown",
   "metadata": {},
   "source": [
    "Remaining work: Add in demographic data, district assignments from 2 plans and add '12 presidential and '16 results."
   ]
  },
  {
   "cell_type": "markdown",
   "metadata": {},
   "source": [
    "**Load Census API**"
   ]
  },
  {
   "cell_type": "markdown",
   "metadata": {},
   "source": [
    "Retrieve demographic data from Census API\n",
    "\n",
    "To see the full list of census variables, look here: https://api.census.gov/data/2010/dec/sf1/variables.html"
   ]
  },
  {
   "cell_type": "code",
   "execution_count": 9,
   "metadata": {},
   "outputs": [],
   "source": [
    "# Code chunk by Melisande Teng - VRDI 2019\n",
    "variables = [\n",
    "    # pop\n",
    "    \"P005001\",\n",
    "    \"P005003\",\n",
    "    \"P005004\",\n",
    "    \"P005005\",\n",
    "    \"P005006\",\n",
    "    \"P005007\",\n",
    "    \"P005008\",\n",
    "    \"P005009\",\n",
    "    \"P005010\",\n",
    "    \"P005011\",\n",
    "    \"P005012\",\n",
    "    \"P005013\",\n",
    "    \"P005014\",\n",
    "    \"P005015\",\n",
    "    \"P005016\",\n",
    "    \"P005017\",\n",
    "    # vap\n",
    "    \"P011001\",\n",
    "    \"P011002\",\n",
    "    \"P011005\",\n",
    "    \"P011006\",\n",
    "    \"P011007\",\n",
    "    \"P011008\",\n",
    "    \"P011009\",\n",
    "    \"P011010\",\n",
    "    \"P011011\",\n",
    "]\n",
    "\n",
    "keys = [\n",
    "    # pop\n",
    "    \"TOTPOP\",  # these follow from above, so TOTPOP = P005001\n",
    "    \"NH_WHITE\",\n",
    "    \"NH_BLACK\",\n",
    "    \"NH_AMIN\",\n",
    "    \"NH_ASIAN\",\n",
    "    \"NH_NHPI\",\n",
    "    \"NH_OTHER\",\n",
    "    \"NH_2MORE\",\n",
    "    \"HISP\",\n",
    "    \"H_WHITE\",\n",
    "    \"H_BLACK\",\n",
    "    \"H_AMIN\",\n",
    "    \"H_ASIAN\",\n",
    "    \"H_NHPI\",\n",
    "    \"H_OTHER\",\n",
    "    \"H_2MORE\",\n",
    "    # vap\n",
    "    \"VAP\",\n",
    "    \"HVAP\",\n",
    "    \"WVAP\",\n",
    "    \"BVAP\",\n",
    "    \"AMINVAP\",\n",
    "    \"ASIANVAP\",\n",
    "    \"NHPIVAP\",\n",
    "    \"OTHERVAP\",\n",
    "    \"2MOREVAP\",\n",
    "]\n",
    "\n",
    "import requests\n",
    "\n",
    "def counties(state_fips):\n",
    "    \"\"\"Inputs: state fips code\n",
    "    Process: Retrieves a list of counties in the given state from the Census API.  \n",
    "    Outputs: A list of county fips codes in the state. \"\"\"\n",
    "    resp = requests.get(\n",
    "        \"https://api.census.gov/data/2010/dec/sf1\"\n",
    "        \"?get=NAME&for=county:*&in=state:{}\".format(state_fips)\n",
    "    )\n",
    "    header, *rows = resp.json()\n",
    "    county_column_index = header.index(\"county\")\n",
    "    county_fips_codes = set(row[county_column_index] for row in rows)\n",
    "    return county_fips_codes\n",
    "\n",
    "\n",
    "def block_data_for_county(state_fips, county_fips, variables=variables, keys=keys):\n",
    "    \"\"\"Inputs: state fips code, county fips code, list of variables and corresponding keys. \n",
    "    Process: formats the query to call the Census API. \n",
    "    Outputs: data for the county in a pandas dataframe. \"\"\"\n",
    "    url = (\n",
    "        \"https://api.census.gov/data/2010/dec/sf1\"\n",
    "        + \"?get={},NAME&for=block:*\".format(\",\".join(variables))\n",
    "        + \"&in=state:{}&in=county:{}&in=tract:*\".format(state_fips, county_fips)\n",
    "    )\n",
    "    resp = requests.get(url)\n",
    "    header, *rows = resp.json()\n",
    "    variable_lookup = dict(zip(variables, keys))\n",
    "    columns = [variable_lookup.get(column_name, column_name) for column_name in header]\n",
    "    dtypes = {key: int for key in keys}\n",
    "    dtypes.update({key: str for key in [\"state\", \"county\", \"tract\", \"block\"]})\n",
    "    data = pd.DataFrame.from_records(rows, columns=columns).astype(dtypes)\n",
    "    data[\"geoid\"] = data[\"state\"] + data[\"county\"] + data[\"tract\"] + data[\"block\"]\n",
    "    return data\n",
    "\n",
    "\n",
    "def block_data_for_state(state_fips):\n",
    "    \"\"\"Input: state_fips\n",
    "    Process: Retrieve a list of county fips codes in the state. \n",
    "        The Census API only lets you query one county at a time, so you first need the full list. \n",
    "        Then call block_data_for_county() to retrieve the data at the county level. \n",
    "    Outputs: block-level data for the state fips for the list of variables defined above. \n",
    "    \"\"\"\n",
    "    from tqdm.auto import tqdm\n",
    "    county_fips_codes = counties(state_fips)\n",
    "    return pd.concat(\n",
    "        [\n",
    "            block_data_for_county(state_fips, county_fips)\n",
    "            for county_fips in tqdm(county_fips_codes)\n",
    "        ]\n",
    "    )"
   ]
  },
  {
   "cell_type": "code",
   "execution_count": 10,
   "metadata": {},
   "outputs": [
    {
     "data": {
      "application/vnd.jupyter.widget-view+json": {
       "model_id": "508197d2d2f44e5c8e3131051773f162",
       "version_major": 2,
       "version_minor": 0
      },
      "text/plain": [
       "HBox(children=(FloatProgress(value=0.0), HTML(value='')))"
      ]
     },
     "metadata": {},
     "output_type": "display_data"
    },
    {
     "name": "stdout",
     "output_type": "stream",
     "text": [
      "\n"
     ]
    }
   ],
   "source": [
    "#if running script for the first time, use this chunk\n",
    "nc = block_data_for_state('37')\n",
    "nc = nc.rename(columns={\"geoid\": \"GEOID10\"})\n",
    "nc.to_csv('nc_census_2010_blocks2.csv')"
   ]
  },
  {
   "cell_type": "markdown",
   "metadata": {},
   "source": [
    "Example of how you would write the census data to a csv and then re-load it so you don't have to query it every time you re-run this script\n"
   ]
  },
  {
   "cell_type": "code",
   "execution_count": null,
   "metadata": {},
   "outputs": [],
   "source": [
    "#nc = pd.read_csv('./nc_census_2010_blocks2.csv')\n",
    "#nc = nc.astype({\"GEOID10\": str})"
   ]
  },
  {
   "cell_type": "markdown",
   "metadata": {},
   "source": [
    "Take a look at the census data\n",
    "\n",
    "Variables that aren't aren't added (BPOP and nBPOP) can be calculated from the data (Will see that this calculation is the same as the one the census performs)"
   ]
  },
  {
   "cell_type": "code",
   "execution_count": 11,
   "metadata": {},
   "outputs": [],
   "source": [
    "nc[\"BPOP\"]=nc[\"NH_BLACK\"]+nc[\"H_BLACK\"]\n",
    "nc[\"nBPOP\"]=nc[\"TOTPOP\"]-nc[\"NH_BLACK\"]-nc[\"H_BLACK\"]"
   ]
  },
  {
   "cell_type": "markdown",
   "metadata": {},
   "source": [
    "**Merge Demographic and Voting Population Data with Block_Keys**\n",
    "\n",
    "Using Block Keys because that was the method MGGG specified. "
   ]
  },
  {
   "cell_type": "code",
   "execution_count": 12,
   "metadata": {},
   "outputs": [
    {
     "name": "stdout",
     "output_type": "stream",
     "text": [
      "(288987, 17)\n",
      "(288987, 33)\n"
     ]
    }
   ],
   "source": [
    "#Number of rows match\n",
    "print(block_keys.shape)\n",
    "print(nc.shape)\n",
    "\n",
    "#Change GEOID10 to Block_Key as that is what we will merge on\n",
    "nc = nc.rename(columns={\"GEOID10\": \"Block_Key\"})\n"
   ]
  },
  {
   "cell_type": "markdown",
   "metadata": {},
   "source": [
    "Convert both \"Block_Key\" columns to integers so they can be joined"
   ]
  },
  {
   "cell_type": "code",
   "execution_count": 13,
   "metadata": {},
   "outputs": [],
   "source": [
    "nc[\"Block_Key\"]=nc[\"Block_Key\"].astype(int)\n",
    "block_keys[\"Block_Key\"]=block_keys[\"Block_Key\"].astype(int)"
   ]
  },
  {
   "cell_type": "code",
   "execution_count": 14,
   "metadata": {},
   "outputs": [],
   "source": [
    "block_joined=pd.merge(nc,block_keys,on='Block_Key',how='outer',indicator=True)"
   ]
  },
  {
   "cell_type": "code",
   "execution_count": 15,
   "metadata": {},
   "outputs": [
    {
     "name": "stdout",
     "output_type": "stream",
     "text": [
      "(288987, 50)\n"
     ]
    }
   ],
   "source": [
    "#Both files originally had 288,987 rows, new one has the same\n",
    "print(block_joined.shape)\n",
    "\n",
    "#Next step will be to use the VTD_Key value to pivot data to the VTD level to match MGGG"
   ]
  },
  {
   "cell_type": "markdown",
   "metadata": {},
   "source": [
    "**Pivot Block Level Census Data to VTD Level by VTD Key**"
   ]
  },
  {
   "cell_type": "code",
   "execution_count": 16,
   "metadata": {},
   "outputs": [],
   "source": [
    "census_vtd=pd.pivot_table(block_joined,index=\"VTD_Key\",aggfunc=sum)\n",
    "census_vtd.reset_index(inplace=True)"
   ]
  },
  {
   "cell_type": "markdown",
   "metadata": {},
   "source": [
    "**Check to make sure that VTD row number makes sense**"
   ]
  },
  {
   "cell_type": "code",
   "execution_count": 17,
   "metadata": {},
   "outputs": [
    {
     "name": "stdout",
     "output_type": "stream",
     "text": [
      "(2692, 40)\n",
      "(2692, 36)\n"
     ]
    }
   ],
   "source": [
    "#Both the VTD shapefile and the census data at the VTD level have 2,692 rows\n",
    "print(census_vtd.shape)\n",
    "print(vtds.shape)"
   ]
  },
  {
   "cell_type": "markdown",
   "metadata": {},
   "source": [
    "**Filter Census VTD File Columns**"
   ]
  },
  {
   "cell_type": "code",
   "execution_count": 18,
   "metadata": {},
   "outputs": [
    {
     "data": {
      "text/plain": [
       "Index(['VTD_Key', '2MOREVAP', 'AMINVAP', 'ASIANVAP', 'BG_Code', 'BG_Key',\n",
       "       'BPOP', 'BVAP', 'Block_Code', 'Block_Key', 'Cnty_Code', 'Cnty_Key',\n",
       "       'HISP', 'HVAP', 'H_2MORE', 'H_AMIN', 'H_ASIAN', 'H_BLACK', 'H_NHPI',\n",
       "       'H_OTHER', 'H_WHITE', 'NHPIVAP', 'NH_2MORE', 'NH_AMIN', 'NH_ASIAN',\n",
       "       'NH_BLACK', 'NH_NHPI', 'NH_OTHER', 'NH_WHITE', 'OTHERVAP', 'Place_Code',\n",
       "       'Place_Key', 'TOTPOP', 'Tract_Code', 'Tract_Key', 'Tract_Name', 'VAP',\n",
       "       'WVAP', 'ZCTA5', 'nBPOP'],\n",
       "      dtype='object')"
      ]
     },
     "execution_count": 18,
     "metadata": {},
     "output_type": "execute_result"
    }
   ],
   "source": [
    "census_vtd.columns"
   ]
  },
  {
   "cell_type": "code",
   "execution_count": 19,
   "metadata": {},
   "outputs": [],
   "source": [
    "column_List = ['VTD_Key','BPOP','nBPOP','TOTPOP', 'NH_WHITE', 'NH_BLACK', 'NH_AMIN','NH_ASIAN', 'NH_NHPI', 'NH_OTHER', 'NH_2MORE', 'HISP', 'H_WHITE','H_BLACK', 'H_AMIN', 'H_ASIAN', 'H_NHPI', 'H_OTHER', 'H_2MORE', 'VAP','HVAP', 'WVAP', 'BVAP', 'AMINVAP', 'ASIANVAP', 'NHPIVAP', 'OTHERVAP','2MOREVAP']\n",
    "census_vtd=census_vtd[column_List]"
   ]
  },
  {
   "cell_type": "markdown",
   "metadata": {},
   "source": [
    "**Merge Census VTD Data with the VTD Shapefile by \"VTD Key\"**"
   ]
  },
  {
   "cell_type": "code",
   "execution_count": 20,
   "metadata": {},
   "outputs": [],
   "source": [
    "vtds_joined = pd.merge(census_vtd,vtds,on='VTD_Key',how='outer',indicator=True)"
   ]
  },
  {
   "cell_type": "markdown",
   "metadata": {},
   "source": [
    "**Check to make sure that joined VTD row number makes sense**"
   ]
  },
  {
   "cell_type": "code",
   "execution_count": 21,
   "metadata": {},
   "outputs": [
    {
     "name": "stdout",
     "output_type": "stream",
     "text": [
      "(2692, 64)\n"
     ]
    }
   ],
   "source": [
    "#Joined file has the same number of rows as the two original files\n",
    "print(vtds_joined.shape)"
   ]
  },
  {
   "cell_type": "markdown",
   "metadata": {},
   "source": [
    "**Next Step: Tie VTDs to their District Assignment Across the 2 Plans**"
   ]
  },
  {
   "cell_type": "markdown",
   "metadata": {},
   "source": [
    "MGGG Assigns districts from 2011, 2016, and new judge enacted plan \n",
    "Taken from NCLEG Congressional Districts Shapefile\n",
    "\n",
    "\"newplan\" is the 2016 plan  \n",
    "\"oldplan\" is the 2011 plan  \n",
    "\"judge\" is the new judge plan - not being validated here, see report for explanation why"
   ]
  },
  {
   "cell_type": "markdown",
   "metadata": {},
   "source": [
    "**Set Shapefile Projections**"
   ]
  },
  {
   "cell_type": "code",
   "execution_count": 22,
   "metadata": {},
   "outputs": [],
   "source": [
    "vtds_joined = gp.GeoDataFrame(vtds_joined, geometry='geometry')\n",
    "vtds_joined[\"geometry\"]=vtds_joined.buffer(0)\n",
    "proj=vtds_joined.crs"
   ]
  },
  {
   "cell_type": "markdown",
   "metadata": {},
   "source": [
    "***2016 plan - \"newplan\"***"
   ]
  },
  {
   "cell_type": "code",
   "execution_count": 23,
   "metadata": {},
   "outputs": [],
   "source": [
    "import warnings; warnings.filterwarnings('ignore', 'GeoSeries.isna', UserWarning)\n",
    "#print(newplan)\n",
    "newplan=newplan.to_crs(proj)\n",
    "newplan[\"geometry\"] = newplan.buffer(0)\n",
    "assignments=maup.assign(vtds_joined,newplan)\n",
    "assignments=assignments+1\n",
    "#There are 13 Congressional Districts in North Carolina, but there are no 0 districts, \n",
    "#We have to add 1.0 to each districts because Python indexing starts at 0.\n",
    "vtds_joined[\"newplan\"]=assignments"
   ]
  },
  {
   "cell_type": "markdown",
   "metadata": {},
   "source": [
    "**2011 plan - \"oldplan\"**"
   ]
  },
  {
   "cell_type": "code",
   "execution_count": 24,
   "metadata": {},
   "outputs": [],
   "source": [
    "import warnings; warnings.filterwarnings('ignore', 'GeoSeries.isna', UserWarning)\n",
    "#print(oldplan)\n",
    "oldplan=oldplan.to_crs(proj)\n",
    "oldplan[\"geometry\"] = oldplan.buffer(0)\n",
    "assignments=maup.assign(vtds_joined,oldplan)\n",
    "assignments=assignments+1\n",
    "#There are 13 Congressional Districts in North Carolina, but there are no 0 districts, \n",
    "#We have to add 1.0 to each districts because Python indexing starts at 0.\n",
    "vtds_joined[\"oldplan\"]=assignments"
   ]
  },
  {
   "cell_type": "markdown",
   "metadata": {},
   "source": [
    "**'12 Presidential and '16 election replication**"
   ]
  },
  {
   "cell_type": "markdown",
   "metadata": {},
   "source": [
    "Note: Ultimately, we are able to replicate all of the '12 presidential data and most of the '16 election data"
   ]
  },
  {
   "cell_type": "code",
   "execution_count": 25,
   "metadata": {},
   "outputs": [],
   "source": [
    "#create dictionary of state + county fips\n",
    "\n",
    "my_county= {\n",
    "    'ALAMANCE':'37001', 'ALEXANDER':'37003','ALLEGHANY':'37005','ANSON':'37007','ASHE':'37009', 'AVERY':'37011', 'BEAUFORT':'37013', 'BERTIE':'37015', 'BLADEN':'37017',  'BRUNSWICK':'37019',\n",
    "    'BUNCOMBE':'37021','BURKE':'37023','CABARRUS':'37025','CALDWELL':'37027','CAMDEN':'37029','CARTERET':'37031','CASWELL':'37033','CATAWBA':'37035','CHATHAM':'37037','CHEROKEE':'37039','CHOWAN':'37041','CLAY':'37043','CLEVELAND':'37045',\n",
    "    'COLUMBUS':'37047','CRAVEN':'37049','CUMBERLAND':'37051','CURRITUCK':'37053','DARE':'37055','DAVIDSON':'37057','DAVIE':'37059','DUPLIN':'37061','DURHAM':'37063','EDGECOMBE':'37065',\n",
    "    'FORSYTH':'37067','FRANKLIN':'37069','GASTON':'37071','GATES':'37073','GRAHAM':'37075','GRANVILLE':'37077',\n",
    "    'GREENE':'37079','GUILFORD':'37081','HALIFAX':'37083','HARNETT':'37085','HAYWOOD':'37087','HENDERSON':'37089','HERTFORD':'37091','HOKE':'37093','HYDE':'37095',\n",
    "    'IREDELL':'37097','JACKSON':'37099','JOHNSTON':'37101','JONES':'37103','LEE':'37105','LENOIR':'37107','LINCOLN':'37109','MCDOWELL':'37111','MACON':'37113','MADISON':'37115',\n",
    "    'MARTIN':'37117','MECKLENBURG':'37119','MITCHELL':'37121','MONTGOMERY':'37123','MOORE':'37125','NASH':'37127','NEW HANOVER':'37129','NORTHAMPTON':'37131','ONSLOW':'37133','ORANGE':'37135','PAMLICO':'37137','PASQUOTANK':'37139','PENDER':'37141','PERQUIMANS':'37143','PERSON':'37145','PITT':'37147','POLK':'37149','RANDOLPH':'37151',\n",
    "    'RICHMOND':'37153','ROBESON':'37155','ROCKINGHAM':'37157','ROWAN':'37159','RUTHERFORD':'37161','SAMPSON':'37163','SCOTLAND':'37165','STANLY':'37167','STOKES':'37169','SURRY':'37171','SWAIN':'37173','TRANSYLVANIA':'37175','TYRRELL':'37177','UNION':'37179','VANCE':'37181','WAKE':'37183','WARREN':'37185','WASHINGTON':'37187','WATAUGA':'37189','WAYNE':'37191','WILKES':'37193','WILSON':'37195','YADKIN':'37197',  'YANCEY':'37199'\n",
    "}"
   ]
  },
  {
   "cell_type": "code",
   "execution_count": 27,
   "metadata": {},
   "outputs": [
    {
     "name": "stdout",
     "output_type": "stream",
     "text": [
      "Before removing countywide results, the precinct level results have a difference of 0\n",
      "After removing countywide results, the precinct level results have a difference of 0\n"
     ]
    }
   ],
   "source": [
    "\n",
    "#filtering the 2012 data to just the presidential race\n",
    "office_list_2012=[\"PRESIDENT AND VICE PRESIDENT OF THE UNITED STATES\"]\n",
    "election_data_2012_sort=election_data_2012_sort[election_data_2012_sort['contest'].isin(office_list_2012)]\n",
    "\n",
    "#As mentioned in the report, the NC VTD vote reporting removes countywide election results\n",
    "print(\"Before removing countywide results, the precinct level results have a difference of \" + str(abs(election_data_2012_sort['total votes'].sum()-final_mggg['EL12G_PR_T'].sum())))\n",
    "countywide_VTD = [\"ONE STOP\",\"ABSENTEE BY MAIL\",\"TRANSFER\",\"ACCUMULATED\",\"PROVISIONAL\",\"CURBSIDE\"]\n",
    "election_data_2012_sort = election_data_2012_sort[~election_data_2012_sort.vtd.isin(countywide_VTD)]\n",
    "print(\"After removing countywide results, the precinct level results have a difference of \" + str(abs(election_data_2012_sort['total votes'].sum()-final_mggg['EL12G_PR_T'].sum())))"
   ]
  },
  {
   "cell_type": "code",
   "execution_count": 28,
   "metadata": {},
   "outputs": [],
   "source": [
    "election_data_2012_sort['state_county_id']=election_data_2012_sort['county'].map(my_county)"
   ]
  },
  {
   "cell_type": "code",
   "execution_count": 31,
   "metadata": {},
   "outputs": [],
   "source": [
    "#Create a VTD Key column and pivot off of that value\n",
    "election_data_2012_sort['VTD_Key']=election_data_2012_sort['state_county_id']+election_data_2012_sort['vtd']\n",
    "pivoted_2012 = pd.pivot_table(election_data_2012_sort, values=['total votes'], index=[\"VTD_Key\"],columns=[\"choice\"])\n",
    "pivoted_2012.columns = pivoted_2012.columns.droplevel(0)\n"
   ]
  },
  {
   "cell_type": "code",
   "execution_count": 32,
   "metadata": {},
   "outputs": [],
   "source": [
    "pivoted_2012.head()\n",
    "pivoted_2012.columns = [\"EL12G_PR_L\",\"EL12G_PR_D\",\"EL12G_PR_R\",\"EL12G_PR_W\",\"EL12G_PR_1\"]\n",
    "pivoted_2012.index.names = [\"VTD_Key\"]\n",
    "pivoted_2012[\"EL12G_PR_T\"] = pivoted_2012[\"EL12G_PR_L\"]+pivoted_2012[\"EL12G_PR_D\"]+pivoted_2012[\"EL12G_PR_R\"]+pivoted_2012[\"EL12G_PR_W\"]+pivoted_2012[\"EL12G_PR_1\"]\n",
    "\n",
    "pivoted_2012.reset_index(drop=True)\n",
    "pivoted_2012.head()\n",
    "pivoted_2012 = pivoted_2012.reset_index()"
   ]
  },
  {
   "cell_type": "code",
   "execution_count": 34,
   "metadata": {},
   "outputs": [
    {
     "name": "stdout",
     "output_type": "stream",
     "text": [
      "    VTD_Key  EL12G_PR_L  EL12G_PR_D  EL12G_PR_R  EL12G_PR_W  EL12G_PR_1  \\\n",
      "0   3700101          16         488        1661           1           6   \n",
      "1   3700102          32         429        1936           0           4   \n",
      "2  37001035          19         832        1437           0           3   \n",
      "3  3700103C          19         526        1318           0           2   \n",
      "4  3700103N          25        1143        1618           0           6   \n",
      "\n",
      "   EL12G_PR_T  \n",
      "0        2172  \n",
      "1        2401  \n",
      "2        2291  \n",
      "3        1865  \n",
      "4        2792  \n"
     ]
    }
   ],
   "source": [
    "#Check to make sure it looks like how we want it\n",
    "print(pivoted_2012.head())"
   ]
  },
  {
   "cell_type": "code",
   "execution_count": 35,
   "metadata": {},
   "outputs": [
    {
     "name": "stdout",
     "output_type": "stream",
     "text": [
      "    VTD_Key  BPOP  nBPOP  TOTPOP  NH_WHITE  NH_BLACK  NH_AMIN  NH_ASIAN  \\\n",
      "0   3700101   309   4560    4869      4332       309       10        20   \n",
      "1   3700102   104   4387    4491      4250       103       19        12   \n",
      "2  37001035   514   5932    6446      5522       503       24        66   \n",
      "3  3700103C   207   2607    2814      2399       207        1        90   \n",
      "4  3700103N   426   5286    5712      4983       424        3       101   \n",
      "\n",
      "   NH_NHPI  NH_OTHER  ...  EL14G_USS_  EL14G_US_1  EL14G_US_2  EL14G_US_3  \\\n",
      "0        1         5  ...        1071         295          71           0   \n",
      "1        0         1  ...        1246         313          62           2   \n",
      "2        0        11  ...         920         434          43           3   \n",
      "3        0         5  ...         943         455          44           6   \n",
      "4        3         5  ...        1063         853          53           3   \n",
      "\n",
      "   EL14G_US_4    Shape_Leng    Shape_Area  \\\n",
      "0        1437  46279.877623  1.314280e+08   \n",
      "1        1623  39995.008798  7.914552e+07   \n",
      "2        1400  27070.560953  2.747178e+07   \n",
      "3        1448  16631.362176  5.213147e+06   \n",
      "4        1972  14540.013532  5.949266e+06   \n",
      "\n",
      "                                            geometry  newplan  oldplan  \n",
      "0  POLYGON ((570548.363 234938.323, 570543.494 23...        6        6  \n",
      "1  POLYGON ((571180.992 251515.721, 571170.229 25...        6       10  \n",
      "2  POLYGON ((566712.479 262135.111, 566711.218 26...        6       10  \n",
      "3  POLYGON ((566712.479 262135.111, 566789.904 26...        6       10  \n",
      "4  POLYGON ((562182.381 258784.804, 562153.578 25...        6       10  \n",
      "\n",
      "[5 rows x 65 columns]\n"
     ]
    }
   ],
   "source": [
    "vtds_joined = vtds_joined.drop([\"_merge\"],axis=1)\n",
    "print(vtds_joined.head())"
   ]
  },
  {
   "cell_type": "code",
   "execution_count": 36,
   "metadata": {},
   "outputs": [
    {
     "name": "stdout",
     "output_type": "stream",
     "text": [
      "    VTD_Key  EL12G_PR_L  EL12G_PR_D  EL12G_PR_R  EL12G_PR_W  EL12G_PR_1  \\\n",
      "0   3700101          16         488        1661           1           6   \n",
      "1   3700102          32         429        1936           0           4   \n",
      "2  37001035          19         832        1437           0           3   \n",
      "3  3700103C          19         526        1318           0           2   \n",
      "4  3700103N          25        1143        1618           0           6   \n",
      "\n",
      "   EL12G_PR_T  \n",
      "0        2172  \n",
      "1        2401  \n",
      "2        2291  \n",
      "3        1865  \n",
      "4        2792  \n"
     ]
    }
   ],
   "source": [
    "#From diving into the VTD names, we figured out these needed to be changed, the first is a typo and the rest are changing zeroes to match\n",
    "election_2012_VTD_changes = {\n",
    "    \"37061CYCK\":\"37061CYRK\",\n",
    "    \"3716501\":\"371651\",\n",
    "    \"3716502\":\"371652\",\n",
    "    \"3716503\":\"371653\",\n",
    "    \"3716504\":\"371654\",\n",
    "    \"3716505\":\"371655\",\n",
    "    \"3716506\":\"371656\",\n",
    "    \"3716507\":\"371657\",\n",
    "    \"3716508\":\"371658\",\n",
    "    \"3716509\":\"371659\",\n",
    "    \n",
    "    \"371771\":\"3717701\",\n",
    "    \"371772\":\"3717702\",\n",
    "    \"371773\":\"3717703\",\n",
    "    \n",
    "    \"37185001\":\"371851\",\n",
    "    \"37185002\":\"371852\",\n",
    "    \"37185003\":\"371853\",\n",
    "    \"37185004\":\"371854\",\n",
    "    \"37185005\":\"371855\",\n",
    "    \"37185006\":\"371856\",\n",
    "    \"37185007\":\"371857\",\n",
    "    \"37185008\":\"371858\",\n",
    "    \"37185009\":\"371859\",\n",
    "    \"37185010\":\"3718510\",\n",
    "    \"37185011\":\"3718511\",\n",
    "    \"37185012\":\"3718512\",\n",
    "    \"37185013\":\"3718513\",\n",
    "    \"37185014\":\"3718514\"\n",
    "}\n",
    "\n",
    "pivoted_2012['VTD_Key'] = pivoted_2012['VTD_Key'].map(election_2012_VTD_changes).fillna(pivoted_2012['VTD_Key'])\n",
    "print(pivoted_2012.head())"
   ]
  },
  {
   "cell_type": "code",
   "execution_count": 37,
   "metadata": {},
   "outputs": [
    {
     "name": "stdout",
     "output_type": "stream",
     "text": [
      "(2692, 7)\n",
      "(2692, 65)\n"
     ]
    }
   ],
   "source": [
    "#Check to make sure the number of rows makes sense\n",
    "print(pivoted_2012.shape)\n",
    "print(vtds_joined.shape)"
   ]
  },
  {
   "cell_type": "code",
   "execution_count": 38,
   "metadata": {},
   "outputs": [
    {
     "name": "stdout",
     "output_type": "stream",
     "text": [
      "(2692, 72)\n"
     ]
    }
   ],
   "source": [
    "#Join the '12 election results with the other VTD file and check new shape (should be 2692 if all match)\n",
    "vtds_joined = pd.merge(vtds_joined,pivoted_2012,on=['VTD_Key','VTD_Key'],how='outer',indicator=True)\n",
    "print(vtds_joined.shape)"
   ]
  },
  {
   "cell_type": "markdown",
   "metadata": {},
   "source": [
    "**2016 Data**"
   ]
  },
  {
   "cell_type": "code",
   "execution_count": 39,
   "metadata": {},
   "outputs": [],
   "source": [
    "#Clean up the data and rename the columns\n",
    "election_data_2016_sort = election_data_2016_sort.iloc[1:]\n",
    "election_data_2016 = election_data_2016_sort.reset_index(inplace=True)\n",
    "election_data_2016_sort.columns = [\"county_id\",\"county_desc\",\"precinct_id\",\"precinct_desc\",\"contest_name\",\"vote_for\",\"candidate\",\"votes\"]"
   ]
  },
  {
   "cell_type": "code",
   "execution_count": 40,
   "metadata": {},
   "outputs": [
    {
     "name": "stdout",
     "output_type": "stream",
     "text": [
      "    county_id county_desc precinct_id precinct_desc  contest_name  vote_for  \\\n",
      "75          1    ALAMANCE          01     PATTERSON   NC GOVERNOR       1.0   \n",
      "76          1    ALAMANCE          01     PATTERSON   NC GOVERNOR       1.0   \n",
      "77          1    ALAMANCE          01     PATTERSON   NC GOVERNOR       1.0   \n",
      "78          1    ALAMANCE          01     PATTERSON   NC GOVERNOR       1.0   \n",
      "79          1    ALAMANCE          01     PATTERSON   NC GOVERNOR       1.0   \n",
      "119         1    ALAMANCE          01     PATTERSON  US PRESIDENT       1.0   \n",
      "120         1    ALAMANCE          01     PATTERSON  US PRESIDENT       1.0   \n",
      "121         1    ALAMANCE          01     PATTERSON  US PRESIDENT       1.0   \n",
      "122         1    ALAMANCE          01     PATTERSON  US PRESIDENT       1.0   \n",
      "123         1    ALAMANCE          01     PATTERSON  US PRESIDENT       1.0   \n",
      "\n",
      "           candidate   votes state_county_id  VTD_Key  \n",
      "75         Lon Cecil    45.0           37001  3700101  \n",
      "76        OVER VOTES     0.0           37001  3700101  \n",
      "77       Pat McCrory  1806.0           37001  3700101  \n",
      "78        Roy Cooper   499.0           37001  3700101  \n",
      "79       UNDER VOTES    17.0           37001  3700101  \n",
      "119  Donald J. Trump  1865.0           37001  3700101  \n",
      "120     Gary Johnson    50.0           37001  3700101  \n",
      "121  Hillary Clinton   411.0           37001  3700101  \n",
      "122       OVER VOTES     0.0           37001  3700101  \n",
      "123      UNDER VOTES    16.0           37001  3700101  \n"
     ]
    }
   ],
   "source": [
    "#Filter out irrelevant races and create a VTD_Key field using the precinct name column\n",
    "office_list_2016=[\"US PRESIDENT\",\"US SENATE\",\"NC GOVERNOR\"]\n",
    "election_data_2016_sort=election_data_2016_sort[election_data_2016_sort['contest_name'].isin(office_list_2016)]\n",
    "\n",
    "election_data_2016_sort['state_county_id']=election_data_2016_sort['county_desc'].map(my_county)\n",
    "election_data_2016_sort['VTD_Key']=election_data_2016_sort['state_county_id']+election_data_2016_sort['precinct_id']\n",
    "print(election_data_2016_sort.head(10))"
   ]
  },
  {
   "cell_type": "code",
   "execution_count": 41,
   "metadata": {},
   "outputs": [],
   "source": [
    "#Pivot based off of the VTD Key column, change column names and add result totals columns\n",
    "pivoted_2016 = pd.pivot_table(election_data_2016_sort, values=['votes'], index=[\"VTD_Key\"],columns=[\"contest_name\",\"candidate\"])\n",
    "pivoted_2016.columns = [\"EL16G_GV_L\",\"EL16G_GV_OVER\",\"EL16G_GV_R\",\"EL16G_GV_D\",\"EL16G_GV_UNDER\",\n",
    "                       \"EL16G_PR_R\",\"EL16G_PR_L\",\"EL16G_PR_D\",\"EL16G_PR_OVER\",\"EL16G_PR_UNDER\",\"EL16G_PR_W\",\n",
    "                       \"EL16G_US_1\",\"EL16G_US_OVER\",\"EL16G_USS_\",\"EL16G_US_2\",\"EL16G_US_UNDER\"]\n",
    "pivoted_2016 = pivoted_2016.drop([\"EL16G_GV_OVER\",\"EL16G_GV_UNDER\",\"EL16G_PR_OVER\",\"EL16G_PR_UNDER\",\"EL16G_US_OVER\",\"EL16G_US_UNDER\"],axis=1)\n",
    "pivoted_2016[\"EL16G_PR_T\"]=pivoted_2016[\"EL16G_PR_R\"]+pivoted_2016[\"EL16G_PR_L\"]+pivoted_2016[\"EL16G_PR_D\"]+pivoted_2016[\"EL16G_PR_W\"]\n",
    "pivoted_2016[\"EL16G_GV_T\"]=pivoted_2016[\"EL16G_GV_L\"]+pivoted_2016[\"EL16G_GV_R\"]+pivoted_2016[\"EL16G_GV_D\"]\n",
    "pivoted_2016[\"EL16G_US_3\"]=pivoted_2016[\"EL16G_US_1\"]+pivoted_2016[\"EL16G_US_2\"]+pivoted_2016[\"EL16G_USS_\"]"
   ]
  },
  {
   "cell_type": "code",
   "execution_count": 42,
   "metadata": {},
   "outputs": [
    {
     "name": "stdout",
     "output_type": "stream",
     "text": [
      "    VTD_Key  EL16G_GV_L  EL16G_GV_R  EL16G_GV_D  EL16G_PR_R  EL16G_PR_L  \\\n",
      "0   3700101        45.0      1806.0       499.0      1865.0        50.0   \n",
      "1   3700102        39.0      1927.0       497.0      2004.0        40.0   \n",
      "2  37001035        52.0      1446.0      1060.0      1485.0        77.0   \n",
      "3  3700103C        35.0      1072.0       748.0      1059.0        64.0   \n",
      "4  3700103N        36.0      1146.0      1101.0      1160.0        66.0   \n",
      "\n",
      "   EL16G_PR_D  EL16G_PR_W  EL16G_US_1  EL16G_USS_  EL16G_US_2  EL16G_PR_T  \\\n",
      "0       411.0        25.0       418.0      1829.0        89.0      2351.0   \n",
      "1       403.0        24.0       396.0      1973.0        79.0      2471.0   \n",
      "2       995.0        27.0       926.0      1532.0        96.0      2584.0   \n",
      "3       679.0        33.0       597.0      1194.0        57.0      1835.0   \n",
      "4      1036.0        35.0       956.0      1239.0        81.0      2297.0   \n",
      "\n",
      "   EL16G_GV_T  EL16G_US_3  \n",
      "0      2350.0      2336.0  \n",
      "1      2463.0      2448.0  \n",
      "2      2558.0      2554.0  \n",
      "3      1855.0      1848.0  \n",
      "4      2283.0      2276.0  \n"
     ]
    }
   ],
   "source": [
    "#Reset index to make VTD_Key a column\n",
    "pivoted_2016 = pivoted_2016.reset_index()\n",
    "print(pivoted_2016.head())"
   ]
  },
  {
   "cell_type": "markdown",
   "metadata": {},
   "source": [
    "Code block below is to look into the VTD Keys that don't match: In total, 2,296 match"
   ]
  },
  {
   "cell_type": "code",
   "execution_count": 44,
   "metadata": {},
   "outputs": [
    {
     "ename": "KeyError",
     "evalue": "\"['_merge'] not found in axis\"",
     "output_type": "error",
     "traceback": [
      "\u001b[0;31m---------------------------------------------------------------------------\u001b[0m",
      "\u001b[0;31mKeyError\u001b[0m                                  Traceback (most recent call last)",
      "\u001b[0;32m<ipython-input-44-5996d096ff28>\u001b[0m in \u001b[0;36m<module>\u001b[0;34m\u001b[0m\n\u001b[1;32m      1\u001b[0m \u001b[0;31m#Doing a merge to look into how many VTD_Keys from the '16 results match the VTD file\u001b[0m\u001b[0;34m\u001b[0m\u001b[0;34m\u001b[0m\u001b[0;34m\u001b[0m\u001b[0m\n\u001b[0;32m----> 2\u001b[0;31m \u001b[0mvtds_joined\u001b[0m \u001b[0;34m=\u001b[0m \u001b[0mvtds_joined\u001b[0m\u001b[0;34m.\u001b[0m\u001b[0mdrop\u001b[0m\u001b[0;34m(\u001b[0m\u001b[0;34m[\u001b[0m\u001b[0;34m\"_merge\"\u001b[0m\u001b[0;34m]\u001b[0m\u001b[0;34m,\u001b[0m\u001b[0maxis\u001b[0m\u001b[0;34m=\u001b[0m\u001b[0;36m1\u001b[0m\u001b[0;34m)\u001b[0m\u001b[0;34m\u001b[0m\u001b[0;34m\u001b[0m\u001b[0m\n\u001b[0m\u001b[1;32m      3\u001b[0m \u001b[0mvtds_2016_election\u001b[0m \u001b[0;34m=\u001b[0m \u001b[0mpd\u001b[0m\u001b[0;34m.\u001b[0m\u001b[0mmerge\u001b[0m\u001b[0;34m(\u001b[0m\u001b[0mvtds_joined\u001b[0m\u001b[0;34m,\u001b[0m\u001b[0mpivoted_2016\u001b[0m\u001b[0;34m,\u001b[0m\u001b[0mon\u001b[0m\u001b[0;34m=\u001b[0m\u001b[0;34m[\u001b[0m\u001b[0;34m'VTD_Key'\u001b[0m\u001b[0;34m]\u001b[0m\u001b[0;34m,\u001b[0m\u001b[0mhow\u001b[0m\u001b[0;34m=\u001b[0m\u001b[0;34m'outer'\u001b[0m\u001b[0;34m,\u001b[0m\u001b[0mindicator\u001b[0m\u001b[0;34m=\u001b[0m\u001b[0;32mTrue\u001b[0m\u001b[0;34m)\u001b[0m\u001b[0;34m\u001b[0m\u001b[0;34m\u001b[0m\u001b[0m\n\u001b[1;32m      4\u001b[0m \u001b[0mnc_official_vtds\u001b[0m \u001b[0;34m=\u001b[0m \u001b[0mvtds_2016_election\u001b[0m\u001b[0;34m[\u001b[0m\u001b[0mvtds_2016_election\u001b[0m\u001b[0;34m[\u001b[0m\u001b[0;34m\"_merge\"\u001b[0m\u001b[0;34m]\u001b[0m\u001b[0;34m==\u001b[0m\u001b[0;34m\"left_only\"\u001b[0m\u001b[0;34m]\u001b[0m\u001b[0;34m[\u001b[0m\u001b[0;34m\"VTD_Key\"\u001b[0m\u001b[0;34m]\u001b[0m\u001b[0;34m\u001b[0m\u001b[0;34m\u001b[0m\u001b[0m\n\u001b[1;32m      5\u001b[0m \u001b[0melection_vtds\u001b[0m \u001b[0;34m=\u001b[0m \u001b[0mvtds_2016_election\u001b[0m\u001b[0;34m[\u001b[0m\u001b[0mvtds_2016_election\u001b[0m\u001b[0;34m[\u001b[0m\u001b[0;34m\"_merge\"\u001b[0m\u001b[0;34m]\u001b[0m\u001b[0;34m==\u001b[0m\u001b[0;34m\"right_only\"\u001b[0m\u001b[0;34m]\u001b[0m\u001b[0;34m[\u001b[0m\u001b[0;34m\"VTD_Key\"\u001b[0m\u001b[0;34m]\u001b[0m\u001b[0;34m\u001b[0m\u001b[0;34m\u001b[0m\u001b[0m\n",
      "\u001b[0;32m/opt/anaconda3/lib/python3.8/site-packages/pandas/core/frame.py\u001b[0m in \u001b[0;36mdrop\u001b[0;34m(self, labels, axis, index, columns, level, inplace, errors)\u001b[0m\n\u001b[1;32m   3988\u001b[0m                 \u001b[0mweight\u001b[0m  \u001b[0;36m1.0\u001b[0m     \u001b[0;36m0.8\u001b[0m\u001b[0;34m\u001b[0m\u001b[0;34m\u001b[0m\u001b[0m\n\u001b[1;32m   3989\u001b[0m         \"\"\"\n\u001b[0;32m-> 3990\u001b[0;31m         return super().drop(\n\u001b[0m\u001b[1;32m   3991\u001b[0m             \u001b[0mlabels\u001b[0m\u001b[0;34m=\u001b[0m\u001b[0mlabels\u001b[0m\u001b[0;34m,\u001b[0m\u001b[0;34m\u001b[0m\u001b[0;34m\u001b[0m\u001b[0m\n\u001b[1;32m   3992\u001b[0m             \u001b[0maxis\u001b[0m\u001b[0;34m=\u001b[0m\u001b[0maxis\u001b[0m\u001b[0;34m,\u001b[0m\u001b[0;34m\u001b[0m\u001b[0;34m\u001b[0m\u001b[0m\n",
      "\u001b[0;32m/opt/anaconda3/lib/python3.8/site-packages/pandas/core/generic.py\u001b[0m in \u001b[0;36mdrop\u001b[0;34m(self, labels, axis, index, columns, level, inplace, errors)\u001b[0m\n\u001b[1;32m   3934\u001b[0m         \u001b[0;32mfor\u001b[0m \u001b[0maxis\u001b[0m\u001b[0;34m,\u001b[0m \u001b[0mlabels\u001b[0m \u001b[0;32min\u001b[0m \u001b[0maxes\u001b[0m\u001b[0;34m.\u001b[0m\u001b[0mitems\u001b[0m\u001b[0;34m(\u001b[0m\u001b[0;34m)\u001b[0m\u001b[0;34m:\u001b[0m\u001b[0;34m\u001b[0m\u001b[0;34m\u001b[0m\u001b[0m\n\u001b[1;32m   3935\u001b[0m             \u001b[0;32mif\u001b[0m \u001b[0mlabels\u001b[0m \u001b[0;32mis\u001b[0m \u001b[0;32mnot\u001b[0m \u001b[0;32mNone\u001b[0m\u001b[0;34m:\u001b[0m\u001b[0;34m\u001b[0m\u001b[0;34m\u001b[0m\u001b[0m\n\u001b[0;32m-> 3936\u001b[0;31m                 \u001b[0mobj\u001b[0m \u001b[0;34m=\u001b[0m \u001b[0mobj\u001b[0m\u001b[0;34m.\u001b[0m\u001b[0m_drop_axis\u001b[0m\u001b[0;34m(\u001b[0m\u001b[0mlabels\u001b[0m\u001b[0;34m,\u001b[0m \u001b[0maxis\u001b[0m\u001b[0;34m,\u001b[0m \u001b[0mlevel\u001b[0m\u001b[0;34m=\u001b[0m\u001b[0mlevel\u001b[0m\u001b[0;34m,\u001b[0m \u001b[0merrors\u001b[0m\u001b[0;34m=\u001b[0m\u001b[0merrors\u001b[0m\u001b[0;34m)\u001b[0m\u001b[0;34m\u001b[0m\u001b[0;34m\u001b[0m\u001b[0m\n\u001b[0m\u001b[1;32m   3937\u001b[0m \u001b[0;34m\u001b[0m\u001b[0m\n\u001b[1;32m   3938\u001b[0m         \u001b[0;32mif\u001b[0m \u001b[0minplace\u001b[0m\u001b[0;34m:\u001b[0m\u001b[0;34m\u001b[0m\u001b[0;34m\u001b[0m\u001b[0m\n",
      "\u001b[0;32m/opt/anaconda3/lib/python3.8/site-packages/pandas/core/generic.py\u001b[0m in \u001b[0;36m_drop_axis\u001b[0;34m(self, labels, axis, level, errors)\u001b[0m\n\u001b[1;32m   3968\u001b[0m                 \u001b[0mnew_axis\u001b[0m \u001b[0;34m=\u001b[0m \u001b[0maxis\u001b[0m\u001b[0;34m.\u001b[0m\u001b[0mdrop\u001b[0m\u001b[0;34m(\u001b[0m\u001b[0mlabels\u001b[0m\u001b[0;34m,\u001b[0m \u001b[0mlevel\u001b[0m\u001b[0;34m=\u001b[0m\u001b[0mlevel\u001b[0m\u001b[0;34m,\u001b[0m \u001b[0merrors\u001b[0m\u001b[0;34m=\u001b[0m\u001b[0merrors\u001b[0m\u001b[0;34m)\u001b[0m\u001b[0;34m\u001b[0m\u001b[0;34m\u001b[0m\u001b[0m\n\u001b[1;32m   3969\u001b[0m             \u001b[0;32melse\u001b[0m\u001b[0;34m:\u001b[0m\u001b[0;34m\u001b[0m\u001b[0;34m\u001b[0m\u001b[0m\n\u001b[0;32m-> 3970\u001b[0;31m                 \u001b[0mnew_axis\u001b[0m \u001b[0;34m=\u001b[0m \u001b[0maxis\u001b[0m\u001b[0;34m.\u001b[0m\u001b[0mdrop\u001b[0m\u001b[0;34m(\u001b[0m\u001b[0mlabels\u001b[0m\u001b[0;34m,\u001b[0m \u001b[0merrors\u001b[0m\u001b[0;34m=\u001b[0m\u001b[0merrors\u001b[0m\u001b[0;34m)\u001b[0m\u001b[0;34m\u001b[0m\u001b[0;34m\u001b[0m\u001b[0m\n\u001b[0m\u001b[1;32m   3971\u001b[0m             \u001b[0mresult\u001b[0m \u001b[0;34m=\u001b[0m \u001b[0mself\u001b[0m\u001b[0;34m.\u001b[0m\u001b[0mreindex\u001b[0m\u001b[0;34m(\u001b[0m\u001b[0;34m**\u001b[0m\u001b[0;34m{\u001b[0m\u001b[0maxis_name\u001b[0m\u001b[0;34m:\u001b[0m \u001b[0mnew_axis\u001b[0m\u001b[0;34m}\u001b[0m\u001b[0;34m)\u001b[0m\u001b[0;34m\u001b[0m\u001b[0;34m\u001b[0m\u001b[0m\n\u001b[1;32m   3972\u001b[0m \u001b[0;34m\u001b[0m\u001b[0m\n",
      "\u001b[0;32m/opt/anaconda3/lib/python3.8/site-packages/pandas/core/indexes/base.py\u001b[0m in \u001b[0;36mdrop\u001b[0;34m(self, labels, errors)\u001b[0m\n\u001b[1;32m   5016\u001b[0m         \u001b[0;32mif\u001b[0m \u001b[0mmask\u001b[0m\u001b[0;34m.\u001b[0m\u001b[0many\u001b[0m\u001b[0;34m(\u001b[0m\u001b[0;34m)\u001b[0m\u001b[0;34m:\u001b[0m\u001b[0;34m\u001b[0m\u001b[0;34m\u001b[0m\u001b[0m\n\u001b[1;32m   5017\u001b[0m             \u001b[0;32mif\u001b[0m \u001b[0merrors\u001b[0m \u001b[0;34m!=\u001b[0m \u001b[0;34m\"ignore\"\u001b[0m\u001b[0;34m:\u001b[0m\u001b[0;34m\u001b[0m\u001b[0;34m\u001b[0m\u001b[0m\n\u001b[0;32m-> 5018\u001b[0;31m                 \u001b[0;32mraise\u001b[0m \u001b[0mKeyError\u001b[0m\u001b[0;34m(\u001b[0m\u001b[0;34mf\"{labels[mask]} not found in axis\"\u001b[0m\u001b[0;34m)\u001b[0m\u001b[0;34m\u001b[0m\u001b[0;34m\u001b[0m\u001b[0m\n\u001b[0m\u001b[1;32m   5019\u001b[0m             \u001b[0mindexer\u001b[0m \u001b[0;34m=\u001b[0m \u001b[0mindexer\u001b[0m\u001b[0;34m[\u001b[0m\u001b[0;34m~\u001b[0m\u001b[0mmask\u001b[0m\u001b[0;34m]\u001b[0m\u001b[0;34m\u001b[0m\u001b[0;34m\u001b[0m\u001b[0m\n\u001b[1;32m   5020\u001b[0m         \u001b[0;32mreturn\u001b[0m \u001b[0mself\u001b[0m\u001b[0;34m.\u001b[0m\u001b[0mdelete\u001b[0m\u001b[0;34m(\u001b[0m\u001b[0mindexer\u001b[0m\u001b[0;34m)\u001b[0m\u001b[0;34m\u001b[0m\u001b[0;34m\u001b[0m\u001b[0m\n",
      "\u001b[0;31mKeyError\u001b[0m: \"['_merge'] not found in axis\""
     ]
    }
   ],
   "source": [
    "#Doing a merge to look into how many VTD_Keys from the '16 results match the VTD file\n",
    "vtds_joined = vtds_joined.drop([\"_merge\"],axis=1)\n",
    "vtds_2016_election = pd.merge(vtds_joined,pivoted_2016,on=['VTD_Key'],how='outer',indicator=True)\n",
    "nc_official_vtds = vtds_2016_election[vtds_2016_election[\"_merge\"]==\"left_only\"][\"VTD_Key\"]\n",
    "election_vtds = vtds_2016_election[vtds_2016_election[\"_merge\"]==\"right_only\"][\"VTD_Key\"]\n",
    "matched_vtds = vtds_2016_election[vtds_2016_election[\"_merge\"]==\"both\"][\"VTD_Key\"]\n",
    "\n",
    "print(\"There are \" + str(nc_official_vtds.count()) + \" VTD Keys that only appear in the NC VTD file\")\n",
    "print(\"There are \" + str(election_vtds.count()) + \" VTD Keys that only appear in the '16 election file\")\n",
    "print(\"There are \" + str(matched_vtds.count()) + \" VTD Keys that were matched between the two files\")\n",
    "\n",
    "matched_vtds = pd.Series(matched_vtds)\n",
    "matched_vtds.to_csv(\"./matched_vtds\")\n",
    "\n",
    "nc_official_vtds = pd.Series(nc_official_vtds)\n",
    "nc_official_vtds.to_csv(\"./nc_16_official_vtds.csv\")\n",
    "\n",
    "election_vtds = pd.Series(election_vtds)\n",
    "election_vtds.to_csv(\"./election_16_vtds.csv\")"
   ]
  },
  {
   "cell_type": "code",
   "execution_count": 45,
   "metadata": {},
   "outputs": [
    {
     "name": "stdout",
     "output_type": "stream",
     "text": [
      "(2692, 71)\n",
      "(2695, 14)\n"
     ]
    }
   ],
   "source": [
    "print(vtds_joined.shape)\n",
    "print(pivoted_2016.shape)"
   ]
  },
  {
   "cell_type": "code",
   "execution_count": 46,
   "metadata": {},
   "outputs": [],
   "source": [
    "#Because not all of the VTDs match, this is only a left join\n",
    "vtds_joined = pd.merge(vtds_joined,pivoted_2016,on=['VTD_Key'],how='left',indicator=False)"
   ]
  },
  {
   "cell_type": "code",
   "execution_count": 48,
   "metadata": {},
   "outputs": [
    {
     "name": "stdout",
     "output_type": "stream",
     "text": [
      "(2692, 84)\n"
     ]
    }
   ],
   "source": [
    "print(vtds_joined.shape)"
   ]
  },
  {
   "cell_type": "markdown",
   "metadata": {},
   "source": [
    "**Look at MGGG FINAL FILE (loaded above)**"
   ]
  },
  {
   "cell_type": "code",
   "execution_count": 49,
   "metadata": {},
   "outputs": [
    {
     "data": {
      "text/html": [
       "<div>\n",
       "<style scoped>\n",
       "    .dataframe tbody tr th:only-of-type {\n",
       "        vertical-align: middle;\n",
       "    }\n",
       "\n",
       "    .dataframe tbody tr th {\n",
       "        vertical-align: top;\n",
       "    }\n",
       "\n",
       "    .dataframe thead th {\n",
       "        text-align: right;\n",
       "    }\n",
       "</style>\n",
       "<table border=\"1\" class=\"dataframe\">\n",
       "  <thead>\n",
       "    <tr style=\"text-align: right;\">\n",
       "      <th></th>\n",
       "      <th>ALAND10</th>\n",
       "      <th>AWATER10</th>\n",
       "      <th>VTD</th>\n",
       "      <th>County</th>\n",
       "      <th>VTD_Key</th>\n",
       "      <th>VTD_Name</th>\n",
       "      <th>PL10AA_TOT</th>\n",
       "      <th>PL10VA_TOT</th>\n",
       "      <th>EL08G_GV_D</th>\n",
       "      <th>EL08G_GV_R</th>\n",
       "      <th>...</th>\n",
       "      <th>VAP</th>\n",
       "      <th>HVAP</th>\n",
       "      <th>WVAP</th>\n",
       "      <th>BVAP</th>\n",
       "      <th>AMINVAP</th>\n",
       "      <th>ASIANVAP</th>\n",
       "      <th>NHPIVAP</th>\n",
       "      <th>OTHERVAP</th>\n",
       "      <th>2MOREVAP</th>\n",
       "      <th>geometry</th>\n",
       "    </tr>\n",
       "  </thead>\n",
       "  <tbody>\n",
       "    <tr>\n",
       "      <th>0</th>\n",
       "      <td>1951716.0</td>\n",
       "      <td>32157.0</td>\n",
       "      <td>3700106W</td>\n",
       "      <td>37001</td>\n",
       "      <td>3700106W</td>\n",
       "      <td>06W</td>\n",
       "      <td>1973</td>\n",
       "      <td>1505</td>\n",
       "      <td>330</td>\n",
       "      <td>301</td>\n",
       "      <td>...</td>\n",
       "      <td>1505</td>\n",
       "      <td>211</td>\n",
       "      <td>899</td>\n",
       "      <td>338</td>\n",
       "      <td>4</td>\n",
       "      <td>32</td>\n",
       "      <td>0</td>\n",
       "      <td>0</td>\n",
       "      <td>21</td>\n",
       "      <td>POLYGON ((572318.656 259054.912, 572364.420 25...</td>\n",
       "    </tr>\n",
       "    <tr>\n",
       "      <th>1</th>\n",
       "      <td>2887286.0</td>\n",
       "      <td>0.0</td>\n",
       "      <td>3700112E</td>\n",
       "      <td>37001</td>\n",
       "      <td>3700112E</td>\n",
       "      <td>12E</td>\n",
       "      <td>3391</td>\n",
       "      <td>2503</td>\n",
       "      <td>586</td>\n",
       "      <td>263</td>\n",
       "      <td>...</td>\n",
       "      <td>2503</td>\n",
       "      <td>622</td>\n",
       "      <td>1085</td>\n",
       "      <td>712</td>\n",
       "      <td>19</td>\n",
       "      <td>38</td>\n",
       "      <td>0</td>\n",
       "      <td>2</td>\n",
       "      <td>25</td>\n",
       "      <td>POLYGON ((572318.656 259054.912, 572310.834 25...</td>\n",
       "    </tr>\n",
       "  </tbody>\n",
       "</table>\n",
       "<p>2 rows × 85 columns</p>\n",
       "</div>"
      ],
      "text/plain": [
       "     ALAND10  AWATER10       VTD County   VTD_Key VTD_Name  PL10AA_TOT  \\\n",
       "0  1951716.0   32157.0  3700106W  37001  3700106W      06W        1973   \n",
       "1  2887286.0       0.0  3700112E  37001  3700112E      12E        3391   \n",
       "\n",
       "   PL10VA_TOT  EL08G_GV_D  EL08G_GV_R  ...   VAP  HVAP  WVAP  BVAP  AMINVAP  \\\n",
       "0        1505         330         301  ...  1505   211   899   338        4   \n",
       "1        2503         586         263  ...  2503   622  1085   712       19   \n",
       "\n",
       "   ASIANVAP  NHPIVAP  OTHERVAP  2MOREVAP  \\\n",
       "0        32        0         0        21   \n",
       "1        38        0         2        25   \n",
       "\n",
       "                                            geometry  \n",
       "0  POLYGON ((572318.656 259054.912, 572364.420 25...  \n",
       "1  POLYGON ((572318.656 259054.912, 572310.834 25...  \n",
       "\n",
       "[2 rows x 85 columns]"
      ]
     },
     "execution_count": 49,
     "metadata": {},
     "output_type": "execute_result"
    }
   ],
   "source": [
    "final_mggg.head(2)"
   ]
  },
  {
   "cell_type": "code",
   "execution_count": 50,
   "metadata": {},
   "outputs": [
    {
     "name": "stdout",
     "output_type": "stream",
     "text": [
      "['ALAND10', 'AWATER10', 'VTD', 'County', 'VTD_Key', 'VTD_Name', 'PL10AA_TOT', 'PL10VA_TOT', 'EL08G_GV_D', 'EL08G_GV_R', 'EL08G_GV_L', 'EL08G_GV_T', 'EL08G_USS_', 'EL08G_US_1', 'EL08G_US_2', 'EL08G_US_3', 'EL08G_US_4', 'EL10G_USS_', 'EL10G_US_1', 'EL10G_US_2', 'EL10G_US_3', 'EL10G_US_4', 'EL12G_GV_D', 'EL12G_GV_R', 'EL12G_GV_L', 'EL12G_GV_W', 'EL12G_GV_1', 'EL12G_GV_T', 'EL14G_USS_', 'EL14G_US_1', 'EL14G_US_2', 'EL14G_US_3', 'EL14G_US_4', 'Shape_Leng', 'Shape_Area', 'EL12G_PR_D', 'EL12G_PR_R', 'EL12G_PR_L', 'EL12G_PR_W', 'EL12G_PR_1', 'EL12G_PR_T', 'EL16G_PR_R', 'EL16G_PR_D', 'EL16G_PR_L', 'EL16G_PR_W', 'EL16G_PR_T', 'EL16G_USS_', 'EL16G_US_1', 'EL16G_US_2', 'EL16G_US_3', 'EL16G_GV_D', 'EL16G_GV_R', 'EL16G_GV_L', 'EL16G_GV_T', 'BPOP', 'nBPOP', 'judge', 'newplan', 'oldplan', 'TOTPOP', 'NH_WHITE', 'NH_BLACK', 'NH_AMIN', 'NH_ASIAN', 'NH_NHPI', 'NH_OTHER', 'NH_2MORE', 'HISP', 'H_WHITE', 'H_BLACK', 'H_AMIN', 'H_ASIAN', 'H_NHPI', 'H_OTHER', 'H_2MORE', 'VAP', 'HVAP', 'WVAP', 'BVAP', 'AMINVAP', 'ASIANVAP', 'NHPIVAP', 'OTHERVAP', '2MOREVAP', 'geometry']\n"
     ]
    }
   ],
   "source": [
    "final_mggg.shape\n",
    "print(final_mggg.columns.tolist())\n",
    "column_Order = final_mggg.columns.tolist()"
   ]
  },
  {
   "cell_type": "markdown",
   "metadata": {},
   "source": [
    "**Validation**"
   ]
  },
  {
   "cell_type": "code",
   "execution_count": 51,
   "metadata": {},
   "outputs": [],
   "source": [
    "validate=pd.merge(vtds_joined,final_mggg, on=['VTD_Key'],how='inner')"
   ]
  },
  {
   "cell_type": "code",
   "execution_count": 52,
   "metadata": {},
   "outputs": [
    {
     "name": "stdout",
     "output_type": "stream",
     "text": [
      "(2692, 168)\n",
      "(2692, 85)\n"
     ]
    }
   ],
   "source": [
    "#rows before and after are the same\n",
    "print(validate.shape)\n",
    "print(final_mggg.shape)"
   ]
  },
  {
   "cell_type": "markdown",
   "metadata": {},
   "source": [
    "**Validate Demo Data and Elections**"
   ]
  },
  {
   "cell_type": "code",
   "execution_count": 53,
   "metadata": {},
   "outputs": [
    {
     "name": "stdout",
     "output_type": "stream",
     "text": [
      "For newplan total difference is: 2785.0\n",
      "For oldplan total difference is: -788991.0\n",
      "For EL16G_PR_R total difference is: nan\n",
      "For EL16G_PR_D total difference is: nan\n",
      "For EL16G_PR_L total difference is: nan\n",
      "For EL16G_PR_W total difference is: nan\n",
      "For EL16G_PR_T total difference is: nan\n",
      "For EL16G_USS_ total difference is: nan\n",
      "For EL16G_US_1 total difference is: nan\n",
      "For EL16G_US_2 total difference is: nan\n",
      "For EL16G_US_3 total difference is: nan\n",
      "For EL16G_GV_D total difference is: nan\n",
      "For EL16G_GV_R total difference is: nan\n",
      "For EL16G_GV_L total difference is: nan\n",
      "For EL16G_GV_T total difference is: nan\n"
     ]
    }
   ],
   "source": [
    "#Column List should just be a list of columns to be compared with quantitative values\n",
    "#Validating the various columns found in both\n",
    "\n",
    "def validater(df,column_List):\n",
    "    for i in column_List:\n",
    "        left_Data = i + \"_x\"\n",
    "        right_Data = i + \"_y\"\n",
    "        if(sum(df[left_Data]-df[right_Data]) != 0):\n",
    "            print(\"For \" + i + \" total difference is: \" + str(sum(df[left_Data]-df[right_Data])))\n",
    "        \n",
    "validater(validate,['ALAND10', 'AWATER10', 'PL10AA_TOT', 'PL10VA_TOT', 'EL08G_GV_D', 'EL08G_GV_R', 'EL08G_GV_L', 'EL08G_GV_T', 'EL08G_USS_', 'EL08G_US_1', 'EL08G_US_2', 'EL08G_US_3', 'EL08G_US_4', 'EL10G_USS_', 'EL10G_US_1', 'EL10G_US_2', 'EL10G_US_3', 'EL10G_US_4', 'EL12G_GV_D', 'EL12G_GV_R', 'EL12G_GV_L', 'EL12G_GV_W', 'EL12G_GV_1', 'EL12G_GV_T', 'EL14G_USS_', 'EL14G_US_1', 'EL14G_US_2', 'EL14G_US_3', 'EL14G_US_4', 'Shape_Leng', 'Shape_Area','BPOP', 'nBPOP', 'newplan', 'oldplan', 'TOTPOP', 'NH_WHITE', 'NH_BLACK', 'NH_AMIN', 'NH_ASIAN', 'NH_NHPI', 'NH_OTHER', 'NH_2MORE', 'HISP', 'H_WHITE', 'H_BLACK', 'H_AMIN', 'H_ASIAN', 'H_NHPI', 'H_OTHER', 'H_2MORE', 'VAP', 'HVAP', 'WVAP', 'BVAP', 'AMINVAP', 'ASIANVAP', 'NHPIVAP', 'OTHERVAP', '2MOREVAP','EL12G_PR_D', 'EL12G_PR_R', 'EL12G_PR_L', 'EL12G_PR_W', 'EL12G_PR_1', 'EL12G_PR_T', 'EL16G_PR_R', 'EL16G_PR_D', 'EL16G_PR_L', 'EL16G_PR_W', 'EL16G_PR_T', 'EL16G_USS_', 'EL16G_US_1', 'EL16G_US_2', 'EL16G_US_3', 'EL16G_GV_D', 'EL16G_GV_R', 'EL16G_GV_L', 'EL16G_GV_T',])       \n"
   ]
  },
  {
   "cell_type": "markdown",
   "metadata": {},
   "source": [
    "Looks like there may be an issue with the plans and the 2016 data (which is expected given all VTD Keys didn't match)"
   ]
  },
  {
   "cell_type": "markdown",
   "metadata": {},
   "source": [
    "**Check Enacted Plans**"
   ]
  },
  {
   "cell_type": "markdown",
   "metadata": {},
   "source": [
    "New Plan"
   ]
  },
  {
   "cell_type": "code",
   "execution_count": 54,
   "metadata": {},
   "outputs": [
    {
     "name": "stdout",
     "output_type": "stream",
     "text": [
      "AxesSubplot(0.125,0.275331;0.775x0.454339)\n",
      "AxesSubplot(0.125,0.275331;0.775x0.454339)\n"
     ]
    },
    {
     "data": {
      "image/png": "[encoded data removed]",
      "text/plain": [
       "<Figure size 432x288 with 1 Axes>"
      ]
     },
     "metadata": {
      "needs_background": "light"
     },
     "output_type": "display_data"
    },
    {
     "data": {
      "image/png": "[encoded data removed]",
      "text/plain": [
       "<Figure size 432x288 with 1 Axes>"
      ]
     },
     "metadata": {
      "needs_background": "light"
     },
     "output_type": "display_data"
    }
   ],
   "source": [
    "#The plans look the same when mapping them, so likely a numbering issue\n",
    "print(vtds_joined.plot(column='newplan'))\n",
    "print(final_mggg.plot(column='newplan'))"
   ]
  },
  {
   "cell_type": "code",
   "execution_count": 55,
   "metadata": {},
   "outputs": [
    {
     "name": "stdout",
     "output_type": "stream",
     "text": [
      "0\n"
     ]
    }
   ],
   "source": [
    "#Map the labels from one map to match the other to see if the underlying geographies are the same and just the labels are different\n",
    "update_newplan= {11:6, 2:5,9:9,0:3,7:1,3:7, 4:10, 12:11,5:8,6:13,1:4,10:2,8:12}\n",
    "validate['newplan_y_reindex']=validate['newplan_y'].map(update_newplan)\n",
    "validate['newplan_diff_corrected']=validate.newplan_x-validate.newplan_y_reindex\n",
    "\n",
    "#After matching the numberings, the plans match exactly\n",
    "print(sum(validate['newplan_diff_corrected']))"
   ]
  },
  {
   "cell_type": "markdown",
   "metadata": {},
   "source": [
    "Old Plan"
   ]
  },
  {
   "cell_type": "code",
   "execution_count": 56,
   "metadata": {},
   "outputs": [
    {
     "name": "stdout",
     "output_type": "stream",
     "text": [
      "AxesSubplot(0.125,0.275331;0.775x0.454339)\n",
      "AxesSubplot(0.125,0.275331;0.775x0.454339)\n"
     ]
    },
    {
     "data": {
      "image/png": "[encoded data removed]",
      "text/plain": [
       "<Figure size 432x288 with 1 Axes>"
      ]
     },
     "metadata": {
      "needs_background": "light"
     },
     "output_type": "display_data"
    },
    {
     "data": {
      "image/png": "[encoded data removed]",
      "text/plain": [
       "<Figure size 432x288 with 1 Axes>"
      ]
     },
     "metadata": {
      "needs_background": "light"
     },
     "output_type": "display_data"
    }
   ],
   "source": [
    "#The plans look the same when mapping them, so likely a numbering issue\n",
    "print(vtds_joined.plot(column='oldplan'))\n",
    "print(final_mggg.plot(column='oldplan'))"
   ]
  },
  {
   "cell_type": "code",
   "execution_count": 59,
   "metadata": {},
   "outputs": [
    {
     "name": "stdout",
     "output_type": "stream",
     "text": [
      "[296. 297. 300. 301. 305. 303. 298. 294. 295. 299. 306. 302. 304.]\n",
      "0\n"
     ]
    }
   ],
   "source": [
    "#MGGG's file using a 435 number labeling, where we used a 1-13 labeling\n",
    "print(validate['oldplan_y'].unique())\n",
    "\n",
    "#Map the labels from one map to match the other to see if the underlying geographies are the same and just the labels are different\n",
    "update_oldplan= {296:6, 297:10,300:8,301:9, 305:12,303:3, 298:7, 294:1,295:11,299:2,306:4,302:5,304:13}\n",
    "validate['oldplan_y_reindex']=validate['oldplan_y'].map(update_oldplan)\n",
    "validate['oldplan_diff_corrected']=validate.oldplan_x-validate.oldplan_y_reindex\n",
    "\n",
    "#After matching the numberings, the plans match exactly\n",
    "print(sum(validate['oldplan_diff_corrected']))"
   ]
  },
  {
   "cell_type": "markdown",
   "metadata": {},
   "source": [
    "**Check 2016 Election Results**"
   ]
  },
  {
   "cell_type": "code",
   "execution_count": 60,
   "metadata": {},
   "outputs": [
    {
     "name": "stdout",
     "output_type": "stream",
     "text": [
      "For:  EL16G_PR_R\n",
      " 0.0      2288\n",
      "-214.0       2\n",
      "-485.0       1\n",
      "-187.0       1\n",
      "-21.0        1\n",
      "-24.0        1\n",
      "-1.0         1\n",
      " 1.0         1\n",
      "dtype: int64\n",
      "\n",
      "For:  EL16G_PR_D\n",
      " 0.0      2288\n",
      "-167.0       1\n",
      "-291.0       1\n",
      "-305.0       1\n",
      "-397.0       1\n",
      "-310.0       1\n",
      "-210.0       1\n",
      "-1.0         1\n",
      " 1.0         1\n",
      "dtype: int64\n",
      "\n",
      "For:  EL16G_PR_L\n",
      " 0.0     2290\n",
      "-7.0        1\n",
      "-3.0        1\n",
      "-18.0       1\n",
      "-4.0        1\n",
      "-6.0        1\n",
      "-13.0       1\n",
      "dtype: int64\n",
      "\n",
      "For:  EL16G_PR_W\n",
      " 0.0    2291\n",
      "-2.0       2\n",
      "-4.0       1\n",
      "-1.0       1\n",
      "-9.0       1\n",
      "dtype: int64\n",
      "\n",
      "For:  EL16G_PR_T\n",
      " 0.0      2288\n",
      "-389.0       1\n",
      "-426.0       1\n",
      "-236.0       1\n",
      "-546.0       1\n",
      "-808.0       1\n",
      "-489.0       1\n",
      "-2.0         1\n",
      " 2.0         1\n",
      "dtype: int64\n",
      "\n",
      "For:  EL16G_USS_\n",
      " 0.0      2288\n",
      "-223.0       1\n",
      "-243.0       1\n",
      "-217.0       1\n",
      "-28.0        1\n",
      "-448.0       1\n",
      "-30.0        1\n",
      "-1.0         1\n",
      " 1.0         1\n",
      "dtype: int64\n",
      "\n",
      "For:  EL16G_US_1\n",
      " 0.0      2288\n",
      "-151.0       1\n",
      "-394.0       1\n",
      "-323.0       1\n",
      "-197.0       1\n",
      "-265.0       1\n",
      "-1.0         1\n",
      " 1.0         1\n",
      "-288.0       1\n",
      "dtype: int64\n",
      "\n",
      "For:  EL16G_US_2\n",
      " 0.0     2290\n",
      "-7.0        2\n",
      "-20.0       1\n",
      "-3.0        1\n",
      "-9.0        1\n",
      "-5.0        1\n",
      "dtype: int64\n",
      "\n",
      "For:  EL16G_US_3\n",
      " 0.0      2288\n",
      "-536.0       1\n",
      "-791.0       1\n",
      "-383.0       1\n",
      "-427.0       1\n",
      "-489.0       1\n",
      "-232.0       1\n",
      "-2.0         1\n",
      " 2.0         1\n",
      "dtype: int64\n",
      "\n",
      "For:  EL16G_GV_D\n",
      " 0.0      2288\n",
      "-291.0       1\n",
      "-296.0       1\n",
      "-395.0       1\n",
      "-171.0       1\n",
      "-288.0       1\n",
      "-200.0       1\n",
      "-1.0         1\n",
      " 1.0         1\n",
      "dtype: int64\n",
      "\n",
      "For:  EL16G_GV_R\n",
      " 0.0      2288\n",
      "-198.0       1\n",
      "-507.0       1\n",
      "-210.0       1\n",
      "-29.0        1\n",
      "-32.0        1\n",
      "-1.0         1\n",
      " 1.0         1\n",
      "-240.0       1\n",
      "dtype: int64\n",
      "\n",
      "For:  EL16G_GV_L\n",
      " 0.0    2290\n",
      "-6.0       2\n",
      "-3.0       1\n",
      "-5.0       1\n",
      "-8.0       1\n",
      "-1.0       1\n",
      "dtype: int64\n",
      "\n",
      "For:  EL16G_GV_T\n",
      " 0.0      2288\n",
      "-806.0       1\n",
      "-428.0       1\n",
      "-387.0       1\n",
      "-542.0       1\n",
      "-234.0       1\n",
      "-489.0       1\n",
      "-2.0         1\n",
      " 2.0         1\n",
      "dtype: int64\n",
      "\n"
     ]
    }
   ],
   "source": [
    "#This function works are the NaN values present in the '16 results because of the mismatched VTD_Keys\n",
    "#This functions create a new difference columns and prints out the difference values\n",
    "def validater_nan(df,column_List):\n",
    "    for i in column_List:\n",
    "        left_Data = i + \"_x\"\n",
    "        right_Data = i + \"_y\"\n",
    "        diff_column = i + \"_diff\"\n",
    "        print(\"For: \", i)\n",
    "        print((validate[left_Data]-validate[right_Data]).value_counts())\n",
    "        print(\"\")\n",
    "        validate[diff_column]=validate[left_Data]-validate[right_Data]\n",
    "        \n",
    "        \n",
    "validater_nan(validate,['EL16G_PR_R', 'EL16G_PR_D', 'EL16G_PR_L', 'EL16G_PR_W', 'EL16G_PR_T', 'EL16G_USS_', 'EL16G_US_1', 'EL16G_US_2', 'EL16G_US_3', 'EL16G_GV_D', 'EL16G_GV_R', 'EL16G_GV_L', 'EL16G_GV_T',])\n"
   ]
  },
  {
   "cell_type": "code",
   "execution_count": 61,
   "metadata": {},
   "outputs": [
    {
     "data": {
      "text/plain": [
       "VTD_Key            2288\n",
       "BPOP_x             2288\n",
       "nBPOP_x            2288\n",
       "TOTPOP_x           2288\n",
       "NH_WHITE_x         2288\n",
       "                   ... \n",
       "EL16G_US_3_diff    2288\n",
       "EL16G_GV_D_diff    2288\n",
       "EL16G_GV_R_diff    2288\n",
       "EL16G_GV_L_diff    2288\n",
       "EL16G_GV_T_diff    2288\n",
       "Length: 186, dtype: int64"
      ]
     },
     "execution_count": 61,
     "metadata": {},
     "output_type": "execute_result"
    }
   ],
   "source": [
    "#Overall, 2,288 of the 2,296 (see above) VTDs that match have values that match exactly\n",
    "\n",
    "diff_list = 'EL16G_PR_R_diff','EL16G_PR_D_diff','EL16G_PR_L_diff','EL16G_PR_W_diff','EL16G_PR_T_diff', 'EL16G_USS__diff','EL16G_US_1_diff', 'EL16G_US_2_diff', 'EL16G_US_3_diff','EL16G_GV_D_diff', 'EL16G_GV_R_diff', 'EL16G_GV_L_diff','EL16G_GV_T_diff'\n",
    "\n",
    "same_2016 = validate[(validate['EL16G_PR_R_diff']==0)&(validate['EL16G_PR_D_diff']==0)&\n",
    "        (validate['EL16G_PR_L_diff']==0) &(validate['EL16G_PR_W_diff']==0)&\n",
    "        (validate['EL16G_PR_T_diff']==0) &(validate['EL16G_USS__diff']==0)&\n",
    "        (validate['EL16G_US_1_diff']==0) &(validate['EL16G_US_2_diff']==0)&\n",
    "        (validate['EL16G_US_3_diff']==0) &(validate['EL16G_GV_D_diff']==0)&\n",
    "        (validate['EL16G_GV_R_diff']==0) &(validate['EL16G_GV_L_diff']==0)&\n",
    "        (validate['EL16G_GV_T_diff']==0)]\n",
    "same_2016.count()\n"
   ]
  }
 ],
 "metadata": {
  "kernelspec": {
   "display_name": "Python 3",
   "language": "python",
   "name": "python3"
  },
  "language_info": {
   "codemirror_mode": {
    "name": "ipython",
    "version": 3
   },
   "file_extension": ".py",
   "mimetype": "text/x-python",
   "name": "python",
   "nbconvert_exporter": "python",
   "pygments_lexer": "ipython3",
   "version": "3.8.8"
  }
 },
 "nbformat": 4,
 "nbformat_minor": 4
}
